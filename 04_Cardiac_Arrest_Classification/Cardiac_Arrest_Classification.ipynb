{
 "cells": [
  {
   "cell_type": "markdown",
   "id": "855a2397",
   "metadata": {
    "papermill": {
     "duration": 0.004121,
     "end_time": "2025-07-15T15:32:52.581918",
     "exception": false,
     "start_time": "2025-07-15T15:32:52.577797",
     "status": "completed"
    },
    "tags": []
   },
   "source": [
    "# CARDIAC ARREST CLASSIFICATION "
   ]
  },
  {
   "cell_type": "markdown",
   "id": "7f495545",
   "metadata": {
    "papermill": {
     "duration": 0.003202,
     "end_time": "2025-07-15T15:32:52.588804",
     "exception": false,
     "start_time": "2025-07-15T15:32:52.585602",
     "status": "completed"
    },
    "tags": []
   },
   "source": [
    "# Import libraries "
   ]
  },
  {
   "cell_type": "code",
   "execution_count": 1,
   "id": "371c7fec",
   "metadata": {
    "_cell_guid": "b1076dfc-b9ad-4769-8c92-a6c4dae69d19",
    "_uuid": "8f2839f25d086af736a60e9eeb907d3b93b6e0e5",
    "execution": {
     "iopub.execute_input": "2025-07-15T15:32:52.597173Z",
     "iopub.status.busy": "2025-07-15T15:32:52.596772Z",
     "iopub.status.idle": "2025-07-15T15:32:57.509915Z",
     "shell.execute_reply": "2025-07-15T15:32:57.509100Z"
    },
    "papermill": {
     "duration": 4.919401,
     "end_time": "2025-07-15T15:32:57.511705",
     "exception": false,
     "start_time": "2025-07-15T15:32:52.592304",
     "status": "completed"
    },
    "tags": []
   },
   "outputs": [],
   "source": [
    "import numpy as np\n",
    "import pandas as pd \n",
    "import matplotlib.pyplot as plt \n",
    "import seaborn as sns \n",
    "from sklearn.preprocessing import MinMaxScaler\n",
    "from sklearn.model_selection import train_test_split \n",
    "from sklearn.tree import DecisionTreeClassifier\n",
    "from sklearn.metrics import (\n",
    "    accuracy_score, precision_score, recall_score, f1_score,\n",
    "    confusion_matrix, classification_report, roc_auc_score,\n",
    "    log_loss, matthews_corrcoef\n",
    ")"
   ]
  },
  {
   "cell_type": "markdown",
   "id": "cf65e141",
   "metadata": {
    "papermill": {
     "duration": 0.003348,
     "end_time": "2025-07-15T15:32:57.518859",
     "exception": false,
     "start_time": "2025-07-15T15:32:57.515511",
     "status": "completed"
    },
    "tags": []
   },
   "source": [
    "# Load Data "
   ]
  },
  {
   "cell_type": "code",
   "execution_count": 2,
   "id": "370223c9",
   "metadata": {
    "execution": {
     "iopub.execute_input": "2025-07-15T15:32:57.527128Z",
     "iopub.status.busy": "2025-07-15T15:32:57.526706Z",
     "iopub.status.idle": "2025-07-15T15:32:57.577097Z",
     "shell.execute_reply": "2025-07-15T15:32:57.576107Z"
    },
    "papermill": {
     "duration": 0.056565,
     "end_time": "2025-07-15T15:32:57.578895",
     "exception": false,
     "start_time": "2025-07-15T15:32:57.522330",
     "status": "completed"
    },
    "tags": []
   },
   "outputs": [
    {
     "data": {
      "text/html": [
       "<div>\n",
       "<style scoped>\n",
       "    .dataframe tbody tr th:only-of-type {\n",
       "        vertical-align: middle;\n",
       "    }\n",
       "\n",
       "    .dataframe tbody tr th {\n",
       "        vertical-align: top;\n",
       "    }\n",
       "\n",
       "    .dataframe thead th {\n",
       "        text-align: right;\n",
       "    }\n",
       "</style>\n",
       "<table border=\"1\" class=\"dataframe\">\n",
       "  <thead>\n",
       "    <tr style=\"text-align: right;\">\n",
       "      <th></th>\n",
       "      <th>age</th>\n",
       "      <th>sex</th>\n",
       "      <th>cp</th>\n",
       "      <th>trestbps</th>\n",
       "      <th>chol</th>\n",
       "      <th>fbs</th>\n",
       "      <th>restecg</th>\n",
       "      <th>thalach</th>\n",
       "      <th>exang</th>\n",
       "      <th>oldpeak</th>\n",
       "      <th>slope</th>\n",
       "      <th>ca</th>\n",
       "      <th>thal</th>\n",
       "      <th>target</th>\n",
       "    </tr>\n",
       "  </thead>\n",
       "  <tbody>\n",
       "    <tr>\n",
       "      <th>0</th>\n",
       "      <td>52</td>\n",
       "      <td>1</td>\n",
       "      <td>0</td>\n",
       "      <td>125</td>\n",
       "      <td>212</td>\n",
       "      <td>0</td>\n",
       "      <td>1</td>\n",
       "      <td>168</td>\n",
       "      <td>0</td>\n",
       "      <td>1.0</td>\n",
       "      <td>2</td>\n",
       "      <td>2</td>\n",
       "      <td>3</td>\n",
       "      <td>0</td>\n",
       "    </tr>\n",
       "    <tr>\n",
       "      <th>1</th>\n",
       "      <td>53</td>\n",
       "      <td>1</td>\n",
       "      <td>0</td>\n",
       "      <td>140</td>\n",
       "      <td>203</td>\n",
       "      <td>1</td>\n",
       "      <td>0</td>\n",
       "      <td>155</td>\n",
       "      <td>1</td>\n",
       "      <td>3.1</td>\n",
       "      <td>0</td>\n",
       "      <td>0</td>\n",
       "      <td>3</td>\n",
       "      <td>0</td>\n",
       "    </tr>\n",
       "    <tr>\n",
       "      <th>2</th>\n",
       "      <td>70</td>\n",
       "      <td>1</td>\n",
       "      <td>0</td>\n",
       "      <td>145</td>\n",
       "      <td>174</td>\n",
       "      <td>0</td>\n",
       "      <td>1</td>\n",
       "      <td>125</td>\n",
       "      <td>1</td>\n",
       "      <td>2.6</td>\n",
       "      <td>0</td>\n",
       "      <td>0</td>\n",
       "      <td>3</td>\n",
       "      <td>0</td>\n",
       "    </tr>\n",
       "    <tr>\n",
       "      <th>3</th>\n",
       "      <td>61</td>\n",
       "      <td>1</td>\n",
       "      <td>0</td>\n",
       "      <td>148</td>\n",
       "      <td>203</td>\n",
       "      <td>0</td>\n",
       "      <td>1</td>\n",
       "      <td>161</td>\n",
       "      <td>0</td>\n",
       "      <td>0.0</td>\n",
       "      <td>2</td>\n",
       "      <td>1</td>\n",
       "      <td>3</td>\n",
       "      <td>0</td>\n",
       "    </tr>\n",
       "    <tr>\n",
       "      <th>4</th>\n",
       "      <td>62</td>\n",
       "      <td>0</td>\n",
       "      <td>0</td>\n",
       "      <td>138</td>\n",
       "      <td>294</td>\n",
       "      <td>1</td>\n",
       "      <td>1</td>\n",
       "      <td>106</td>\n",
       "      <td>0</td>\n",
       "      <td>1.9</td>\n",
       "      <td>1</td>\n",
       "      <td>3</td>\n",
       "      <td>2</td>\n",
       "      <td>0</td>\n",
       "    </tr>\n",
       "  </tbody>\n",
       "</table>\n",
       "</div>"
      ],
      "text/plain": [
       "   age  sex  cp  trestbps  chol  fbs  restecg  thalach  exang  oldpeak  slope  \\\n",
       "0   52    1   0       125   212    0        1      168      0      1.0      2   \n",
       "1   53    1   0       140   203    1        0      155      1      3.1      0   \n",
       "2   70    1   0       145   174    0        1      125      1      2.6      0   \n",
       "3   61    1   0       148   203    0        1      161      0      0.0      2   \n",
       "4   62    0   0       138   294    1        1      106      0      1.9      1   \n",
       "\n",
       "   ca  thal  target  \n",
       "0   2     3       0  \n",
       "1   0     3       0  \n",
       "2   0     3       0  \n",
       "3   1     3       0  \n",
       "4   3     2       0  "
      ]
     },
     "execution_count": 2,
     "metadata": {},
     "output_type": "execute_result"
    }
   ],
   "source": [
    "df = pd.read_csv(\"/kaggle/input/cardiac-arrest-dataset/cardiac arrest dataset.csv\")\n",
    "df.head()"
   ]
  },
  {
   "cell_type": "markdown",
   "id": "25ab8911",
   "metadata": {
    "papermill": {
     "duration": 0.003718,
     "end_time": "2025-07-15T15:32:57.586636",
     "exception": false,
     "start_time": "2025-07-15T15:32:57.582918",
     "status": "completed"
    },
    "tags": []
   },
   "source": [
    "# Data Analysis "
   ]
  },
  {
   "cell_type": "code",
   "execution_count": 3,
   "id": "59d722ee",
   "metadata": {
    "execution": {
     "iopub.execute_input": "2025-07-15T15:32:57.595500Z",
     "iopub.status.busy": "2025-07-15T15:32:57.595164Z",
     "iopub.status.idle": "2025-07-15T15:32:57.602706Z",
     "shell.execute_reply": "2025-07-15T15:32:57.601637Z"
    },
    "papermill": {
     "duration": 0.013754,
     "end_time": "2025-07-15T15:32:57.604241",
     "exception": false,
     "start_time": "2025-07-15T15:32:57.590487",
     "status": "completed"
    },
    "tags": []
   },
   "outputs": [
    {
     "data": {
      "text/plain": [
       "age         0\n",
       "sex         0\n",
       "cp          0\n",
       "trestbps    0\n",
       "chol        0\n",
       "fbs         0\n",
       "restecg     0\n",
       "thalach     0\n",
       "exang       0\n",
       "oldpeak     0\n",
       "slope       0\n",
       "ca          0\n",
       "thal        0\n",
       "target      0\n",
       "dtype: int64"
      ]
     },
     "execution_count": 3,
     "metadata": {},
     "output_type": "execute_result"
    }
   ],
   "source": [
    "df.isnull().sum()"
   ]
  },
  {
   "cell_type": "code",
   "execution_count": 4,
   "id": "2575b566",
   "metadata": {
    "execution": {
     "iopub.execute_input": "2025-07-15T15:32:57.613971Z",
     "iopub.status.busy": "2025-07-15T15:32:57.613621Z",
     "iopub.status.idle": "2025-07-15T15:32:57.620749Z",
     "shell.execute_reply": "2025-07-15T15:32:57.619849Z"
    },
    "papermill": {
     "duration": 0.013945,
     "end_time": "2025-07-15T15:32:57.622237",
     "exception": false,
     "start_time": "2025-07-15T15:32:57.608292",
     "status": "completed"
    },
    "tags": []
   },
   "outputs": [
    {
     "data": {
      "text/plain": [
       "age           int64\n",
       "sex           int64\n",
       "cp            int64\n",
       "trestbps      int64\n",
       "chol          int64\n",
       "fbs           int64\n",
       "restecg       int64\n",
       "thalach       int64\n",
       "exang         int64\n",
       "oldpeak     float64\n",
       "slope         int64\n",
       "ca            int64\n",
       "thal          int64\n",
       "target        int64\n",
       "dtype: object"
      ]
     },
     "execution_count": 4,
     "metadata": {},
     "output_type": "execute_result"
    }
   ],
   "source": [
    "df.dtypes"
   ]
  },
  {
   "cell_type": "code",
   "execution_count": 5,
   "id": "a4667ec9",
   "metadata": {
    "execution": {
     "iopub.execute_input": "2025-07-15T15:32:57.631573Z",
     "iopub.status.busy": "2025-07-15T15:32:57.631224Z",
     "iopub.status.idle": "2025-07-15T15:32:57.657983Z",
     "shell.execute_reply": "2025-07-15T15:32:57.656875Z"
    },
    "papermill": {
     "duration": 0.033235,
     "end_time": "2025-07-15T15:32:57.659558",
     "exception": false,
     "start_time": "2025-07-15T15:32:57.626323",
     "status": "completed"
    },
    "tags": []
   },
   "outputs": [
    {
     "name": "stdout",
     "output_type": "stream",
     "text": [
      "<class 'pandas.core.frame.DataFrame'>\n",
      "RangeIndex: 1025 entries, 0 to 1024\n",
      "Data columns (total 14 columns):\n",
      " #   Column    Non-Null Count  Dtype  \n",
      "---  ------    --------------  -----  \n",
      " 0   age       1025 non-null   int64  \n",
      " 1   sex       1025 non-null   int64  \n",
      " 2   cp        1025 non-null   int64  \n",
      " 3   trestbps  1025 non-null   int64  \n",
      " 4   chol      1025 non-null   int64  \n",
      " 5   fbs       1025 non-null   int64  \n",
      " 6   restecg   1025 non-null   int64  \n",
      " 7   thalach   1025 non-null   int64  \n",
      " 8   exang     1025 non-null   int64  \n",
      " 9   oldpeak   1025 non-null   float64\n",
      " 10  slope     1025 non-null   int64  \n",
      " 11  ca        1025 non-null   int64  \n",
      " 12  thal      1025 non-null   int64  \n",
      " 13  target    1025 non-null   int64  \n",
      "dtypes: float64(1), int64(13)\n",
      "memory usage: 112.2 KB\n"
     ]
    }
   ],
   "source": [
    "df.info()"
   ]
  },
  {
   "cell_type": "code",
   "execution_count": 6,
   "id": "dad4d4e7",
   "metadata": {
    "execution": {
     "iopub.execute_input": "2025-07-15T15:32:57.671002Z",
     "iopub.status.busy": "2025-07-15T15:32:57.670689Z",
     "iopub.status.idle": "2025-07-15T15:32:57.715471Z",
     "shell.execute_reply": "2025-07-15T15:32:57.714433Z"
    },
    "papermill": {
     "duration": 0.052044,
     "end_time": "2025-07-15T15:32:57.717315",
     "exception": false,
     "start_time": "2025-07-15T15:32:57.665271",
     "status": "completed"
    },
    "tags": []
   },
   "outputs": [
    {
     "data": {
      "text/html": [
       "<div>\n",
       "<style scoped>\n",
       "    .dataframe tbody tr th:only-of-type {\n",
       "        vertical-align: middle;\n",
       "    }\n",
       "\n",
       "    .dataframe tbody tr th {\n",
       "        vertical-align: top;\n",
       "    }\n",
       "\n",
       "    .dataframe thead th {\n",
       "        text-align: right;\n",
       "    }\n",
       "</style>\n",
       "<table border=\"1\" class=\"dataframe\">\n",
       "  <thead>\n",
       "    <tr style=\"text-align: right;\">\n",
       "      <th></th>\n",
       "      <th>age</th>\n",
       "      <th>sex</th>\n",
       "      <th>cp</th>\n",
       "      <th>trestbps</th>\n",
       "      <th>chol</th>\n",
       "      <th>fbs</th>\n",
       "      <th>restecg</th>\n",
       "      <th>thalach</th>\n",
       "      <th>exang</th>\n",
       "      <th>oldpeak</th>\n",
       "      <th>slope</th>\n",
       "      <th>ca</th>\n",
       "      <th>thal</th>\n",
       "      <th>target</th>\n",
       "    </tr>\n",
       "  </thead>\n",
       "  <tbody>\n",
       "    <tr>\n",
       "      <th>count</th>\n",
       "      <td>1025.000000</td>\n",
       "      <td>1025.000000</td>\n",
       "      <td>1025.000000</td>\n",
       "      <td>1025.000000</td>\n",
       "      <td>1025.00000</td>\n",
       "      <td>1025.000000</td>\n",
       "      <td>1025.000000</td>\n",
       "      <td>1025.000000</td>\n",
       "      <td>1025.000000</td>\n",
       "      <td>1025.000000</td>\n",
       "      <td>1025.000000</td>\n",
       "      <td>1025.000000</td>\n",
       "      <td>1025.000000</td>\n",
       "      <td>1025.000000</td>\n",
       "    </tr>\n",
       "    <tr>\n",
       "      <th>mean</th>\n",
       "      <td>54.434146</td>\n",
       "      <td>0.695610</td>\n",
       "      <td>0.942439</td>\n",
       "      <td>131.611707</td>\n",
       "      <td>246.00000</td>\n",
       "      <td>0.149268</td>\n",
       "      <td>0.529756</td>\n",
       "      <td>149.114146</td>\n",
       "      <td>0.336585</td>\n",
       "      <td>1.071512</td>\n",
       "      <td>1.385366</td>\n",
       "      <td>0.754146</td>\n",
       "      <td>2.323902</td>\n",
       "      <td>0.513171</td>\n",
       "    </tr>\n",
       "    <tr>\n",
       "      <th>std</th>\n",
       "      <td>9.072290</td>\n",
       "      <td>0.460373</td>\n",
       "      <td>1.029641</td>\n",
       "      <td>17.516718</td>\n",
       "      <td>51.59251</td>\n",
       "      <td>0.356527</td>\n",
       "      <td>0.527878</td>\n",
       "      <td>23.005724</td>\n",
       "      <td>0.472772</td>\n",
       "      <td>1.175053</td>\n",
       "      <td>0.617755</td>\n",
       "      <td>1.030798</td>\n",
       "      <td>0.620660</td>\n",
       "      <td>0.500070</td>\n",
       "    </tr>\n",
       "    <tr>\n",
       "      <th>min</th>\n",
       "      <td>29.000000</td>\n",
       "      <td>0.000000</td>\n",
       "      <td>0.000000</td>\n",
       "      <td>94.000000</td>\n",
       "      <td>126.00000</td>\n",
       "      <td>0.000000</td>\n",
       "      <td>0.000000</td>\n",
       "      <td>71.000000</td>\n",
       "      <td>0.000000</td>\n",
       "      <td>0.000000</td>\n",
       "      <td>0.000000</td>\n",
       "      <td>0.000000</td>\n",
       "      <td>0.000000</td>\n",
       "      <td>0.000000</td>\n",
       "    </tr>\n",
       "    <tr>\n",
       "      <th>25%</th>\n",
       "      <td>48.000000</td>\n",
       "      <td>0.000000</td>\n",
       "      <td>0.000000</td>\n",
       "      <td>120.000000</td>\n",
       "      <td>211.00000</td>\n",
       "      <td>0.000000</td>\n",
       "      <td>0.000000</td>\n",
       "      <td>132.000000</td>\n",
       "      <td>0.000000</td>\n",
       "      <td>0.000000</td>\n",
       "      <td>1.000000</td>\n",
       "      <td>0.000000</td>\n",
       "      <td>2.000000</td>\n",
       "      <td>0.000000</td>\n",
       "    </tr>\n",
       "    <tr>\n",
       "      <th>50%</th>\n",
       "      <td>56.000000</td>\n",
       "      <td>1.000000</td>\n",
       "      <td>1.000000</td>\n",
       "      <td>130.000000</td>\n",
       "      <td>240.00000</td>\n",
       "      <td>0.000000</td>\n",
       "      <td>1.000000</td>\n",
       "      <td>152.000000</td>\n",
       "      <td>0.000000</td>\n",
       "      <td>0.800000</td>\n",
       "      <td>1.000000</td>\n",
       "      <td>0.000000</td>\n",
       "      <td>2.000000</td>\n",
       "      <td>1.000000</td>\n",
       "    </tr>\n",
       "    <tr>\n",
       "      <th>75%</th>\n",
       "      <td>61.000000</td>\n",
       "      <td>1.000000</td>\n",
       "      <td>2.000000</td>\n",
       "      <td>140.000000</td>\n",
       "      <td>275.00000</td>\n",
       "      <td>0.000000</td>\n",
       "      <td>1.000000</td>\n",
       "      <td>166.000000</td>\n",
       "      <td>1.000000</td>\n",
       "      <td>1.800000</td>\n",
       "      <td>2.000000</td>\n",
       "      <td>1.000000</td>\n",
       "      <td>3.000000</td>\n",
       "      <td>1.000000</td>\n",
       "    </tr>\n",
       "    <tr>\n",
       "      <th>max</th>\n",
       "      <td>77.000000</td>\n",
       "      <td>1.000000</td>\n",
       "      <td>3.000000</td>\n",
       "      <td>200.000000</td>\n",
       "      <td>564.00000</td>\n",
       "      <td>1.000000</td>\n",
       "      <td>2.000000</td>\n",
       "      <td>202.000000</td>\n",
       "      <td>1.000000</td>\n",
       "      <td>6.200000</td>\n",
       "      <td>2.000000</td>\n",
       "      <td>4.000000</td>\n",
       "      <td>3.000000</td>\n",
       "      <td>1.000000</td>\n",
       "    </tr>\n",
       "  </tbody>\n",
       "</table>\n",
       "</div>"
      ],
      "text/plain": [
       "               age          sex           cp     trestbps        chol  \\\n",
       "count  1025.000000  1025.000000  1025.000000  1025.000000  1025.00000   \n",
       "mean     54.434146     0.695610     0.942439   131.611707   246.00000   \n",
       "std       9.072290     0.460373     1.029641    17.516718    51.59251   \n",
       "min      29.000000     0.000000     0.000000    94.000000   126.00000   \n",
       "25%      48.000000     0.000000     0.000000   120.000000   211.00000   \n",
       "50%      56.000000     1.000000     1.000000   130.000000   240.00000   \n",
       "75%      61.000000     1.000000     2.000000   140.000000   275.00000   \n",
       "max      77.000000     1.000000     3.000000   200.000000   564.00000   \n",
       "\n",
       "               fbs      restecg      thalach        exang      oldpeak  \\\n",
       "count  1025.000000  1025.000000  1025.000000  1025.000000  1025.000000   \n",
       "mean      0.149268     0.529756   149.114146     0.336585     1.071512   \n",
       "std       0.356527     0.527878    23.005724     0.472772     1.175053   \n",
       "min       0.000000     0.000000    71.000000     0.000000     0.000000   \n",
       "25%       0.000000     0.000000   132.000000     0.000000     0.000000   \n",
       "50%       0.000000     1.000000   152.000000     0.000000     0.800000   \n",
       "75%       0.000000     1.000000   166.000000     1.000000     1.800000   \n",
       "max       1.000000     2.000000   202.000000     1.000000     6.200000   \n",
       "\n",
       "             slope           ca         thal       target  \n",
       "count  1025.000000  1025.000000  1025.000000  1025.000000  \n",
       "mean      1.385366     0.754146     2.323902     0.513171  \n",
       "std       0.617755     1.030798     0.620660     0.500070  \n",
       "min       0.000000     0.000000     0.000000     0.000000  \n",
       "25%       1.000000     0.000000     2.000000     0.000000  \n",
       "50%       1.000000     0.000000     2.000000     1.000000  \n",
       "75%       2.000000     1.000000     3.000000     1.000000  \n",
       "max       2.000000     4.000000     3.000000     1.000000  "
      ]
     },
     "execution_count": 6,
     "metadata": {},
     "output_type": "execute_result"
    }
   ],
   "source": [
    "df.describe()"
   ]
  },
  {
   "cell_type": "code",
   "execution_count": 7,
   "id": "406a78b0",
   "metadata": {
    "execution": {
     "iopub.execute_input": "2025-07-15T15:32:57.728646Z",
     "iopub.status.busy": "2025-07-15T15:32:57.728228Z",
     "iopub.status.idle": "2025-07-15T15:32:57.735149Z",
     "shell.execute_reply": "2025-07-15T15:32:57.734283Z"
    },
    "papermill": {
     "duration": 0.014487,
     "end_time": "2025-07-15T15:32:57.736878",
     "exception": false,
     "start_time": "2025-07-15T15:32:57.722391",
     "status": "completed"
    },
    "tags": []
   },
   "outputs": [
    {
     "data": {
      "text/plain": [
       "Index(['age', 'sex', 'cp', 'trestbps', 'chol', 'fbs', 'restecg', 'thalach',\n",
       "       'exang', 'oldpeak', 'slope', 'ca', 'thal', 'target'],\n",
       "      dtype='object')"
      ]
     },
     "execution_count": 7,
     "metadata": {},
     "output_type": "execute_result"
    }
   ],
   "source": [
    "df.columns"
   ]
  },
  {
   "cell_type": "markdown",
   "id": "9ec7d326",
   "metadata": {
    "papermill": {
     "duration": 0.005099,
     "end_time": "2025-07-15T15:32:57.747022",
     "exception": false,
     "start_time": "2025-07-15T15:32:57.741923",
     "status": "completed"
    },
    "tags": []
   },
   "source": [
    "# Data preprocessing and splitting"
   ]
  },
  {
   "cell_type": "code",
   "execution_count": 8,
   "id": "62d85a05",
   "metadata": {
    "execution": {
     "iopub.execute_input": "2025-07-15T15:32:57.758627Z",
     "iopub.status.busy": "2025-07-15T15:32:57.758179Z",
     "iopub.status.idle": "2025-07-15T15:32:57.766332Z",
     "shell.execute_reply": "2025-07-15T15:32:57.765363Z"
    },
    "papermill": {
     "duration": 0.01621,
     "end_time": "2025-07-15T15:32:57.768019",
     "exception": false,
     "start_time": "2025-07-15T15:32:57.751809",
     "status": "completed"
    },
    "tags": []
   },
   "outputs": [],
   "source": [
    "X = df.drop(\"target\",axis=1)\n",
    "y = df[\"target\"]"
   ]
  },
  {
   "cell_type": "code",
   "execution_count": 9,
   "id": "049aeda2",
   "metadata": {
    "execution": {
     "iopub.execute_input": "2025-07-15T15:32:57.780510Z",
     "iopub.status.busy": "2025-07-15T15:32:57.780115Z",
     "iopub.status.idle": "2025-07-15T15:32:57.790075Z",
     "shell.execute_reply": "2025-07-15T15:32:57.789160Z"
    },
    "papermill": {
     "duration": 0.018501,
     "end_time": "2025-07-15T15:32:57.791775",
     "exception": false,
     "start_time": "2025-07-15T15:32:57.773274",
     "status": "completed"
    },
    "tags": []
   },
   "outputs": [],
   "source": [
    "X_train, X_test, y_train, y_test = train_test_split(\n",
    "    X, y, test_size=0.2, random_state=42\n",
    ")"
   ]
  },
  {
   "cell_type": "code",
   "execution_count": 10,
   "id": "4abc5398",
   "metadata": {
    "execution": {
     "iopub.execute_input": "2025-07-15T15:32:57.803377Z",
     "iopub.status.busy": "2025-07-15T15:32:57.803018Z",
     "iopub.status.idle": "2025-07-15T15:32:57.815899Z",
     "shell.execute_reply": "2025-07-15T15:32:57.814960Z"
    },
    "papermill": {
     "duration": 0.020736,
     "end_time": "2025-07-15T15:32:57.817901",
     "exception": false,
     "start_time": "2025-07-15T15:32:57.797165",
     "status": "completed"
    },
    "tags": []
   },
   "outputs": [],
   "source": [
    "scaler = MinMaxScaler()\n",
    "\n",
    "# Fit scaler on training data and transform both train and test\n",
    "X_train_scaled = scaler.fit_transform(X_train)\n",
    "X_test_scaled = scaler.transform(X_test)\n",
    "\n",
    "# (Optional) Convert scaled data back to DataFrame\n",
    "X_train_scaled = pd.DataFrame(X_train_scaled, columns=X.columns, index=X_train.index)\n",
    "X_test_scaled = pd.DataFrame(X_test_scaled, columns=X.columns, index=X_test.index)"
   ]
  },
  {
   "cell_type": "code",
   "execution_count": 11,
   "id": "83c8a08c",
   "metadata": {
    "execution": {
     "iopub.execute_input": "2025-07-15T15:32:57.829473Z",
     "iopub.status.busy": "2025-07-15T15:32:57.829071Z",
     "iopub.status.idle": "2025-07-15T15:32:57.849664Z",
     "shell.execute_reply": "2025-07-15T15:32:57.848395Z"
    },
    "papermill": {
     "duration": 0.028947,
     "end_time": "2025-07-15T15:32:57.851749",
     "exception": false,
     "start_time": "2025-07-15T15:32:57.822802",
     "status": "completed"
    },
    "tags": []
   },
   "outputs": [
    {
     "name": "stdout",
     "output_type": "stream",
     "text": [
      "Scaled Training Data:\n",
      "          age  sex        cp  trestbps      chol  fbs  restecg   thalach  \\\n",
      "835  0.416667  1.0  0.666667  0.226415  0.052511  0.0      0.0  0.419847   \n",
      "137  0.729167  0.0  0.000000  0.811321  0.454338  0.0      0.5  0.633588   \n",
      "534  0.520833  0.0  0.666667  0.132075  0.321918  0.0      0.0  0.732824   \n",
      "495  0.625000  1.0  0.000000  0.386792  0.246575  0.0      0.5  0.687023   \n",
      "244  0.458333  1.0  0.666667  0.292453  0.271689  1.0      0.0  0.725191   \n",
      "..        ...  ...       ...       ...       ...  ...      ...       ...   \n",
      "700  0.250000  1.0  0.666667  0.339623  0.200913  0.0      0.0  0.740458   \n",
      "71   0.666667  1.0  0.000000  0.433962  0.184932  0.0      0.0  0.511450   \n",
      "106  0.458333  1.0  0.000000  0.433962  0.394977  0.0      0.5  0.778626   \n",
      "270  0.291667  1.0  0.000000  0.150943  0.194064  0.0      0.5  0.687023   \n",
      "860  0.479167  1.0  0.000000  0.169811  0.237443  0.0      0.5  0.679389   \n",
      "\n",
      "     exang   oldpeak  slope    ca      thal  \n",
      "835    0.0  0.129032    1.0  0.75  0.666667  \n",
      "137    1.0  0.000000    1.0  0.00  0.666667  \n",
      "534    0.0  0.000000    1.0  0.00  0.666667  \n",
      "495    0.0  0.080645    0.5  0.00  1.000000  \n",
      "244    0.0  0.387097    0.5  0.00  0.666667  \n",
      "..     ...       ...    ...   ...       ...  \n",
      "700    0.0  0.322581    0.5  0.00  0.666667  \n",
      "71     1.0  0.306452    1.0  0.25  1.000000  \n",
      "106    1.0  0.258065    1.0  0.00  1.000000  \n",
      "270    0.0  0.000000    1.0  0.00  1.000000  \n",
      "860    0.0  0.000000    1.0  0.25  0.666667  \n",
      "\n",
      "[820 rows x 13 columns]\n",
      "\n",
      "Scaled Test Data:\n",
      "          age  sex        cp  trestbps      chol  fbs  restecg   thalach  \\\n",
      "527  0.687500  0.0  0.000000  0.283019  0.189498  0.0      0.5  0.702290   \n",
      "359  0.500000  0.0  0.666667  0.320755  0.205479  0.0      0.0  0.335878   \n",
      "447  0.541667  1.0  0.000000  0.622642  0.372146  0.0      0.0  0.564885   \n",
      "31   0.437500  0.0  0.333333  0.245283  0.269406  0.0      0.5  0.694656   \n",
      "621  0.395833  1.0  0.000000  0.339623  0.296804  1.0      0.0  0.603053   \n",
      "..        ...  ...       ...       ...       ...  ...      ...       ...   \n",
      "832  0.812500  1.0  0.666667  0.226415  0.344749  0.0      0.5  0.610687   \n",
      "796  0.250000  1.0  0.333333  0.386792  0.175799  0.0      0.5  0.465649   \n",
      "644  0.312500  1.0  0.666667  0.245283  0.228311  0.0      0.5  0.748092   \n",
      "404  0.666667  1.0  0.000000  0.433962  0.184932  0.0      0.0  0.511450   \n",
      "842  0.604167  1.0  0.666667  0.169811  0.237443  0.0      0.0  0.717557   \n",
      "\n",
      "     exang   oldpeak  slope    ca      thal  \n",
      "527    0.0  0.000000    1.0  0.00  0.666667  \n",
      "359    0.0  0.000000    1.0  0.00  0.000000  \n",
      "447    1.0  0.129032    0.5  0.25  1.000000  \n",
      "31     0.0  0.177419    1.0  0.00  0.666667  \n",
      "621    1.0  0.000000    1.0  0.50  1.000000  \n",
      "..     ...       ...    ...   ...       ...  \n",
      "832    0.0  0.161290    1.0  0.25  1.000000  \n",
      "796    0.0  0.000000    0.5  0.00  0.333333  \n",
      "644    0.0  0.000000    1.0  0.00  0.666667  \n",
      "404    1.0  0.306452    1.0  0.25  1.000000  \n",
      "842    0.0  0.403226    0.5  0.25  1.000000  \n",
      "\n",
      "[205 rows x 13 columns]\n"
     ]
    }
   ],
   "source": [
    "# Show result\n",
    "print(\"Scaled Training Data:\")\n",
    "print(X_train_scaled)\n",
    "print(\"\\nScaled Test Data:\")\n",
    "print(X_test_scaled)"
   ]
  },
  {
   "cell_type": "markdown",
   "id": "88fd93f1",
   "metadata": {
    "papermill": {
     "duration": 0.004593,
     "end_time": "2025-07-15T15:32:57.862023",
     "exception": false,
     "start_time": "2025-07-15T15:32:57.857430",
     "status": "completed"
    },
    "tags": []
   },
   "source": [
    "# Model Implementation "
   ]
  },
  {
   "cell_type": "code",
   "execution_count": 12,
   "id": "e75bc410",
   "metadata": {
    "execution": {
     "iopub.execute_input": "2025-07-15T15:32:57.873646Z",
     "iopub.status.busy": "2025-07-15T15:32:57.873227Z",
     "iopub.status.idle": "2025-07-15T15:32:57.886164Z",
     "shell.execute_reply": "2025-07-15T15:32:57.884867Z"
    },
    "papermill": {
     "duration": 0.021113,
     "end_time": "2025-07-15T15:32:57.888276",
     "exception": false,
     "start_time": "2025-07-15T15:32:57.867163",
     "status": "completed"
    },
    "tags": []
   },
   "outputs": [],
   "source": [
    "clf = DecisionTreeClassifier(random_state=42)\n",
    "\n",
    "# Train the model\n",
    "clf.fit(X_train_scaled, y_train)\n",
    "\n",
    "# Predict on test data\n",
    "y_pred = clf.predict(X_test_scaled)"
   ]
  },
  {
   "cell_type": "markdown",
   "id": "0d66a693",
   "metadata": {
    "papermill": {
     "duration": 0.007878,
     "end_time": "2025-07-15T15:32:57.901271",
     "exception": false,
     "start_time": "2025-07-15T15:32:57.893393",
     "status": "completed"
    },
    "tags": []
   },
   "source": [
    "# Evaluation "
   ]
  },
  {
   "cell_type": "code",
   "execution_count": 13,
   "id": "b6ec92cd",
   "metadata": {
    "execution": {
     "iopub.execute_input": "2025-07-15T15:32:57.914950Z",
     "iopub.status.busy": "2025-07-15T15:32:57.914494Z",
     "iopub.status.idle": "2025-07-15T15:32:57.964545Z",
     "shell.execute_reply": "2025-07-15T15:32:57.962504Z"
    },
    "papermill": {
     "duration": 0.060096,
     "end_time": "2025-07-15T15:32:57.966812",
     "exception": false,
     "start_time": "2025-07-15T15:32:57.906716",
     "status": "completed"
    },
    "tags": []
   },
   "outputs": [
    {
     "name": "stdout",
     "output_type": "stream",
     "text": [
      "Accuracy:  0.9854\n",
      "Precision: 1.0000\n",
      "Recall:    0.9709\n",
      "F1 Score:  0.9852\n",
      "MCC:       0.9712\n",
      "\n",
      "Confusion Matrix:\n",
      "[[102   0]\n",
      " [  3 100]]\n",
      "ROC AUC:   0.9854\n",
      "Log Loss:  0.5275\n",
      "\n",
      "Classification Report:\n",
      "              precision    recall  f1-score   support\n",
      "\n",
      "           0       0.97      1.00      0.99       102\n",
      "           1       1.00      0.97      0.99       103\n",
      "\n",
      "    accuracy                           0.99       205\n",
      "   macro avg       0.99      0.99      0.99       205\n",
      "weighted avg       0.99      0.99      0.99       205\n",
      "\n"
     ]
    }
   ],
   "source": [
    "average_type = 'binary'  # use 'macro', 'weighted', or 'micro' for multi-class\n",
    "\n",
    "# Predict class labels\n",
    "y_pred = clf.predict(X_test_scaled)\n",
    "\n",
    "# Predict probabilities (for ROC AUC and Log Loss)\n",
    "y_proba = clf.predict_proba(X_test_scaled)[:, 1] if len(set(y)) == 2 else None\n",
    "\n",
    "# Compute evaluation metrics\n",
    "print(f\"Accuracy:  {accuracy_score(y_test, y_pred):.4f}\")\n",
    "print(f\"Precision: {precision_score(y_test, y_pred, average=average_type):.4f}\")\n",
    "print(f\"Recall:    {recall_score(y_test, y_pred, average=average_type):.4f}\")\n",
    "print(f\"F1 Score:  {f1_score(y_test, y_pred, average=average_type):.4f}\")\n",
    "print(f\"MCC:       {matthews_corrcoef(y_test, y_pred):.4f}\")\n",
    "\n",
    "# Confusion matrix\n",
    "cm = confusion_matrix(y_test, y_pred)\n",
    "print(\"\\nConfusion Matrix:\")\n",
    "print(cm)\n",
    "\n",
    "# ROC AUC and Log Loss (for binary classification only)\n",
    "if y_proba is not None:\n",
    "    print(f\"ROC AUC:   {roc_auc_score(y_test, y_proba):.4f}\")\n",
    "    print(f\"Log Loss:  {log_loss(y_test, y_proba):.4f}\")\n",
    "\n",
    "# Detailed classification report\n",
    "print(\"\\nClassification Report:\")\n",
    "print(classification_report(y_test, y_pred))\n"
   ]
  }
 ],
 "metadata": {
  "kaggle": {
   "accelerator": "none",
   "dataSources": [
    {
     "datasetId": 7699394,
     "sourceId": 12220869,
     "sourceType": "datasetVersion"
    }
   ],
   "dockerImageVersionId": 31089,
   "isGpuEnabled": false,
   "isInternetEnabled": true,
   "language": "python",
   "sourceType": "notebook"
  },
  "kernelspec": {
   "display_name": "Python 3",
   "language": "python",
   "name": "python3"
  },
  "language_info": {
   "codemirror_mode": {
    "name": "ipython",
    "version": 3
   },
   "file_extension": ".py",
   "mimetype": "text/x-python",
   "name": "python",
   "nbconvert_exporter": "python",
   "pygments_lexer": "ipython3",
   "version": "3.11.13"
  },
  "papermill": {
   "default_parameters": {},
   "duration": 11.527578,
   "end_time": "2025-07-15T15:32:59.098515",
   "environment_variables": {},
   "exception": null,
   "input_path": "__notebook__.ipynb",
   "output_path": "__notebook__.ipynb",
   "parameters": {},
   "start_time": "2025-07-15T15:32:47.570937",
   "version": "2.6.0"
  }
 },
 "nbformat": 4,
 "nbformat_minor": 5
}
