{
 "cells": [
  {
   "cell_type": "markdown",
   "id": "818703ea",
   "metadata": {
    "papermill": {
     "duration": 0.005079,
     "end_time": "2025-07-24T06:59:06.842947",
     "exception": false,
     "start_time": "2025-07-24T06:59:06.837868",
     "status": "completed"
    },
    "tags": []
   },
   "source": [
    "# DIABETES CLASSIFICATION "
   ]
  },
  {
   "cell_type": "markdown",
   "id": "bf2686a1",
   "metadata": {
    "papermill": {
     "duration": 0.003722,
     "end_time": "2025-07-24T06:59:06.851200",
     "exception": false,
     "start_time": "2025-07-24T06:59:06.847478",
     "status": "completed"
    },
    "tags": []
   },
   "source": [
    "# Import Libraries"
   ]
  },
  {
   "cell_type": "code",
   "execution_count": 1,
   "id": "5289bff6",
   "metadata": {
    "_cell_guid": "b1076dfc-b9ad-4769-8c92-a6c4dae69d19",
    "_uuid": "8f2839f25d086af736a60e9eeb907d3b93b6e0e5",
    "execution": {
     "iopub.execute_input": "2025-07-24T06:59:06.860466Z",
     "iopub.status.busy": "2025-07-24T06:59:06.860061Z",
     "iopub.status.idle": "2025-07-24T06:59:11.783914Z",
     "shell.execute_reply": "2025-07-24T06:59:11.782749Z"
    },
    "papermill": {
     "duration": 4.930697,
     "end_time": "2025-07-24T06:59:11.785827",
     "exception": false,
     "start_time": "2025-07-24T06:59:06.855130",
     "status": "completed"
    },
    "tags": []
   },
   "outputs": [],
   "source": [
    "import numpy as np \n",
    "import pandas as pd \n",
    "import matplotlib.pyplot as plt \n",
    "import seaborn as sns \n",
    "from sklearn.model_selection import train_test_split\n",
    "from sklearn.preprocessing import StandardScaler\n",
    "from sklearn.ensemble import RandomForestClassifier\n",
    "from sklearn.metrics import (\n",
    "    accuracy_score,\n",
    "    confusion_matrix,\n",
    "    classification_report,\n",
    "    precision_score,\n",
    "    recall_score,\n",
    "    f1_score,\n",
    "    roc_auc_score\n",
    ")"
   ]
  },
  {
   "cell_type": "markdown",
   "id": "16bc6329",
   "metadata": {
    "papermill": {
     "duration": 0.003655,
     "end_time": "2025-07-24T06:59:11.793702",
     "exception": false,
     "start_time": "2025-07-24T06:59:11.790047",
     "status": "completed"
    },
    "tags": []
   },
   "source": [
    "# Load Data "
   ]
  },
  {
   "cell_type": "code",
   "execution_count": 2,
   "id": "042f036a",
   "metadata": {
    "execution": {
     "iopub.execute_input": "2025-07-24T06:59:11.803428Z",
     "iopub.status.busy": "2025-07-24T06:59:11.802616Z",
     "iopub.status.idle": "2025-07-24T06:59:11.863067Z",
     "shell.execute_reply": "2025-07-24T06:59:11.861658Z"
    },
    "papermill": {
     "duration": 0.066864,
     "end_time": "2025-07-24T06:59:11.864780",
     "exception": false,
     "start_time": "2025-07-24T06:59:11.797916",
     "status": "completed"
    },
    "tags": []
   },
   "outputs": [
    {
     "data": {
      "text/html": [
       "<div>\n",
       "<style scoped>\n",
       "    .dataframe tbody tr th:only-of-type {\n",
       "        vertical-align: middle;\n",
       "    }\n",
       "\n",
       "    .dataframe tbody tr th {\n",
       "        vertical-align: top;\n",
       "    }\n",
       "\n",
       "    .dataframe thead th {\n",
       "        text-align: right;\n",
       "    }\n",
       "</style>\n",
       "<table border=\"1\" class=\"dataframe\">\n",
       "  <thead>\n",
       "    <tr style=\"text-align: right;\">\n",
       "      <th></th>\n",
       "      <th>Gender</th>\n",
       "      <th>AGE</th>\n",
       "      <th>Urea</th>\n",
       "      <th>Cr</th>\n",
       "      <th>HbA1c</th>\n",
       "      <th>Chol</th>\n",
       "      <th>TG</th>\n",
       "      <th>HDL</th>\n",
       "      <th>LDL</th>\n",
       "      <th>VLDL</th>\n",
       "      <th>BMI</th>\n",
       "      <th>Class</th>\n",
       "    </tr>\n",
       "  </thead>\n",
       "  <tbody>\n",
       "    <tr>\n",
       "      <th>0</th>\n",
       "      <td>0</td>\n",
       "      <td>50</td>\n",
       "      <td>4.7</td>\n",
       "      <td>46</td>\n",
       "      <td>4.9</td>\n",
       "      <td>4.2</td>\n",
       "      <td>0.9</td>\n",
       "      <td>2.4</td>\n",
       "      <td>1.4</td>\n",
       "      <td>0.5</td>\n",
       "      <td>24.0</td>\n",
       "      <td>0</td>\n",
       "    </tr>\n",
       "    <tr>\n",
       "      <th>1</th>\n",
       "      <td>1</td>\n",
       "      <td>26</td>\n",
       "      <td>4.5</td>\n",
       "      <td>62</td>\n",
       "      <td>4.9</td>\n",
       "      <td>3.7</td>\n",
       "      <td>1.4</td>\n",
       "      <td>1.1</td>\n",
       "      <td>2.1</td>\n",
       "      <td>0.6</td>\n",
       "      <td>23.0</td>\n",
       "      <td>0</td>\n",
       "    </tr>\n",
       "    <tr>\n",
       "      <th>2</th>\n",
       "      <td>1</td>\n",
       "      <td>33</td>\n",
       "      <td>7.1</td>\n",
       "      <td>46</td>\n",
       "      <td>4.9</td>\n",
       "      <td>4.9</td>\n",
       "      <td>1.0</td>\n",
       "      <td>0.8</td>\n",
       "      <td>2.0</td>\n",
       "      <td>0.4</td>\n",
       "      <td>21.0</td>\n",
       "      <td>0</td>\n",
       "    </tr>\n",
       "    <tr>\n",
       "      <th>3</th>\n",
       "      <td>0</td>\n",
       "      <td>45</td>\n",
       "      <td>2.3</td>\n",
       "      <td>24</td>\n",
       "      <td>4.0</td>\n",
       "      <td>2.9</td>\n",
       "      <td>1.0</td>\n",
       "      <td>1.0</td>\n",
       "      <td>1.5</td>\n",
       "      <td>0.4</td>\n",
       "      <td>21.0</td>\n",
       "      <td>0</td>\n",
       "    </tr>\n",
       "    <tr>\n",
       "      <th>4</th>\n",
       "      <td>0</td>\n",
       "      <td>50</td>\n",
       "      <td>2.0</td>\n",
       "      <td>50</td>\n",
       "      <td>4.0</td>\n",
       "      <td>3.6</td>\n",
       "      <td>1.3</td>\n",
       "      <td>0.9</td>\n",
       "      <td>2.1</td>\n",
       "      <td>0.6</td>\n",
       "      <td>24.0</td>\n",
       "      <td>0</td>\n",
       "    </tr>\n",
       "  </tbody>\n",
       "</table>\n",
       "</div>"
      ],
      "text/plain": [
       "   Gender  AGE  Urea  Cr  HbA1c  Chol   TG  HDL  LDL  VLDL   BMI  Class\n",
       "0       0   50   4.7  46    4.9   4.2  0.9  2.4  1.4   0.5  24.0      0\n",
       "1       1   26   4.5  62    4.9   3.7  1.4  1.1  2.1   0.6  23.0      0\n",
       "2       1   33   7.1  46    4.9   4.9  1.0  0.8  2.0   0.4  21.0      0\n",
       "3       0   45   2.3  24    4.0   2.9  1.0  1.0  1.5   0.4  21.0      0\n",
       "4       0   50   2.0  50    4.0   3.6  1.3  0.9  2.1   0.6  24.0      0"
      ]
     },
     "execution_count": 2,
     "metadata": {},
     "output_type": "execute_result"
    }
   ],
   "source": [
    "df = pd.read_csv(\"/kaggle/input/multiclass-diabetes-dataset/Multiclass Diabetes Dataset/Multiclass Diabetes Dataset.csv\")\n",
    "df.head()"
   ]
  },
  {
   "cell_type": "markdown",
   "id": "dc90a93a",
   "metadata": {
    "papermill": {
     "duration": 0.004144,
     "end_time": "2025-07-24T06:59:11.873439",
     "exception": false,
     "start_time": "2025-07-24T06:59:11.869295",
     "status": "completed"
    },
    "tags": []
   },
   "source": [
    "# Data Analysis "
   ]
  },
  {
   "cell_type": "code",
   "execution_count": 3,
   "id": "88dd18c6",
   "metadata": {
    "execution": {
     "iopub.execute_input": "2025-07-24T06:59:11.883599Z",
     "iopub.status.busy": "2025-07-24T06:59:11.883251Z",
     "iopub.status.idle": "2025-07-24T06:59:11.890070Z",
     "shell.execute_reply": "2025-07-24T06:59:11.889024Z"
    },
    "papermill": {
     "duration": 0.013659,
     "end_time": "2025-07-24T06:59:11.891668",
     "exception": false,
     "start_time": "2025-07-24T06:59:11.878009",
     "status": "completed"
    },
    "tags": []
   },
   "outputs": [
    {
     "data": {
      "text/plain": [
       "3168"
      ]
     },
     "execution_count": 3,
     "metadata": {},
     "output_type": "execute_result"
    }
   ],
   "source": [
    "df.size"
   ]
  },
  {
   "cell_type": "code",
   "execution_count": 4,
   "id": "1f67d957",
   "metadata": {
    "execution": {
     "iopub.execute_input": "2025-07-24T06:59:11.903184Z",
     "iopub.status.busy": "2025-07-24T06:59:11.902864Z",
     "iopub.status.idle": "2025-07-24T06:59:11.910050Z",
     "shell.execute_reply": "2025-07-24T06:59:11.909182Z"
    },
    "papermill": {
     "duration": 0.014056,
     "end_time": "2025-07-24T06:59:11.911722",
     "exception": false,
     "start_time": "2025-07-24T06:59:11.897666",
     "status": "completed"
    },
    "tags": []
   },
   "outputs": [
    {
     "data": {
      "text/plain": [
       "Gender      int64\n",
       "AGE         int64\n",
       "Urea      float64\n",
       "Cr          int64\n",
       "HbA1c     float64\n",
       "Chol      float64\n",
       "TG        float64\n",
       "HDL       float64\n",
       "LDL       float64\n",
       "VLDL      float64\n",
       "BMI       float64\n",
       "Class       int64\n",
       "dtype: object"
      ]
     },
     "execution_count": 4,
     "metadata": {},
     "output_type": "execute_result"
    }
   ],
   "source": [
    "df.dtypes"
   ]
  },
  {
   "cell_type": "code",
   "execution_count": 5,
   "id": "d1900dc5",
   "metadata": {
    "execution": {
     "iopub.execute_input": "2025-07-24T06:59:11.922044Z",
     "iopub.status.busy": "2025-07-24T06:59:11.921682Z",
     "iopub.status.idle": "2025-07-24T06:59:11.946417Z",
     "shell.execute_reply": "2025-07-24T06:59:11.945114Z"
    },
    "papermill": {
     "duration": 0.031823,
     "end_time": "2025-07-24T06:59:11.948386",
     "exception": false,
     "start_time": "2025-07-24T06:59:11.916563",
     "status": "completed"
    },
    "tags": []
   },
   "outputs": [
    {
     "name": "stdout",
     "output_type": "stream",
     "text": [
      "<class 'pandas.core.frame.DataFrame'>\n",
      "RangeIndex: 264 entries, 0 to 263\n",
      "Data columns (total 12 columns):\n",
      " #   Column  Non-Null Count  Dtype  \n",
      "---  ------  --------------  -----  \n",
      " 0   Gender  264 non-null    int64  \n",
      " 1   AGE     264 non-null    int64  \n",
      " 2   Urea    264 non-null    float64\n",
      " 3   Cr      264 non-null    int64  \n",
      " 4   HbA1c   264 non-null    float64\n",
      " 5   Chol    264 non-null    float64\n",
      " 6   TG      264 non-null    float64\n",
      " 7   HDL     264 non-null    float64\n",
      " 8   LDL     264 non-null    float64\n",
      " 9   VLDL    264 non-null    float64\n",
      " 10  BMI     264 non-null    float64\n",
      " 11  Class   264 non-null    int64  \n",
      "dtypes: float64(8), int64(4)\n",
      "memory usage: 24.9 KB\n"
     ]
    }
   ],
   "source": [
    "df.info()"
   ]
  },
  {
   "cell_type": "code",
   "execution_count": 6,
   "id": "cd38c6a9",
   "metadata": {
    "execution": {
     "iopub.execute_input": "2025-07-24T06:59:11.958526Z",
     "iopub.status.busy": "2025-07-24T06:59:11.958203Z",
     "iopub.status.idle": "2025-07-24T06:59:11.997571Z",
     "shell.execute_reply": "2025-07-24T06:59:11.996310Z"
    },
    "papermill": {
     "duration": 0.046498,
     "end_time": "2025-07-24T06:59:11.999450",
     "exception": false,
     "start_time": "2025-07-24T06:59:11.952952",
     "status": "completed"
    },
    "tags": []
   },
   "outputs": [
    {
     "data": {
      "text/html": [
       "<div>\n",
       "<style scoped>\n",
       "    .dataframe tbody tr th:only-of-type {\n",
       "        vertical-align: middle;\n",
       "    }\n",
       "\n",
       "    .dataframe tbody tr th {\n",
       "        vertical-align: top;\n",
       "    }\n",
       "\n",
       "    .dataframe thead th {\n",
       "        text-align: right;\n",
       "    }\n",
       "</style>\n",
       "<table border=\"1\" class=\"dataframe\">\n",
       "  <thead>\n",
       "    <tr style=\"text-align: right;\">\n",
       "      <th></th>\n",
       "      <th>Gender</th>\n",
       "      <th>AGE</th>\n",
       "      <th>Urea</th>\n",
       "      <th>Cr</th>\n",
       "      <th>HbA1c</th>\n",
       "      <th>Chol</th>\n",
       "      <th>TG</th>\n",
       "      <th>HDL</th>\n",
       "      <th>LDL</th>\n",
       "      <th>VLDL</th>\n",
       "      <th>BMI</th>\n",
       "      <th>Class</th>\n",
       "    </tr>\n",
       "  </thead>\n",
       "  <tbody>\n",
       "    <tr>\n",
       "      <th>count</th>\n",
       "      <td>264.000000</td>\n",
       "      <td>264.000000</td>\n",
       "      <td>264.000000</td>\n",
       "      <td>264.000000</td>\n",
       "      <td>264.000000</td>\n",
       "      <td>264.000000</td>\n",
       "      <td>264.000000</td>\n",
       "      <td>264.000000</td>\n",
       "      <td>264.000000</td>\n",
       "      <td>264.000000</td>\n",
       "      <td>264.000000</td>\n",
       "      <td>264.000000</td>\n",
       "    </tr>\n",
       "    <tr>\n",
       "      <th>mean</th>\n",
       "      <td>0.545455</td>\n",
       "      <td>49.522727</td>\n",
       "      <td>5.671515</td>\n",
       "      <td>85.806818</td>\n",
       "      <td>6.862727</td>\n",
       "      <td>4.594394</td>\n",
       "      <td>2.151894</td>\n",
       "      <td>1.182879</td>\n",
       "      <td>2.530871</td>\n",
       "      <td>1.479167</td>\n",
       "      <td>26.626856</td>\n",
       "      <td>1.121212</td>\n",
       "    </tr>\n",
       "    <tr>\n",
       "      <th>std</th>\n",
       "      <td>0.498875</td>\n",
       "      <td>10.127301</td>\n",
       "      <td>4.002837</td>\n",
       "      <td>99.400047</td>\n",
       "      <td>2.544604</td>\n",
       "      <td>1.289062</td>\n",
       "      <td>1.265841</td>\n",
       "      <td>0.455591</td>\n",
       "      <td>1.000173</td>\n",
       "      <td>3.099856</td>\n",
       "      <td>5.093652</td>\n",
       "      <td>0.914857</td>\n",
       "    </tr>\n",
       "    <tr>\n",
       "      <th>min</th>\n",
       "      <td>0.000000</td>\n",
       "      <td>25.000000</td>\n",
       "      <td>1.100000</td>\n",
       "      <td>6.000000</td>\n",
       "      <td>0.900000</td>\n",
       "      <td>0.000000</td>\n",
       "      <td>0.600000</td>\n",
       "      <td>0.400000</td>\n",
       "      <td>0.300000</td>\n",
       "      <td>0.200000</td>\n",
       "      <td>19.000000</td>\n",
       "      <td>0.000000</td>\n",
       "    </tr>\n",
       "    <tr>\n",
       "      <th>25%</th>\n",
       "      <td>0.000000</td>\n",
       "      <td>43.000000</td>\n",
       "      <td>3.600000</td>\n",
       "      <td>46.000000</td>\n",
       "      <td>5.000000</td>\n",
       "      <td>3.875000</td>\n",
       "      <td>1.300000</td>\n",
       "      <td>0.900000</td>\n",
       "      <td>1.800000</td>\n",
       "      <td>0.675000</td>\n",
       "      <td>23.000000</td>\n",
       "      <td>0.000000</td>\n",
       "    </tr>\n",
       "    <tr>\n",
       "      <th>50%</th>\n",
       "      <td>1.000000</td>\n",
       "      <td>50.000000</td>\n",
       "      <td>4.700000</td>\n",
       "      <td>61.000000</td>\n",
       "      <td>6.100000</td>\n",
       "      <td>4.500000</td>\n",
       "      <td>1.800000</td>\n",
       "      <td>1.100000</td>\n",
       "      <td>2.500000</td>\n",
       "      <td>0.900000</td>\n",
       "      <td>25.000000</td>\n",
       "      <td>1.000000</td>\n",
       "    </tr>\n",
       "    <tr>\n",
       "      <th>75%</th>\n",
       "      <td>1.000000</td>\n",
       "      <td>55.250000</td>\n",
       "      <td>6.100000</td>\n",
       "      <td>82.250000</td>\n",
       "      <td>8.200000</td>\n",
       "      <td>5.300000</td>\n",
       "      <td>2.725000</td>\n",
       "      <td>1.325000</td>\n",
       "      <td>3.200000</td>\n",
       "      <td>1.300000</td>\n",
       "      <td>30.000000</td>\n",
       "      <td>2.000000</td>\n",
       "    </tr>\n",
       "    <tr>\n",
       "      <th>max</th>\n",
       "      <td>1.000000</td>\n",
       "      <td>77.000000</td>\n",
       "      <td>26.400000</td>\n",
       "      <td>800.000000</td>\n",
       "      <td>14.600000</td>\n",
       "      <td>9.500000</td>\n",
       "      <td>8.700000</td>\n",
       "      <td>4.000000</td>\n",
       "      <td>5.600000</td>\n",
       "      <td>31.800000</td>\n",
       "      <td>43.250000</td>\n",
       "      <td>2.000000</td>\n",
       "    </tr>\n",
       "  </tbody>\n",
       "</table>\n",
       "</div>"
      ],
      "text/plain": [
       "           Gender         AGE        Urea          Cr       HbA1c        Chol  \\\n",
       "count  264.000000  264.000000  264.000000  264.000000  264.000000  264.000000   \n",
       "mean     0.545455   49.522727    5.671515   85.806818    6.862727    4.594394   \n",
       "std      0.498875   10.127301    4.002837   99.400047    2.544604    1.289062   \n",
       "min      0.000000   25.000000    1.100000    6.000000    0.900000    0.000000   \n",
       "25%      0.000000   43.000000    3.600000   46.000000    5.000000    3.875000   \n",
       "50%      1.000000   50.000000    4.700000   61.000000    6.100000    4.500000   \n",
       "75%      1.000000   55.250000    6.100000   82.250000    8.200000    5.300000   \n",
       "max      1.000000   77.000000   26.400000  800.000000   14.600000    9.500000   \n",
       "\n",
       "               TG         HDL         LDL        VLDL         BMI       Class  \n",
       "count  264.000000  264.000000  264.000000  264.000000  264.000000  264.000000  \n",
       "mean     2.151894    1.182879    2.530871    1.479167   26.626856    1.121212  \n",
       "std      1.265841    0.455591    1.000173    3.099856    5.093652    0.914857  \n",
       "min      0.600000    0.400000    0.300000    0.200000   19.000000    0.000000  \n",
       "25%      1.300000    0.900000    1.800000    0.675000   23.000000    0.000000  \n",
       "50%      1.800000    1.100000    2.500000    0.900000   25.000000    1.000000  \n",
       "75%      2.725000    1.325000    3.200000    1.300000   30.000000    2.000000  \n",
       "max      8.700000    4.000000    5.600000   31.800000   43.250000    2.000000  "
      ]
     },
     "execution_count": 6,
     "metadata": {},
     "output_type": "execute_result"
    }
   ],
   "source": [
    "df.describe()"
   ]
  },
  {
   "cell_type": "code",
   "execution_count": 7,
   "id": "d6fd3054",
   "metadata": {
    "execution": {
     "iopub.execute_input": "2025-07-24T06:59:12.011154Z",
     "iopub.status.busy": "2025-07-24T06:59:12.010767Z",
     "iopub.status.idle": "2025-07-24T06:59:12.019573Z",
     "shell.execute_reply": "2025-07-24T06:59:12.018202Z"
    },
    "papermill": {
     "duration": 0.016252,
     "end_time": "2025-07-24T06:59:12.021352",
     "exception": false,
     "start_time": "2025-07-24T06:59:12.005100",
     "status": "completed"
    },
    "tags": []
   },
   "outputs": [
    {
     "data": {
      "text/plain": [
       "Gender    0\n",
       "AGE       0\n",
       "Urea      0\n",
       "Cr        0\n",
       "HbA1c     0\n",
       "Chol      0\n",
       "TG        0\n",
       "HDL       0\n",
       "LDL       0\n",
       "VLDL      0\n",
       "BMI       0\n",
       "Class     0\n",
       "dtype: int64"
      ]
     },
     "execution_count": 7,
     "metadata": {},
     "output_type": "execute_result"
    }
   ],
   "source": [
    "df.isnull().sum()"
   ]
  },
  {
   "cell_type": "code",
   "execution_count": 8,
   "id": "e64f9581",
   "metadata": {
    "execution": {
     "iopub.execute_input": "2025-07-24T06:59:12.032917Z",
     "iopub.status.busy": "2025-07-24T06:59:12.032225Z",
     "iopub.status.idle": "2025-07-24T06:59:12.038711Z",
     "shell.execute_reply": "2025-07-24T06:59:12.037721Z"
    },
    "papermill": {
     "duration": 0.014182,
     "end_time": "2025-07-24T06:59:12.040536",
     "exception": false,
     "start_time": "2025-07-24T06:59:12.026354",
     "status": "completed"
    },
    "tags": []
   },
   "outputs": [
    {
     "data": {
      "text/plain": [
       "Index(['Gender', 'AGE', 'Urea', 'Cr', 'HbA1c', 'Chol', 'TG', 'HDL', 'LDL',\n",
       "       'VLDL', 'BMI', 'Class'],\n",
       "      dtype='object')"
      ]
     },
     "execution_count": 8,
     "metadata": {},
     "output_type": "execute_result"
    }
   ],
   "source": [
    "df.columns"
   ]
  },
  {
   "cell_type": "markdown",
   "id": "228a73db",
   "metadata": {
    "papermill": {
     "duration": 0.004666,
     "end_time": "2025-07-24T06:59:12.050183",
     "exception": false,
     "start_time": "2025-07-24T06:59:12.045517",
     "status": "completed"
    },
    "tags": []
   },
   "source": [
    "# Data Preprocessing and splitting "
   ]
  },
  {
   "cell_type": "code",
   "execution_count": 9,
   "id": "bce2ca12",
   "metadata": {
    "execution": {
     "iopub.execute_input": "2025-07-24T06:59:12.061834Z",
     "iopub.status.busy": "2025-07-24T06:59:12.061451Z",
     "iopub.status.idle": "2025-07-24T06:59:12.069306Z",
     "shell.execute_reply": "2025-07-24T06:59:12.068309Z"
    },
    "papermill": {
     "duration": 0.015569,
     "end_time": "2025-07-24T06:59:12.071036",
     "exception": false,
     "start_time": "2025-07-24T06:59:12.055467",
     "status": "completed"
    },
    "tags": []
   },
   "outputs": [],
   "source": [
    "X = df.drop(\"Class\",axis=1)\n",
    "y = df[\"Class\"]"
   ]
  },
  {
   "cell_type": "code",
   "execution_count": 10,
   "id": "53edc3e7",
   "metadata": {
    "execution": {
     "iopub.execute_input": "2025-07-24T06:59:12.082874Z",
     "iopub.status.busy": "2025-07-24T06:59:12.082472Z",
     "iopub.status.idle": "2025-07-24T06:59:12.090692Z",
     "shell.execute_reply": "2025-07-24T06:59:12.089861Z"
    },
    "papermill": {
     "duration": 0.015872,
     "end_time": "2025-07-24T06:59:12.092293",
     "exception": false,
     "start_time": "2025-07-24T06:59:12.076421",
     "status": "completed"
    },
    "tags": []
   },
   "outputs": [],
   "source": [
    "X_train, X_test, y_train, y_test = train_test_split(X, y, test_size=0.2)"
   ]
  },
  {
   "cell_type": "code",
   "execution_count": 11,
   "id": "5dc8d4ab",
   "metadata": {
    "execution": {
     "iopub.execute_input": "2025-07-24T06:59:12.103388Z",
     "iopub.status.busy": "2025-07-24T06:59:12.103078Z",
     "iopub.status.idle": "2025-07-24T06:59:12.114304Z",
     "shell.execute_reply": "2025-07-24T06:59:12.113245Z"
    },
    "papermill": {
     "duration": 0.018867,
     "end_time": "2025-07-24T06:59:12.116191",
     "exception": false,
     "start_time": "2025-07-24T06:59:12.097324",
     "status": "completed"
    },
    "tags": []
   },
   "outputs": [],
   "source": [
    "scaler = StandardScaler()\n",
    "X_train_scaled = scaler.fit_transform(X_train)\n",
    "X_test_scaled = scaler.transform(X_test)"
   ]
  },
  {
   "cell_type": "markdown",
   "id": "95de5636",
   "metadata": {
    "papermill": {
     "duration": 0.004914,
     "end_time": "2025-07-24T06:59:12.126434",
     "exception": false,
     "start_time": "2025-07-24T06:59:12.121520",
     "status": "completed"
    },
    "tags": []
   },
   "source": [
    "# Model Implementation "
   ]
  },
  {
   "cell_type": "code",
   "execution_count": 12,
   "id": "df87703a",
   "metadata": {
    "execution": {
     "iopub.execute_input": "2025-07-24T06:59:12.138506Z",
     "iopub.status.busy": "2025-07-24T06:59:12.138166Z",
     "iopub.status.idle": "2025-07-24T06:59:12.316098Z",
     "shell.execute_reply": "2025-07-24T06:59:12.314744Z"
    },
    "papermill": {
     "duration": 0.186373,
     "end_time": "2025-07-24T06:59:12.318316",
     "exception": false,
     "start_time": "2025-07-24T06:59:12.131943",
     "status": "completed"
    },
    "tags": []
   },
   "outputs": [],
   "source": [
    "rf = RandomForestClassifier(n_estimators=100, random_state=42)\n",
    "rf.fit(X_train, y_train)\n",
    "\n",
    "y_pred = rf.predict(X_test)"
   ]
  },
  {
   "cell_type": "code",
   "execution_count": 13,
   "id": "95222733",
   "metadata": {
    "execution": {
     "iopub.execute_input": "2025-07-24T06:59:12.330403Z",
     "iopub.status.busy": "2025-07-24T06:59:12.330059Z",
     "iopub.status.idle": "2025-07-24T06:59:12.365381Z",
     "shell.execute_reply": "2025-07-24T06:59:12.364224Z"
    },
    "papermill": {
     "duration": 0.043727,
     "end_time": "2025-07-24T06:59:12.367340",
     "exception": false,
     "start_time": "2025-07-24T06:59:12.323613",
     "status": "completed"
    },
    "tags": []
   },
   "outputs": [
    {
     "name": "stdout",
     "output_type": "stream",
     "text": [
      "✅ Confusion Matrix:\n",
      "[[14  0  0]\n",
      " [ 0 11  1]\n",
      " [ 1  0 26]]\n",
      "\n",
      "🔍 Classification Report:\n",
      "              precision    recall  f1-score   support\n",
      "\n",
      "           0       0.93      1.00      0.97        14\n",
      "           1       1.00      0.92      0.96        12\n",
      "           2       0.96      0.96      0.96        27\n",
      "\n",
      "    accuracy                           0.96        53\n",
      "   macro avg       0.97      0.96      0.96        53\n",
      "weighted avg       0.96      0.96      0.96        53\n",
      "\n",
      "\n",
      "📈 Evaluation Metrics:\n",
      "Accuracy: 0.9622641509433962\n",
      "Precision (macro): 0.9654320987654321\n",
      "Recall (macro): 0.9598765432098765\n",
      "F1 Score (macro): 0.9616673144909026\n",
      "Precision (weighted): 0.9635220125786162\n",
      "Recall (weighted): 0.9622641509433962\n",
      "F1 Score (weighted): 0.9621792877146333\n"
     ]
    }
   ],
   "source": [
    "if len(np.shape(y_test)) > 1 and y_test.shape[1] > 1:\n",
    "    y_test = np.argmax(y_test, axis=1)\n",
    "if len(np.shape(y_pred)) > 1 and y_pred.shape[1] > 1:\n",
    "    y_pred = np.argmax(y_pred, axis=1)\n",
    "\n",
    "# 📊 Confusion Matrix\n",
    "print(\"✅ Confusion Matrix:\")\n",
    "print(confusion_matrix(y_test, y_pred))\n",
    "\n",
    "# 📋 Classification Report\n",
    "print(\"\\n🔍 Classification Report:\")\n",
    "print(classification_report(y_test, y_pred))\n",
    "\n",
    "# 🔢 Individual Metrics\n",
    "print(\"\\n📈 Evaluation Metrics:\")\n",
    "print(\"Accuracy:\", accuracy_score(y_test, y_pred))\n",
    "print(\"Precision (macro):\", precision_score(y_test, y_pred, average='macro'))\n",
    "print(\"Recall (macro):\", recall_score(y_test, y_pred, average='macro'))\n",
    "print(\"F1 Score (macro):\", f1_score(y_test, y_pred, average='macro'))\n",
    "\n",
    "print(\"Precision (weighted):\", precision_score(y_test, y_pred, average='weighted'))\n",
    "print(\"Recall (weighted):\", recall_score(y_test, y_pred, average='weighted'))\n",
    "print(\"F1 Score (weighted):\", f1_score(y_test, y_pred, average='weighted'))"
   ]
  }
 ],
 "metadata": {
  "kaggle": {
   "accelerator": "none",
   "dataSources": [
    {
     "datasetId": 7893517,
     "sourceId": 12506498,
     "sourceType": "datasetVersion"
    }
   ],
   "dockerImageVersionId": 31089,
   "isGpuEnabled": false,
   "isInternetEnabled": true,
   "language": "python",
   "sourceType": "notebook"
  },
  "kernelspec": {
   "display_name": "Python 3",
   "language": "python",
   "name": "python3"
  },
  "language_info": {
   "codemirror_mode": {
    "name": "ipython",
    "version": 3
   },
   "file_extension": ".py",
   "mimetype": "text/x-python",
   "name": "python",
   "nbconvert_exporter": "python",
   "pygments_lexer": "ipython3",
   "version": "3.11.13"
  },
  "papermill": {
   "default_parameters": {},
   "duration": 11.65444,
   "end_time": "2025-07-24T06:59:13.093317",
   "environment_variables": {},
   "exception": null,
   "input_path": "__notebook__.ipynb",
   "output_path": "__notebook__.ipynb",
   "parameters": {},
   "start_time": "2025-07-24T06:59:01.438877",
   "version": "2.6.0"
  }
 },
 "nbformat": 4,
 "nbformat_minor": 5
}
