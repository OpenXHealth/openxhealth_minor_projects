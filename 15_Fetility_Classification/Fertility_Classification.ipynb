{
 "cells": [
  {
   "cell_type": "markdown",
   "id": "1c3419bf",
   "metadata": {
    "papermill": {
     "duration": 0.004456,
     "end_time": "2025-08-04T14:44:49.426176",
     "exception": false,
     "start_time": "2025-08-04T14:44:49.421720",
     "status": "completed"
    },
    "tags": []
   },
   "source": [
    "# FERTILITY "
   ]
  },
  {
   "cell_type": "markdown",
   "id": "f4e03745",
   "metadata": {
    "papermill": {
     "duration": 0.003786,
     "end_time": "2025-08-04T14:44:49.433797",
     "exception": false,
     "start_time": "2025-08-04T14:44:49.430011",
     "status": "completed"
    },
    "tags": []
   },
   "source": [
    "# Import Libraries \n"
   ]
  },
  {
   "cell_type": "code",
   "execution_count": 1,
   "id": "4086d6c2",
   "metadata": {
    "_cell_guid": "b1076dfc-b9ad-4769-8c92-a6c4dae69d19",
    "_uuid": "8f2839f25d086af736a60e9eeb907d3b93b6e0e5",
    "execution": {
     "iopub.execute_input": "2025-08-04T14:44:49.441920Z",
     "iopub.status.busy": "2025-08-04T14:44:49.441681Z",
     "iopub.status.idle": "2025-08-04T14:44:54.941550Z",
     "shell.execute_reply": "2025-08-04T14:44:54.940793Z"
    },
    "papermill": {
     "duration": 5.505608,
     "end_time": "2025-08-04T14:44:54.943101",
     "exception": false,
     "start_time": "2025-08-04T14:44:49.437493",
     "status": "completed"
    },
    "tags": []
   },
   "outputs": [],
   "source": [
    "import numpy as np \n",
    "import pandas as pd \n",
    "import matplotlib.pyplot as plt \n",
    "import seaborn as sns \n",
    "from sklearn.preprocessing import LabelEncoder\n",
    "from sklearn.model_selection import train_test_split\n",
    "from sklearn.ensemble import RandomForestClassifier\n",
    "from xgboost import XGBClassifier\n",
    "from sklearn.metrics import accuracy_score, classification_report, confusion_matrix"
   ]
  },
  {
   "cell_type": "markdown",
   "id": "ca4605c9",
   "metadata": {
    "papermill": {
     "duration": 0.003615,
     "end_time": "2025-08-04T14:44:54.950875",
     "exception": false,
     "start_time": "2025-08-04T14:44:54.947260",
     "status": "completed"
    },
    "tags": []
   },
   "source": [
    "# Load Data "
   ]
  },
  {
   "cell_type": "code",
   "execution_count": 2,
   "id": "82df8455",
   "metadata": {
    "execution": {
     "iopub.execute_input": "2025-08-04T14:44:54.959457Z",
     "iopub.status.busy": "2025-08-04T14:44:54.958794Z",
     "iopub.status.idle": "2025-08-04T14:44:55.000140Z",
     "shell.execute_reply": "2025-08-04T14:44:54.999513Z"
    },
    "papermill": {
     "duration": 0.046638,
     "end_time": "2025-08-04T14:44:55.001271",
     "exception": false,
     "start_time": "2025-08-04T14:44:54.954633",
     "status": "completed"
    },
    "tags": []
   },
   "outputs": [
    {
     "data": {
      "text/html": [
       "<div>\n",
       "<style scoped>\n",
       "    .dataframe tbody tr th:only-of-type {\n",
       "        vertical-align: middle;\n",
       "    }\n",
       "\n",
       "    .dataframe tbody tr th {\n",
       "        vertical-align: top;\n",
       "    }\n",
       "\n",
       "    .dataframe thead th {\n",
       "        text-align: right;\n",
       "    }\n",
       "</style>\n",
       "<table border=\"1\" class=\"dataframe\">\n",
       "  <thead>\n",
       "    <tr style=\"text-align: right;\">\n",
       "      <th></th>\n",
       "      <th>Season</th>\n",
       "      <th>Age</th>\n",
       "      <th>Childish diseases</th>\n",
       "      <th>Accident or serious trauma</th>\n",
       "      <th>Surgical intervention</th>\n",
       "      <th>High fevers in the last year</th>\n",
       "      <th>Frequency of alcohol consumption</th>\n",
       "      <th>Smoking habit</th>\n",
       "      <th>Number of hours spent sitting per day</th>\n",
       "      <th>Diagnosis</th>\n",
       "    </tr>\n",
       "  </thead>\n",
       "  <tbody>\n",
       "    <tr>\n",
       "      <th>0</th>\n",
       "      <td>spring</td>\n",
       "      <td>30</td>\n",
       "      <td>no</td>\n",
       "      <td>yes</td>\n",
       "      <td>yes</td>\n",
       "      <td>more than 3 months ago</td>\n",
       "      <td>once a week</td>\n",
       "      <td>occasional</td>\n",
       "      <td>16</td>\n",
       "      <td>Normal</td>\n",
       "    </tr>\n",
       "    <tr>\n",
       "      <th>1</th>\n",
       "      <td>spring</td>\n",
       "      <td>35</td>\n",
       "      <td>yes</td>\n",
       "      <td>no</td>\n",
       "      <td>yes</td>\n",
       "      <td>more than 3 months ago</td>\n",
       "      <td>once a week</td>\n",
       "      <td>daily</td>\n",
       "      <td>6</td>\n",
       "      <td>Altered</td>\n",
       "    </tr>\n",
       "    <tr>\n",
       "      <th>2</th>\n",
       "      <td>spring</td>\n",
       "      <td>27</td>\n",
       "      <td>yes</td>\n",
       "      <td>no</td>\n",
       "      <td>no</td>\n",
       "      <td>more than 3 months ago</td>\n",
       "      <td>hardly ever or never</td>\n",
       "      <td>never</td>\n",
       "      <td>9</td>\n",
       "      <td>Normal</td>\n",
       "    </tr>\n",
       "    <tr>\n",
       "      <th>3</th>\n",
       "      <td>spring</td>\n",
       "      <td>32</td>\n",
       "      <td>no</td>\n",
       "      <td>yes</td>\n",
       "      <td>yes</td>\n",
       "      <td>more than 3 months ago</td>\n",
       "      <td>hardly ever or never</td>\n",
       "      <td>never</td>\n",
       "      <td>7</td>\n",
       "      <td>Normal</td>\n",
       "    </tr>\n",
       "    <tr>\n",
       "      <th>4</th>\n",
       "      <td>spring</td>\n",
       "      <td>30</td>\n",
       "      <td>yes</td>\n",
       "      <td>yes</td>\n",
       "      <td>no</td>\n",
       "      <td>more than 3 months ago</td>\n",
       "      <td>once a week</td>\n",
       "      <td>never</td>\n",
       "      <td>9</td>\n",
       "      <td>Altered</td>\n",
       "    </tr>\n",
       "  </tbody>\n",
       "</table>\n",
       "</div>"
      ],
      "text/plain": [
       "   Season  Age Childish diseases Accident or serious trauma  \\\n",
       "0  spring   30                no                        yes   \n",
       "1  spring   35               yes                         no   \n",
       "2  spring   27               yes                         no   \n",
       "3  spring   32                no                        yes   \n",
       "4  spring   30               yes                        yes   \n",
       "\n",
       "  Surgical intervention High fevers in the last year  \\\n",
       "0                   yes       more than 3 months ago   \n",
       "1                   yes       more than 3 months ago   \n",
       "2                    no       more than 3 months ago   \n",
       "3                   yes       more than 3 months ago   \n",
       "4                    no       more than 3 months ago   \n",
       "\n",
       "  Frequency of alcohol consumption Smoking habit  \\\n",
       "0                      once a week    occasional   \n",
       "1                      once a week         daily   \n",
       "2             hardly ever or never         never   \n",
       "3             hardly ever or never         never   \n",
       "4                      once a week         never   \n",
       "\n",
       "   Number of hours spent sitting per day Diagnosis  \n",
       "0                                     16    Normal  \n",
       "1                                      6   Altered  \n",
       "2                                      9    Normal  \n",
       "3                                      7    Normal  \n",
       "4                                      9   Altered  "
      ]
     },
     "execution_count": 2,
     "metadata": {},
     "output_type": "execute_result"
    }
   ],
   "source": [
    "df = pd.read_csv(\"/kaggle/input/fertility-data-set/fertility.csv\")\n",
    "df.head()"
   ]
  },
  {
   "cell_type": "markdown",
   "id": "114c50d3",
   "metadata": {
    "papermill": {
     "duration": 0.00391,
     "end_time": "2025-08-04T14:44:55.009250",
     "exception": false,
     "start_time": "2025-08-04T14:44:55.005340",
     "status": "completed"
    },
    "tags": []
   },
   "source": [
    "# Data Analysis "
   ]
  },
  {
   "cell_type": "code",
   "execution_count": 3,
   "id": "36b6bb6c",
   "metadata": {
    "execution": {
     "iopub.execute_input": "2025-08-04T14:44:55.018576Z",
     "iopub.status.busy": "2025-08-04T14:44:55.018388Z",
     "iopub.status.idle": "2025-08-04T14:44:55.022481Z",
     "shell.execute_reply": "2025-08-04T14:44:55.021900Z"
    },
    "papermill": {
     "duration": 0.010388,
     "end_time": "2025-08-04T14:44:55.023492",
     "exception": false,
     "start_time": "2025-08-04T14:44:55.013104",
     "status": "completed"
    },
    "tags": []
   },
   "outputs": [
    {
     "data": {
      "text/plain": [
       "(100, 10)"
      ]
     },
     "execution_count": 3,
     "metadata": {},
     "output_type": "execute_result"
    }
   ],
   "source": [
    "df.shape"
   ]
  },
  {
   "cell_type": "code",
   "execution_count": 4,
   "id": "cf0e4b68",
   "metadata": {
    "execution": {
     "iopub.execute_input": "2025-08-04T14:44:55.031804Z",
     "iopub.status.busy": "2025-08-04T14:44:55.031591Z",
     "iopub.status.idle": "2025-08-04T14:44:55.036839Z",
     "shell.execute_reply": "2025-08-04T14:44:55.036285Z"
    },
    "papermill": {
     "duration": 0.010628,
     "end_time": "2025-08-04T14:44:55.037877",
     "exception": false,
     "start_time": "2025-08-04T14:44:55.027249",
     "status": "completed"
    },
    "tags": []
   },
   "outputs": [
    {
     "data": {
      "text/plain": [
       "Season                                   0\n",
       "Age                                      0\n",
       "Childish diseases                        0\n",
       "Accident or serious trauma               0\n",
       "Surgical intervention                    0\n",
       "High fevers in the last year             0\n",
       "Frequency of alcohol consumption         0\n",
       "Smoking habit                            0\n",
       "Number of hours spent sitting per day    0\n",
       "Diagnosis                                0\n",
       "dtype: int64"
      ]
     },
     "execution_count": 4,
     "metadata": {},
     "output_type": "execute_result"
    }
   ],
   "source": [
    "df.isnull().sum()"
   ]
  },
  {
   "cell_type": "code",
   "execution_count": 5,
   "id": "fa696cc3",
   "metadata": {
    "execution": {
     "iopub.execute_input": "2025-08-04T14:44:55.046271Z",
     "iopub.status.busy": "2025-08-04T14:44:55.046075Z",
     "iopub.status.idle": "2025-08-04T14:44:55.073603Z",
     "shell.execute_reply": "2025-08-04T14:44:55.072815Z"
    },
    "papermill": {
     "duration": 0.032841,
     "end_time": "2025-08-04T14:44:55.074644",
     "exception": false,
     "start_time": "2025-08-04T14:44:55.041803",
     "status": "completed"
    },
    "tags": []
   },
   "outputs": [
    {
     "name": "stdout",
     "output_type": "stream",
     "text": [
      "<class 'pandas.core.frame.DataFrame'>\n",
      "RangeIndex: 100 entries, 0 to 99\n",
      "Data columns (total 10 columns):\n",
      " #   Column                                 Non-Null Count  Dtype \n",
      "---  ------                                 --------------  ----- \n",
      " 0   Season                                 100 non-null    object\n",
      " 1   Age                                    100 non-null    int64 \n",
      " 2   Childish diseases                      100 non-null    object\n",
      " 3   Accident or serious trauma             100 non-null    object\n",
      " 4   Surgical intervention                  100 non-null    object\n",
      " 5   High fevers in the last year           100 non-null    object\n",
      " 6   Frequency of alcohol consumption       100 non-null    object\n",
      " 7   Smoking habit                          100 non-null    object\n",
      " 8   Number of hours spent sitting per day  100 non-null    int64 \n",
      " 9   Diagnosis                              100 non-null    object\n",
      "dtypes: int64(2), object(8)\n",
      "memory usage: 7.9+ KB\n"
     ]
    }
   ],
   "source": [
    "df.info()"
   ]
  },
  {
   "cell_type": "code",
   "execution_count": 6,
   "id": "2d82e0b7",
   "metadata": {
    "execution": {
     "iopub.execute_input": "2025-08-04T14:44:55.083869Z",
     "iopub.status.busy": "2025-08-04T14:44:55.083333Z",
     "iopub.status.idle": "2025-08-04T14:44:55.105230Z",
     "shell.execute_reply": "2025-08-04T14:44:55.104669Z"
    },
    "papermill": {
     "duration": 0.027569,
     "end_time": "2025-08-04T14:44:55.106259",
     "exception": false,
     "start_time": "2025-08-04T14:44:55.078690",
     "status": "completed"
    },
    "tags": []
   },
   "outputs": [
    {
     "data": {
      "text/html": [
       "<div>\n",
       "<style scoped>\n",
       "    .dataframe tbody tr th:only-of-type {\n",
       "        vertical-align: middle;\n",
       "    }\n",
       "\n",
       "    .dataframe tbody tr th {\n",
       "        vertical-align: top;\n",
       "    }\n",
       "\n",
       "    .dataframe thead th {\n",
       "        text-align: right;\n",
       "    }\n",
       "</style>\n",
       "<table border=\"1\" class=\"dataframe\">\n",
       "  <thead>\n",
       "    <tr style=\"text-align: right;\">\n",
       "      <th></th>\n",
       "      <th>Age</th>\n",
       "      <th>Number of hours spent sitting per day</th>\n",
       "    </tr>\n",
       "  </thead>\n",
       "  <tbody>\n",
       "    <tr>\n",
       "      <th>count</th>\n",
       "      <td>100.000000</td>\n",
       "      <td>100.000000</td>\n",
       "    </tr>\n",
       "    <tr>\n",
       "      <th>mean</th>\n",
       "      <td>30.110000</td>\n",
       "      <td>10.800000</td>\n",
       "    </tr>\n",
       "    <tr>\n",
       "      <th>std</th>\n",
       "      <td>2.246861</td>\n",
       "      <td>33.616975</td>\n",
       "    </tr>\n",
       "    <tr>\n",
       "      <th>min</th>\n",
       "      <td>27.000000</td>\n",
       "      <td>1.000000</td>\n",
       "    </tr>\n",
       "    <tr>\n",
       "      <th>25%</th>\n",
       "      <td>28.000000</td>\n",
       "      <td>5.000000</td>\n",
       "    </tr>\n",
       "    <tr>\n",
       "      <th>50%</th>\n",
       "      <td>30.000000</td>\n",
       "      <td>7.000000</td>\n",
       "    </tr>\n",
       "    <tr>\n",
       "      <th>75%</th>\n",
       "      <td>32.000000</td>\n",
       "      <td>9.000000</td>\n",
       "    </tr>\n",
       "    <tr>\n",
       "      <th>max</th>\n",
       "      <td>36.000000</td>\n",
       "      <td>342.000000</td>\n",
       "    </tr>\n",
       "  </tbody>\n",
       "</table>\n",
       "</div>"
      ],
      "text/plain": [
       "              Age  Number of hours spent sitting per day\n",
       "count  100.000000                             100.000000\n",
       "mean    30.110000                              10.800000\n",
       "std      2.246861                              33.616975\n",
       "min     27.000000                               1.000000\n",
       "25%     28.000000                               5.000000\n",
       "50%     30.000000                               7.000000\n",
       "75%     32.000000                               9.000000\n",
       "max     36.000000                             342.000000"
      ]
     },
     "execution_count": 6,
     "metadata": {},
     "output_type": "execute_result"
    }
   ],
   "source": [
    "df.describe()"
   ]
  },
  {
   "cell_type": "code",
   "execution_count": 7,
   "id": "41821e83",
   "metadata": {
    "execution": {
     "iopub.execute_input": "2025-08-04T14:44:55.115526Z",
     "iopub.status.busy": "2025-08-04T14:44:55.115331Z",
     "iopub.status.idle": "2025-08-04T14:44:55.119370Z",
     "shell.execute_reply": "2025-08-04T14:44:55.118882Z"
    },
    "papermill": {
     "duration": 0.009702,
     "end_time": "2025-08-04T14:44:55.120372",
     "exception": false,
     "start_time": "2025-08-04T14:44:55.110670",
     "status": "completed"
    },
    "tags": []
   },
   "outputs": [
    {
     "data": {
      "text/plain": [
       "Index(['Season', 'Age', 'Childish diseases', 'Accident or serious trauma',\n",
       "       'Surgical intervention', 'High fevers in the last year',\n",
       "       'Frequency of alcohol consumption', 'Smoking habit',\n",
       "       'Number of hours spent sitting per day', 'Diagnosis'],\n",
       "      dtype='object')"
      ]
     },
     "execution_count": 7,
     "metadata": {},
     "output_type": "execute_result"
    }
   ],
   "source": [
    "df.columns"
   ]
  },
  {
   "cell_type": "code",
   "execution_count": 8,
   "id": "f34e2f9b",
   "metadata": {
    "execution": {
     "iopub.execute_input": "2025-08-04T14:44:55.129426Z",
     "iopub.status.busy": "2025-08-04T14:44:55.129220Z",
     "iopub.status.idle": "2025-08-04T14:44:55.134244Z",
     "shell.execute_reply": "2025-08-04T14:44:55.133665Z"
    },
    "papermill": {
     "duration": 0.010637,
     "end_time": "2025-08-04T14:44:55.135227",
     "exception": false,
     "start_time": "2025-08-04T14:44:55.124590",
     "status": "completed"
    },
    "tags": []
   },
   "outputs": [
    {
     "data": {
      "text/plain": [
       "Season\n",
       "spring    37\n",
       "fall      31\n",
       "winter    28\n",
       "summer     4\n",
       "Name: count, dtype: int64"
      ]
     },
     "execution_count": 8,
     "metadata": {},
     "output_type": "execute_result"
    }
   ],
   "source": [
    "df[\"Season\"].value_counts()"
   ]
  },
  {
   "cell_type": "code",
   "execution_count": 9,
   "id": "1aca8e26",
   "metadata": {
    "execution": {
     "iopub.execute_input": "2025-08-04T14:44:55.144079Z",
     "iopub.status.busy": "2025-08-04T14:44:55.143883Z",
     "iopub.status.idle": "2025-08-04T14:44:55.148617Z",
     "shell.execute_reply": "2025-08-04T14:44:55.148092Z"
    },
    "papermill": {
     "duration": 0.010336,
     "end_time": "2025-08-04T14:44:55.149635",
     "exception": false,
     "start_time": "2025-08-04T14:44:55.139299",
     "status": "completed"
    },
    "tags": []
   },
   "outputs": [
    {
     "data": {
      "text/plain": [
       "Childish diseases\n",
       "yes    87\n",
       "no     13\n",
       "Name: count, dtype: int64"
      ]
     },
     "execution_count": 9,
     "metadata": {},
     "output_type": "execute_result"
    }
   ],
   "source": [
    "df[\"Childish diseases\"].value_counts()"
   ]
  },
  {
   "cell_type": "code",
   "execution_count": 10,
   "id": "e920a8c0",
   "metadata": {
    "execution": {
     "iopub.execute_input": "2025-08-04T14:44:55.158586Z",
     "iopub.status.busy": "2025-08-04T14:44:55.158380Z",
     "iopub.status.idle": "2025-08-04T14:44:55.163154Z",
     "shell.execute_reply": "2025-08-04T14:44:55.162625Z"
    },
    "papermill": {
     "duration": 0.010276,
     "end_time": "2025-08-04T14:44:55.164157",
     "exception": false,
     "start_time": "2025-08-04T14:44:55.153881",
     "status": "completed"
    },
    "tags": []
   },
   "outputs": [
    {
     "data": {
      "text/plain": [
       "Accident or serious trauma\n",
       "no     56\n",
       "yes    44\n",
       "Name: count, dtype: int64"
      ]
     },
     "execution_count": 10,
     "metadata": {},
     "output_type": "execute_result"
    }
   ],
   "source": [
    "df[\"Accident or serious trauma\"].value_counts()"
   ]
  },
  {
   "cell_type": "code",
   "execution_count": 11,
   "id": "00c50bb5",
   "metadata": {
    "execution": {
     "iopub.execute_input": "2025-08-04T14:44:55.173447Z",
     "iopub.status.busy": "2025-08-04T14:44:55.173258Z",
     "iopub.status.idle": "2025-08-04T14:44:55.178028Z",
     "shell.execute_reply": "2025-08-04T14:44:55.177497Z"
    },
    "papermill": {
     "duration": 0.010384,
     "end_time": "2025-08-04T14:44:55.178986",
     "exception": false,
     "start_time": "2025-08-04T14:44:55.168602",
     "status": "completed"
    },
    "tags": []
   },
   "outputs": [
    {
     "data": {
      "text/plain": [
       "Accident or serious trauma\n",
       "no     56\n",
       "yes    44\n",
       "Name: count, dtype: int64"
      ]
     },
     "execution_count": 11,
     "metadata": {},
     "output_type": "execute_result"
    }
   ],
   "source": [
    "df[\"Accident or serious trauma\"].value_counts()"
   ]
  },
  {
   "cell_type": "code",
   "execution_count": 12,
   "id": "0933dcb5",
   "metadata": {
    "execution": {
     "iopub.execute_input": "2025-08-04T14:44:55.188634Z",
     "iopub.status.busy": "2025-08-04T14:44:55.188443Z",
     "iopub.status.idle": "2025-08-04T14:44:55.193432Z",
     "shell.execute_reply": "2025-08-04T14:44:55.192789Z"
    },
    "papermill": {
     "duration": 0.01097,
     "end_time": "2025-08-04T14:44:55.194513",
     "exception": false,
     "start_time": "2025-08-04T14:44:55.183543",
     "status": "completed"
    },
    "tags": []
   },
   "outputs": [
    {
     "data": {
      "text/plain": [
       "High fevers in the last year\n",
       "more than 3 months ago    63\n",
       "no                        28\n",
       "less than 3 months ago     9\n",
       "Name: count, dtype: int64"
      ]
     },
     "execution_count": 12,
     "metadata": {},
     "output_type": "execute_result"
    }
   ],
   "source": [
    "df[\"High fevers in the last year\"].value_counts()"
   ]
  },
  {
   "cell_type": "code",
   "execution_count": 13,
   "id": "4e000deb",
   "metadata": {
    "execution": {
     "iopub.execute_input": "2025-08-04T14:44:55.204184Z",
     "iopub.status.busy": "2025-08-04T14:44:55.204007Z",
     "iopub.status.idle": "2025-08-04T14:44:55.208989Z",
     "shell.execute_reply": "2025-08-04T14:44:55.208493Z"
    },
    "papermill": {
     "duration": 0.011109,
     "end_time": "2025-08-04T14:44:55.210039",
     "exception": false,
     "start_time": "2025-08-04T14:44:55.198930",
     "status": "completed"
    },
    "tags": []
   },
   "outputs": [
    {
     "data": {
      "text/plain": [
       "Frequency of alcohol consumption\n",
       "hardly ever or never    40\n",
       "once a week             39\n",
       "several times a week    19\n",
       "several times a day      1\n",
       "every day                1\n",
       "Name: count, dtype: int64"
      ]
     },
     "execution_count": 13,
     "metadata": {},
     "output_type": "execute_result"
    }
   ],
   "source": [
    "df[\"Frequency of alcohol consumption\"].value_counts()"
   ]
  },
  {
   "cell_type": "code",
   "execution_count": 14,
   "id": "dca95083",
   "metadata": {
    "execution": {
     "iopub.execute_input": "2025-08-04T14:44:55.219822Z",
     "iopub.status.busy": "2025-08-04T14:44:55.219589Z",
     "iopub.status.idle": "2025-08-04T14:44:55.224635Z",
     "shell.execute_reply": "2025-08-04T14:44:55.223975Z"
    },
    "papermill": {
     "duration": 0.011094,
     "end_time": "2025-08-04T14:44:55.225733",
     "exception": false,
     "start_time": "2025-08-04T14:44:55.214639",
     "status": "completed"
    },
    "tags": []
   },
   "outputs": [
    {
     "data": {
      "text/plain": [
       "Smoking habit\n",
       "never         56\n",
       "occasional    23\n",
       "daily         21\n",
       "Name: count, dtype: int64"
      ]
     },
     "execution_count": 14,
     "metadata": {},
     "output_type": "execute_result"
    }
   ],
   "source": [
    "df[\"Smoking habit\"].value_counts()"
   ]
  },
  {
   "cell_type": "code",
   "execution_count": 15,
   "id": "9704bcbe",
   "metadata": {
    "execution": {
     "iopub.execute_input": "2025-08-04T14:44:55.235608Z",
     "iopub.status.busy": "2025-08-04T14:44:55.235412Z",
     "iopub.status.idle": "2025-08-04T14:44:55.240082Z",
     "shell.execute_reply": "2025-08-04T14:44:55.239572Z"
    },
    "papermill": {
     "duration": 0.010722,
     "end_time": "2025-08-04T14:44:55.241154",
     "exception": false,
     "start_time": "2025-08-04T14:44:55.230432",
     "status": "completed"
    },
    "tags": []
   },
   "outputs": [
    {
     "data": {
      "text/plain": [
       "Diagnosis\n",
       "Normal     88\n",
       "Altered    12\n",
       "Name: count, dtype: int64"
      ]
     },
     "execution_count": 15,
     "metadata": {},
     "output_type": "execute_result"
    }
   ],
   "source": [
    "df[\"Diagnosis\"].value_counts()"
   ]
  },
  {
   "cell_type": "code",
   "execution_count": 16,
   "id": "85fae15b",
   "metadata": {
    "execution": {
     "iopub.execute_input": "2025-08-04T14:44:55.252026Z",
     "iopub.status.busy": "2025-08-04T14:44:55.251508Z",
     "iopub.status.idle": "2025-08-04T14:44:55.256206Z",
     "shell.execute_reply": "2025-08-04T14:44:55.255657Z"
    },
    "papermill": {
     "duration": 0.011051,
     "end_time": "2025-08-04T14:44:55.257221",
     "exception": false,
     "start_time": "2025-08-04T14:44:55.246170",
     "status": "completed"
    },
    "tags": []
   },
   "outputs": [
    {
     "data": {
      "text/plain": [
       "Season                                   object\n",
       "Age                                       int64\n",
       "Childish diseases                        object\n",
       "Accident or serious trauma               object\n",
       "Surgical intervention                    object\n",
       "High fevers in the last year             object\n",
       "Frequency of alcohol consumption         object\n",
       "Smoking habit                            object\n",
       "Number of hours spent sitting per day     int64\n",
       "Diagnosis                                object\n",
       "dtype: object"
      ]
     },
     "execution_count": 16,
     "metadata": {},
     "output_type": "execute_result"
    }
   ],
   "source": [
    "df.dtypes"
   ]
  },
  {
   "cell_type": "code",
   "execution_count": 17,
   "id": "cf4c262c",
   "metadata": {
    "execution": {
     "iopub.execute_input": "2025-08-04T14:44:55.267443Z",
     "iopub.status.busy": "2025-08-04T14:44:55.266997Z",
     "iopub.status.idle": "2025-08-04T14:44:55.272149Z",
     "shell.execute_reply": "2025-08-04T14:44:55.271399Z"
    },
    "papermill": {
     "duration": 0.011263,
     "end_time": "2025-08-04T14:44:55.273175",
     "exception": false,
     "start_time": "2025-08-04T14:44:55.261912",
     "status": "completed"
    },
    "tags": []
   },
   "outputs": [
    {
     "data": {
      "text/plain": [
       "Diagnosis\n",
       "Normal     88\n",
       "Altered    12\n",
       "Name: count, dtype: int64"
      ]
     },
     "execution_count": 17,
     "metadata": {},
     "output_type": "execute_result"
    }
   ],
   "source": [
    "df['Diagnosis'].value_counts()"
   ]
  },
  {
   "cell_type": "markdown",
   "id": "ff0997f0",
   "metadata": {
    "papermill": {
     "duration": 0.004575,
     "end_time": "2025-08-04T14:44:55.282432",
     "exception": false,
     "start_time": "2025-08-04T14:44:55.277857",
     "status": "completed"
    },
    "tags": []
   },
   "source": [
    "# Data preprocessing and Splitting "
   ]
  },
  {
   "cell_type": "markdown",
   "id": "78d70da4",
   "metadata": {
    "papermill": {
     "duration": 0.004457,
     "end_time": "2025-08-04T14:44:55.291553",
     "exception": false,
     "start_time": "2025-08-04T14:44:55.287096",
     "status": "completed"
    },
    "tags": []
   },
   "source": [
    "**ENCODING**"
   ]
  },
  {
   "cell_type": "code",
   "execution_count": 18,
   "id": "08a9ce67",
   "metadata": {
    "execution": {
     "iopub.execute_input": "2025-08-04T14:44:55.301522Z",
     "iopub.status.busy": "2025-08-04T14:44:55.301313Z",
     "iopub.status.idle": "2025-08-04T14:44:55.308270Z",
     "shell.execute_reply": "2025-08-04T14:44:55.307581Z"
    },
    "papermill": {
     "duration": 0.013129,
     "end_time": "2025-08-04T14:44:55.309319",
     "exception": false,
     "start_time": "2025-08-04T14:44:55.296190",
     "status": "completed"
    },
    "tags": []
   },
   "outputs": [],
   "source": [
    "cols_to_encode = ['Season', 'Childish diseases', 'Accident or serious trauma','Surgical intervention','High fevers in the last year','Frequency of alcohol consumption','Smoking habit']\n",
    "\n",
    "# Initialize the LabelEncoder\n",
    "le = LabelEncoder()\n",
    "\n",
    "# Apply LabelEncoder to each column\n",
    "for col in cols_to_encode:\n",
    "    df[col] = le.fit_transform(df[col])"
   ]
  },
  {
   "cell_type": "code",
   "execution_count": 19,
   "id": "93241316",
   "metadata": {
    "execution": {
     "iopub.execute_input": "2025-08-04T14:44:55.319472Z",
     "iopub.status.busy": "2025-08-04T14:44:55.319273Z",
     "iopub.status.idle": "2025-08-04T14:44:55.326785Z",
     "shell.execute_reply": "2025-08-04T14:44:55.326181Z"
    },
    "papermill": {
     "duration": 0.013938,
     "end_time": "2025-08-04T14:44:55.327917",
     "exception": false,
     "start_time": "2025-08-04T14:44:55.313979",
     "status": "completed"
    },
    "tags": []
   },
   "outputs": [
    {
     "data": {
      "text/html": [
       "<div>\n",
       "<style scoped>\n",
       "    .dataframe tbody tr th:only-of-type {\n",
       "        vertical-align: middle;\n",
       "    }\n",
       "\n",
       "    .dataframe tbody tr th {\n",
       "        vertical-align: top;\n",
       "    }\n",
       "\n",
       "    .dataframe thead th {\n",
       "        text-align: right;\n",
       "    }\n",
       "</style>\n",
       "<table border=\"1\" class=\"dataframe\">\n",
       "  <thead>\n",
       "    <tr style=\"text-align: right;\">\n",
       "      <th></th>\n",
       "      <th>Season</th>\n",
       "      <th>Age</th>\n",
       "      <th>Childish diseases</th>\n",
       "      <th>Accident or serious trauma</th>\n",
       "      <th>Surgical intervention</th>\n",
       "      <th>High fevers in the last year</th>\n",
       "      <th>Frequency of alcohol consumption</th>\n",
       "      <th>Smoking habit</th>\n",
       "      <th>Number of hours spent sitting per day</th>\n",
       "      <th>Diagnosis</th>\n",
       "    </tr>\n",
       "  </thead>\n",
       "  <tbody>\n",
       "    <tr>\n",
       "      <th>0</th>\n",
       "      <td>1</td>\n",
       "      <td>30</td>\n",
       "      <td>0</td>\n",
       "      <td>1</td>\n",
       "      <td>1</td>\n",
       "      <td>1</td>\n",
       "      <td>2</td>\n",
       "      <td>2</td>\n",
       "      <td>16</td>\n",
       "      <td>Normal</td>\n",
       "    </tr>\n",
       "    <tr>\n",
       "      <th>1</th>\n",
       "      <td>1</td>\n",
       "      <td>35</td>\n",
       "      <td>1</td>\n",
       "      <td>0</td>\n",
       "      <td>1</td>\n",
       "      <td>1</td>\n",
       "      <td>2</td>\n",
       "      <td>0</td>\n",
       "      <td>6</td>\n",
       "      <td>Altered</td>\n",
       "    </tr>\n",
       "    <tr>\n",
       "      <th>2</th>\n",
       "      <td>1</td>\n",
       "      <td>27</td>\n",
       "      <td>1</td>\n",
       "      <td>0</td>\n",
       "      <td>0</td>\n",
       "      <td>1</td>\n",
       "      <td>1</td>\n",
       "      <td>1</td>\n",
       "      <td>9</td>\n",
       "      <td>Normal</td>\n",
       "    </tr>\n",
       "    <tr>\n",
       "      <th>3</th>\n",
       "      <td>1</td>\n",
       "      <td>32</td>\n",
       "      <td>0</td>\n",
       "      <td>1</td>\n",
       "      <td>1</td>\n",
       "      <td>1</td>\n",
       "      <td>1</td>\n",
       "      <td>1</td>\n",
       "      <td>7</td>\n",
       "      <td>Normal</td>\n",
       "    </tr>\n",
       "    <tr>\n",
       "      <th>4</th>\n",
       "      <td>1</td>\n",
       "      <td>30</td>\n",
       "      <td>1</td>\n",
       "      <td>1</td>\n",
       "      <td>0</td>\n",
       "      <td>1</td>\n",
       "      <td>2</td>\n",
       "      <td>1</td>\n",
       "      <td>9</td>\n",
       "      <td>Altered</td>\n",
       "    </tr>\n",
       "  </tbody>\n",
       "</table>\n",
       "</div>"
      ],
      "text/plain": [
       "   Season  Age  Childish diseases  Accident or serious trauma  \\\n",
       "0       1   30                  0                           1   \n",
       "1       1   35                  1                           0   \n",
       "2       1   27                  1                           0   \n",
       "3       1   32                  0                           1   \n",
       "4       1   30                  1                           1   \n",
       "\n",
       "   Surgical intervention  High fevers in the last year  \\\n",
       "0                      1                             1   \n",
       "1                      1                             1   \n",
       "2                      0                             1   \n",
       "3                      1                             1   \n",
       "4                      0                             1   \n",
       "\n",
       "   Frequency of alcohol consumption  Smoking habit  \\\n",
       "0                                 2              2   \n",
       "1                                 2              0   \n",
       "2                                 1              1   \n",
       "3                                 1              1   \n",
       "4                                 2              1   \n",
       "\n",
       "   Number of hours spent sitting per day Diagnosis  \n",
       "0                                     16    Normal  \n",
       "1                                      6   Altered  \n",
       "2                                      9    Normal  \n",
       "3                                      7    Normal  \n",
       "4                                      9   Altered  "
      ]
     },
     "execution_count": 19,
     "metadata": {},
     "output_type": "execute_result"
    }
   ],
   "source": [
    "df.head()"
   ]
  },
  {
   "cell_type": "code",
   "execution_count": 20,
   "id": "05c46b45",
   "metadata": {
    "execution": {
     "iopub.execute_input": "2025-08-04T14:44:55.338403Z",
     "iopub.status.busy": "2025-08-04T14:44:55.338005Z",
     "iopub.status.idle": "2025-08-04T14:44:55.345680Z",
     "shell.execute_reply": "2025-08-04T14:44:55.345069Z"
    },
    "papermill": {
     "duration": 0.013837,
     "end_time": "2025-08-04T14:44:55.346643",
     "exception": false,
     "start_time": "2025-08-04T14:44:55.332806",
     "status": "completed"
    },
    "tags": []
   },
   "outputs": [],
   "source": [
    "X = df.drop(\"Diagnosis\",axis=1)\n",
    "y = df['Diagnosis']"
   ]
  },
  {
   "cell_type": "code",
   "execution_count": 21,
   "id": "5416e0fc",
   "metadata": {
    "execution": {
     "iopub.execute_input": "2025-08-04T14:44:55.356889Z",
     "iopub.status.busy": "2025-08-04T14:44:55.356675Z",
     "iopub.status.idle": "2025-08-04T14:44:55.361714Z",
     "shell.execute_reply": "2025-08-04T14:44:55.361178Z"
    },
    "papermill": {
     "duration": 0.011221,
     "end_time": "2025-08-04T14:44:55.362741",
     "exception": false,
     "start_time": "2025-08-04T14:44:55.351520",
     "status": "completed"
    },
    "tags": []
   },
   "outputs": [],
   "source": [
    "X_train,X_test,y_train,y_test = train_test_split(X,y,test_size = 0.2,random_state =42)"
   ]
  },
  {
   "cell_type": "markdown",
   "id": "9fa0a53b",
   "metadata": {
    "papermill": {
     "duration": 0.004634,
     "end_time": "2025-08-04T14:44:55.372236",
     "exception": false,
     "start_time": "2025-08-04T14:44:55.367602",
     "status": "completed"
    },
    "tags": []
   },
   "source": [
    "# Model Implementation"
   ]
  },
  {
   "cell_type": "code",
   "execution_count": 22,
   "id": "f1a11a1a",
   "metadata": {
    "execution": {
     "iopub.execute_input": "2025-08-04T14:44:55.382291Z",
     "iopub.status.busy": "2025-08-04T14:44:55.382100Z",
     "iopub.status.idle": "2025-08-04T14:44:55.820729Z",
     "shell.execute_reply": "2025-08-04T14:44:55.820094Z"
    },
    "papermill": {
     "duration": 0.444953,
     "end_time": "2025-08-04T14:44:55.821860",
     "exception": false,
     "start_time": "2025-08-04T14:44:55.376907",
     "status": "completed"
    },
    "tags": []
   },
   "outputs": [
    {
     "name": "stdout",
     "output_type": "stream",
     "text": [
      "Accuracy: 90.00%\n",
      "\n",
      "Classification Report:\n",
      "               precision    recall  f1-score   support\n",
      "\n",
      "     Altered       0.00      0.00      0.00         2\n",
      "      Normal       0.90      1.00      0.95        18\n",
      "\n",
      "    accuracy                           0.90        20\n",
      "   macro avg       0.45      0.50      0.47        20\n",
      "weighted avg       0.81      0.90      0.85        20\n",
      "\n",
      "Confusion Matrix:\n",
      " [[ 0  2]\n",
      " [ 0 18]]\n"
     ]
    },
    {
     "name": "stderr",
     "output_type": "stream",
     "text": [
      "/usr/local/lib/python3.11/dist-packages/sklearn/metrics/_classification.py:1344: UndefinedMetricWarning: Precision and F-score are ill-defined and being set to 0.0 in labels with no predicted samples. Use `zero_division` parameter to control this behavior.\n",
      "  _warn_prf(average, modifier, msg_start, len(result))\n",
      "/usr/local/lib/python3.11/dist-packages/sklearn/metrics/_classification.py:1344: UndefinedMetricWarning: Precision and F-score are ill-defined and being set to 0.0 in labels with no predicted samples. Use `zero_division` parameter to control this behavior.\n",
      "  _warn_prf(average, modifier, msg_start, len(result))\n",
      "/usr/local/lib/python3.11/dist-packages/sklearn/metrics/_classification.py:1344: UndefinedMetricWarning: Precision and F-score are ill-defined and being set to 0.0 in labels with no predicted samples. Use `zero_division` parameter to control this behavior.\n",
      "  _warn_prf(average, modifier, msg_start, len(result))\n"
     ]
    },
    {
     "data": {
      "image/png": "[encoded data removed]",
      "text/plain": [
       "<Figure size 640x480 with 2 Axes>"
      ]
     },
     "metadata": {},
     "output_type": "display_data"
    }
   ],
   "source": [
    "from sklearn.ensemble import RandomForestClassifier\n",
    "from sklearn.metrics import accuracy_score, classification_report, confusion_matrix\n",
    "import seaborn as sns\n",
    "import matplotlib.pyplot as plt\n",
    "\n",
    "# ✅ Initialize and train Random Forest with class_weight='balanced'\n",
    "clf = RandomForestClassifier(\n",
    "    n_estimators=100,\n",
    "    class_weight='balanced',  # <-- This line balances the classes\n",
    "    random_state=42\n",
    ")\n",
    "\n",
    "clf.fit(X_train, y_train)\n",
    "\n",
    "# ✅ Predictions\n",
    "y_pred = clf.predict(X_test)\n",
    "\n",
    "# ✅ Evaluation\n",
    "print(f\"Accuracy: {accuracy_score(y_test, y_pred) * 100:.2f}%\\n\")\n",
    "print(\"Classification Report:\\n\", classification_report(y_test, y_pred))\n",
    "print(\"Confusion Matrix:\\n\", confusion_matrix(y_test, y_pred))\n",
    "\n",
    "# ✅ Plot confusion matrix\n",
    "sns.heatmap(confusion_matrix(y_test, y_pred), annot=True, fmt='d', cmap='Blues')\n",
    "plt.xlabel('Predicted')\n",
    "plt.ylabel('Actual')\n",
    "plt.title('Confusion Matrix')\n",
    "plt.show()"
   ]
  }
 ],
 "metadata": {
  "kaggle": {
   "accelerator": "nvidiaTeslaT4",
   "dataSources": [
    {
     "datasetId": 682005,
     "sourceId": 1197285,
     "sourceType": "datasetVersion"
    }
   ],
   "dockerImageVersionId": 31090,
   "isGpuEnabled": true,
   "isInternetEnabled": true,
   "language": "python",
   "sourceType": "notebook"
  },
  "kernelspec": {
   "display_name": "Python 3",
   "language": "python",
   "name": "python3"
  },
  "language_info": {
   "codemirror_mode": {
    "name": "ipython",
    "version": 3
   },
   "file_extension": ".py",
   "mimetype": "text/x-python",
   "name": "python",
   "nbconvert_exporter": "python",
   "pygments_lexer": "ipython3",
   "version": "3.11.13"
  },
  "papermill": {
   "default_parameters": {},
   "duration": 12.634109,
   "end_time": "2025-08-04T14:44:56.344572",
   "environment_variables": {},
   "exception": null,
   "input_path": "__notebook__.ipynb",
   "output_path": "__notebook__.ipynb",
   "parameters": {},
   "start_time": "2025-08-04T14:44:43.710463",
   "version": "2.6.0"
  }
 },
 "nbformat": 4,
 "nbformat_minor": 5
}
