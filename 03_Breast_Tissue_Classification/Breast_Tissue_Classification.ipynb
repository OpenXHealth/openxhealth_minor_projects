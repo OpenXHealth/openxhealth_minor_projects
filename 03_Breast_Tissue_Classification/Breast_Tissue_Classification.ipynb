{
 "cells": [
  {
   "cell_type": "markdown",
   "id": "f7de8948",
   "metadata": {
    "papermill": {
     "duration": 0.00596,
     "end_time": "2025-07-16T16:36:01.087612",
     "exception": false,
     "start_time": "2025-07-16T16:36:01.081652",
     "status": "completed"
    },
    "tags": []
   },
   "source": [
    "# BREAST TISSUE CLASSIFICATION "
   ]
  },
  {
   "cell_type": "markdown",
   "id": "648f1fc3",
   "metadata": {
    "papermill": {
     "duration": 0.004959,
     "end_time": "2025-07-16T16:36:01.098207",
     "exception": false,
     "start_time": "2025-07-16T16:36:01.093248",
     "status": "completed"
    },
    "tags": []
   },
   "source": [
    "# Import libraries "
   ]
  },
  {
   "cell_type": "code",
   "execution_count": 1,
   "id": "93e6dca1",
   "metadata": {
    "_cell_guid": "b1076dfc-b9ad-4769-8c92-a6c4dae69d19",
    "_uuid": "8f2839f25d086af736a60e9eeb907d3b93b6e0e5",
    "execution": {
     "iopub.execute_input": "2025-07-16T16:36:01.109705Z",
     "iopub.status.busy": "2025-07-16T16:36:01.109345Z",
     "iopub.status.idle": "2025-07-16T16:36:06.050710Z",
     "shell.execute_reply": "2025-07-16T16:36:06.049766Z"
    },
    "papermill": {
     "duration": 4.949282,
     "end_time": "2025-07-16T16:36:06.052486",
     "exception": false,
     "start_time": "2025-07-16T16:36:01.103204",
     "status": "completed"
    },
    "tags": []
   },
   "outputs": [],
   "source": [
    "import numpy as np \n",
    "import pandas as pd \n",
    "import seaborn as sns \n",
    "import matplotlib.pyplot as plt \n",
    "from sklearn.preprocessing import LabelEncoder\n",
    "from sklearn.model_selection import train_test_split\n",
    "from sklearn.ensemble import RandomForestClassifier\n",
    "from sklearn.preprocessing import label_binarize\n",
    "from sklearn.metrics import (\n",
    "    accuracy_score, precision_score, recall_score,\n",
    "    f1_score, confusion_matrix, classification_report, roc_auc_score, roc_curve\n",
    ")"
   ]
  },
  {
   "cell_type": "markdown",
   "id": "0dc394f4",
   "metadata": {
    "papermill": {
     "duration": 0.004648,
     "end_time": "2025-07-16T16:36:06.062286",
     "exception": false,
     "start_time": "2025-07-16T16:36:06.057638",
     "status": "completed"
    },
    "tags": []
   },
   "source": [
    "# Load data "
   ]
  },
  {
   "cell_type": "code",
   "execution_count": 2,
   "id": "17fb5887",
   "metadata": {
    "execution": {
     "iopub.execute_input": "2025-07-16T16:36:06.073234Z",
     "iopub.status.busy": "2025-07-16T16:36:06.072757Z",
     "iopub.status.idle": "2025-07-16T16:36:06.120290Z",
     "shell.execute_reply": "2025-07-16T16:36:06.119249Z"
    },
    "papermill": {
     "duration": 0.055135,
     "end_time": "2025-07-16T16:36:06.122183",
     "exception": false,
     "start_time": "2025-07-16T16:36:06.067048",
     "status": "completed"
    },
    "tags": []
   },
   "outputs": [
    {
     "data": {
      "text/html": [
       "<div>\n",
       "<style scoped>\n",
       "    .dataframe tbody tr th:only-of-type {\n",
       "        vertical-align: middle;\n",
       "    }\n",
       "\n",
       "    .dataframe tbody tr th {\n",
       "        vertical-align: top;\n",
       "    }\n",
       "\n",
       "    .dataframe thead th {\n",
       "        text-align: right;\n",
       "    }\n",
       "</style>\n",
       "<table border=\"1\" class=\"dataframe\">\n",
       "  <thead>\n",
       "    <tr style=\"text-align: right;\">\n",
       "      <th></th>\n",
       "      <th>Class</th>\n",
       "      <th>I0</th>\n",
       "      <th>PA500</th>\n",
       "      <th>HFS</th>\n",
       "      <th>DA</th>\n",
       "      <th>Area</th>\n",
       "      <th>A.DA</th>\n",
       "      <th>Max.IP</th>\n",
       "      <th>DR</th>\n",
       "      <th>P</th>\n",
       "    </tr>\n",
       "  </thead>\n",
       "  <tbody>\n",
       "    <tr>\n",
       "      <th>0</th>\n",
       "      <td>car</td>\n",
       "      <td>524.794072</td>\n",
       "      <td>0.187448</td>\n",
       "      <td>0.032114</td>\n",
       "      <td>228.800228</td>\n",
       "      <td>6843.598481</td>\n",
       "      <td>29.910803</td>\n",
       "      <td>60.204880</td>\n",
       "      <td>220.737212</td>\n",
       "      <td>556.828334</td>\n",
       "    </tr>\n",
       "    <tr>\n",
       "      <th>1</th>\n",
       "      <td>car</td>\n",
       "      <td>330.000000</td>\n",
       "      <td>0.226893</td>\n",
       "      <td>0.265290</td>\n",
       "      <td>121.154201</td>\n",
       "      <td>3163.239472</td>\n",
       "      <td>26.109202</td>\n",
       "      <td>69.717361</td>\n",
       "      <td>99.084964</td>\n",
       "      <td>400.225776</td>\n",
       "    </tr>\n",
       "    <tr>\n",
       "      <th>2</th>\n",
       "      <td>car</td>\n",
       "      <td>551.879287</td>\n",
       "      <td>0.232478</td>\n",
       "      <td>0.063530</td>\n",
       "      <td>264.804935</td>\n",
       "      <td>11888.391827</td>\n",
       "      <td>44.894903</td>\n",
       "      <td>77.793297</td>\n",
       "      <td>253.785300</td>\n",
       "      <td>656.769449</td>\n",
       "    </tr>\n",
       "    <tr>\n",
       "      <th>3</th>\n",
       "      <td>car</td>\n",
       "      <td>380.000000</td>\n",
       "      <td>0.240855</td>\n",
       "      <td>0.286234</td>\n",
       "      <td>137.640111</td>\n",
       "      <td>5402.171180</td>\n",
       "      <td>39.248524</td>\n",
       "      <td>88.758446</td>\n",
       "      <td>105.198568</td>\n",
       "      <td>493.701814</td>\n",
       "    </tr>\n",
       "    <tr>\n",
       "      <th>4</th>\n",
       "      <td>car</td>\n",
       "      <td>362.831266</td>\n",
       "      <td>0.200713</td>\n",
       "      <td>0.244346</td>\n",
       "      <td>124.912559</td>\n",
       "      <td>3290.462446</td>\n",
       "      <td>26.342127</td>\n",
       "      <td>69.389389</td>\n",
       "      <td>103.866552</td>\n",
       "      <td>424.796503</td>\n",
       "    </tr>\n",
       "  </tbody>\n",
       "</table>\n",
       "</div>"
      ],
      "text/plain": [
       "  Class          I0     PA500       HFS          DA          Area       A.DA  \\\n",
       "0   car  524.794072  0.187448  0.032114  228.800228   6843.598481  29.910803   \n",
       "1   car  330.000000  0.226893  0.265290  121.154201   3163.239472  26.109202   \n",
       "2   car  551.879287  0.232478  0.063530  264.804935  11888.391827  44.894903   \n",
       "3   car  380.000000  0.240855  0.286234  137.640111   5402.171180  39.248524   \n",
       "4   car  362.831266  0.200713  0.244346  124.912559   3290.462446  26.342127   \n",
       "\n",
       "      Max.IP          DR           P  \n",
       "0  60.204880  220.737212  556.828334  \n",
       "1  69.717361   99.084964  400.225776  \n",
       "2  77.793297  253.785300  656.769449  \n",
       "3  88.758446  105.198568  493.701814  \n",
       "4  69.389389  103.866552  424.796503  "
      ]
     },
     "execution_count": 2,
     "metadata": {},
     "output_type": "execute_result"
    }
   ],
   "source": [
    "df = pd.read_csv(\"/kaggle/input/breast-tissue-impedance-measurements/data.csv\")\n",
    "df.head()"
   ]
  },
  {
   "cell_type": "markdown",
   "id": "018e4387",
   "metadata": {
    "papermill": {
     "duration": 0.006039,
     "end_time": "2025-07-16T16:36:06.134207",
     "exception": false,
     "start_time": "2025-07-16T16:36:06.128168",
     "status": "completed"
    },
    "tags": []
   },
   "source": [
    "# Data Analysis "
   ]
  },
  {
   "cell_type": "code",
   "execution_count": 3,
   "id": "812b91e4",
   "metadata": {
    "execution": {
     "iopub.execute_input": "2025-07-16T16:36:06.146698Z",
     "iopub.status.busy": "2025-07-16T16:36:06.146318Z",
     "iopub.status.idle": "2025-07-16T16:36:06.153892Z",
     "shell.execute_reply": "2025-07-16T16:36:06.152985Z"
    },
    "papermill": {
     "duration": 0.015889,
     "end_time": "2025-07-16T16:36:06.155429",
     "exception": false,
     "start_time": "2025-07-16T16:36:06.139540",
     "status": "completed"
    },
    "tags": []
   },
   "outputs": [
    {
     "data": {
      "text/plain": [
       "Class     0\n",
       "I0        0\n",
       "PA500     0\n",
       "HFS       0\n",
       "DA        0\n",
       "Area      0\n",
       "A.DA      0\n",
       "Max.IP    0\n",
       "DR        0\n",
       "P         0\n",
       "dtype: int64"
      ]
     },
     "execution_count": 3,
     "metadata": {},
     "output_type": "execute_result"
    }
   ],
   "source": [
    "df.isnull().sum()"
   ]
  },
  {
   "cell_type": "code",
   "execution_count": 4,
   "id": "e40ea01d",
   "metadata": {
    "execution": {
     "iopub.execute_input": "2025-07-16T16:36:06.167566Z",
     "iopub.status.busy": "2025-07-16T16:36:06.166817Z",
     "iopub.status.idle": "2025-07-16T16:36:06.174516Z",
     "shell.execute_reply": "2025-07-16T16:36:06.173379Z"
    },
    "papermill": {
     "duration": 0.015475,
     "end_time": "2025-07-16T16:36:06.176065",
     "exception": false,
     "start_time": "2025-07-16T16:36:06.160590",
     "status": "completed"
    },
    "tags": []
   },
   "outputs": [
    {
     "data": {
      "text/plain": [
       "Class      object\n",
       "I0        float64\n",
       "PA500     float64\n",
       "HFS       float64\n",
       "DA        float64\n",
       "Area      float64\n",
       "A.DA      float64\n",
       "Max.IP    float64\n",
       "DR        float64\n",
       "P         float64\n",
       "dtype: object"
      ]
     },
     "execution_count": 4,
     "metadata": {},
     "output_type": "execute_result"
    }
   ],
   "source": [
    "df.dtypes"
   ]
  },
  {
   "cell_type": "code",
   "execution_count": 5,
   "id": "e3ff23a4",
   "metadata": {
    "execution": {
     "iopub.execute_input": "2025-07-16T16:36:06.189100Z",
     "iopub.status.busy": "2025-07-16T16:36:06.188728Z",
     "iopub.status.idle": "2025-07-16T16:36:06.216126Z",
     "shell.execute_reply": "2025-07-16T16:36:06.215094Z"
    },
    "papermill": {
     "duration": 0.036357,
     "end_time": "2025-07-16T16:36:06.217746",
     "exception": false,
     "start_time": "2025-07-16T16:36:06.181389",
     "status": "completed"
    },
    "tags": []
   },
   "outputs": [
    {
     "name": "stdout",
     "output_type": "stream",
     "text": [
      "<class 'pandas.core.frame.DataFrame'>\n",
      "RangeIndex: 106 entries, 0 to 105\n",
      "Data columns (total 10 columns):\n",
      " #   Column  Non-Null Count  Dtype  \n",
      "---  ------  --------------  -----  \n",
      " 0   Class   106 non-null    object \n",
      " 1   I0      106 non-null    float64\n",
      " 2   PA500   106 non-null    float64\n",
      " 3   HFS     106 non-null    float64\n",
      " 4   DA      106 non-null    float64\n",
      " 5   Area    106 non-null    float64\n",
      " 6   A.DA    106 non-null    float64\n",
      " 7   Max.IP  106 non-null    float64\n",
      " 8   DR      106 non-null    float64\n",
      " 9   P       106 non-null    float64\n",
      "dtypes: float64(9), object(1)\n",
      "memory usage: 8.4+ KB\n"
     ]
    }
   ],
   "source": [
    "df.info()"
   ]
  },
  {
   "cell_type": "code",
   "execution_count": 6,
   "id": "45511dfb",
   "metadata": {
    "execution": {
     "iopub.execute_input": "2025-07-16T16:36:06.230139Z",
     "iopub.status.busy": "2025-07-16T16:36:06.229768Z",
     "iopub.status.idle": "2025-07-16T16:36:06.269279Z",
     "shell.execute_reply": "2025-07-16T16:36:06.268226Z"
    },
    "papermill": {
     "duration": 0.047711,
     "end_time": "2025-07-16T16:36:06.271078",
     "exception": false,
     "start_time": "2025-07-16T16:36:06.223367",
     "status": "completed"
    },
    "tags": []
   },
   "outputs": [
    {
     "data": {
      "text/html": [
       "<div>\n",
       "<style scoped>\n",
       "    .dataframe tbody tr th:only-of-type {\n",
       "        vertical-align: middle;\n",
       "    }\n",
       "\n",
       "    .dataframe tbody tr th {\n",
       "        vertical-align: top;\n",
       "    }\n",
       "\n",
       "    .dataframe thead th {\n",
       "        text-align: right;\n",
       "    }\n",
       "</style>\n",
       "<table border=\"1\" class=\"dataframe\">\n",
       "  <thead>\n",
       "    <tr style=\"text-align: right;\">\n",
       "      <th></th>\n",
       "      <th>I0</th>\n",
       "      <th>PA500</th>\n",
       "      <th>HFS</th>\n",
       "      <th>DA</th>\n",
       "      <th>Area</th>\n",
       "      <th>A.DA</th>\n",
       "      <th>Max.IP</th>\n",
       "      <th>DR</th>\n",
       "      <th>P</th>\n",
       "    </tr>\n",
       "  </thead>\n",
       "  <tbody>\n",
       "    <tr>\n",
       "      <th>count</th>\n",
       "      <td>106.000000</td>\n",
       "      <td>106.000000</td>\n",
       "      <td>106.000000</td>\n",
       "      <td>106.000000</td>\n",
       "      <td>106.000000</td>\n",
       "      <td>106.000000</td>\n",
       "      <td>106.000000</td>\n",
       "      <td>106.000000</td>\n",
       "      <td>106.000000</td>\n",
       "    </tr>\n",
       "    <tr>\n",
       "      <th>mean</th>\n",
       "      <td>784.251618</td>\n",
       "      <td>0.120133</td>\n",
       "      <td>0.114691</td>\n",
       "      <td>190.568642</td>\n",
       "      <td>7335.155162</td>\n",
       "      <td>23.473784</td>\n",
       "      <td>75.381258</td>\n",
       "      <td>166.710575</td>\n",
       "      <td>810.638127</td>\n",
       "    </tr>\n",
       "    <tr>\n",
       "      <th>std</th>\n",
       "      <td>753.950075</td>\n",
       "      <td>0.068596</td>\n",
       "      <td>0.101347</td>\n",
       "      <td>190.801448</td>\n",
       "      <td>18580.314213</td>\n",
       "      <td>23.354672</td>\n",
       "      <td>81.345838</td>\n",
       "      <td>181.309580</td>\n",
       "      <td>763.019135</td>\n",
       "    </tr>\n",
       "    <tr>\n",
       "      <th>min</th>\n",
       "      <td>103.000000</td>\n",
       "      <td>0.012392</td>\n",
       "      <td>-0.066323</td>\n",
       "      <td>19.647670</td>\n",
       "      <td>70.426239</td>\n",
       "      <td>1.595742</td>\n",
       "      <td>7.968783</td>\n",
       "      <td>-9.257696</td>\n",
       "      <td>124.978561</td>\n",
       "    </tr>\n",
       "    <tr>\n",
       "      <th>25%</th>\n",
       "      <td>250.000000</td>\n",
       "      <td>0.067413</td>\n",
       "      <td>0.043982</td>\n",
       "      <td>53.845470</td>\n",
       "      <td>409.647141</td>\n",
       "      <td>8.180321</td>\n",
       "      <td>26.893773</td>\n",
       "      <td>41.781258</td>\n",
       "      <td>270.215238</td>\n",
       "    </tr>\n",
       "    <tr>\n",
       "      <th>50%</th>\n",
       "      <td>384.936489</td>\n",
       "      <td>0.105418</td>\n",
       "      <td>0.086568</td>\n",
       "      <td>120.777303</td>\n",
       "      <td>2219.581163</td>\n",
       "      <td>16.133657</td>\n",
       "      <td>44.216040</td>\n",
       "      <td>97.832557</td>\n",
       "      <td>454.108153</td>\n",
       "    </tr>\n",
       "    <tr>\n",
       "      <th>75%</th>\n",
       "      <td>1487.989626</td>\n",
       "      <td>0.169602</td>\n",
       "      <td>0.166504</td>\n",
       "      <td>255.334809</td>\n",
       "      <td>7615.204968</td>\n",
       "      <td>30.953294</td>\n",
       "      <td>83.671755</td>\n",
       "      <td>232.990070</td>\n",
       "      <td>1301.559438</td>\n",
       "    </tr>\n",
       "    <tr>\n",
       "      <th>max</th>\n",
       "      <td>2800.000000</td>\n",
       "      <td>0.358316</td>\n",
       "      <td>0.467748</td>\n",
       "      <td>1063.441427</td>\n",
       "      <td>174480.476218</td>\n",
       "      <td>164.071543</td>\n",
       "      <td>436.099640</td>\n",
       "      <td>977.552367</td>\n",
       "      <td>2896.582483</td>\n",
       "    </tr>\n",
       "  </tbody>\n",
       "</table>\n",
       "</div>"
      ],
      "text/plain": [
       "                I0       PA500         HFS           DA           Area  \\\n",
       "count   106.000000  106.000000  106.000000   106.000000     106.000000   \n",
       "mean    784.251618    0.120133    0.114691   190.568642    7335.155162   \n",
       "std     753.950075    0.068596    0.101347   190.801448   18580.314213   \n",
       "min     103.000000    0.012392   -0.066323    19.647670      70.426239   \n",
       "25%     250.000000    0.067413    0.043982    53.845470     409.647141   \n",
       "50%     384.936489    0.105418    0.086568   120.777303    2219.581163   \n",
       "75%    1487.989626    0.169602    0.166504   255.334809    7615.204968   \n",
       "max    2800.000000    0.358316    0.467748  1063.441427  174480.476218   \n",
       "\n",
       "             A.DA      Max.IP          DR            P  \n",
       "count  106.000000  106.000000  106.000000   106.000000  \n",
       "mean    23.473784   75.381258  166.710575   810.638127  \n",
       "std     23.354672   81.345838  181.309580   763.019135  \n",
       "min      1.595742    7.968783   -9.257696   124.978561  \n",
       "25%      8.180321   26.893773   41.781258   270.215238  \n",
       "50%     16.133657   44.216040   97.832557   454.108153  \n",
       "75%     30.953294   83.671755  232.990070  1301.559438  \n",
       "max    164.071543  436.099640  977.552367  2896.582483  "
      ]
     },
     "execution_count": 6,
     "metadata": {},
     "output_type": "execute_result"
    }
   ],
   "source": [
    "df.describe()"
   ]
  },
  {
   "cell_type": "code",
   "execution_count": 7,
   "id": "c0950c6b",
   "metadata": {
    "execution": {
     "iopub.execute_input": "2025-07-16T16:36:06.284314Z",
     "iopub.status.busy": "2025-07-16T16:36:06.283903Z",
     "iopub.status.idle": "2025-07-16T16:36:06.290314Z",
     "shell.execute_reply": "2025-07-16T16:36:06.289321Z"
    },
    "papermill": {
     "duration": 0.014896,
     "end_time": "2025-07-16T16:36:06.291786",
     "exception": false,
     "start_time": "2025-07-16T16:36:06.276890",
     "status": "completed"
    },
    "tags": []
   },
   "outputs": [
    {
     "data": {
      "text/plain": [
       "Index(['Class', 'I0', 'PA500', 'HFS', 'DA', 'Area', 'A.DA', 'Max.IP', 'DR',\n",
       "       'P'],\n",
       "      dtype='object')"
      ]
     },
     "execution_count": 7,
     "metadata": {},
     "output_type": "execute_result"
    }
   ],
   "source": [
    "df.columns"
   ]
  },
  {
   "cell_type": "code",
   "execution_count": 8,
   "id": "440ea404",
   "metadata": {
    "execution": {
     "iopub.execute_input": "2025-07-16T16:36:06.304907Z",
     "iopub.status.busy": "2025-07-16T16:36:06.304540Z",
     "iopub.status.idle": "2025-07-16T16:36:06.312797Z",
     "shell.execute_reply": "2025-07-16T16:36:06.311923Z"
    },
    "papermill": {
     "duration": 0.016664,
     "end_time": "2025-07-16T16:36:06.314277",
     "exception": false,
     "start_time": "2025-07-16T16:36:06.297613",
     "status": "completed"
    },
    "tags": []
   },
   "outputs": [
    {
     "data": {
      "text/plain": [
       "Class\n",
       "adi    22\n",
       "car    21\n",
       "mas    18\n",
       "gla    16\n",
       "fad    15\n",
       "con    14\n",
       "Name: count, dtype: int64"
      ]
     },
     "execution_count": 8,
     "metadata": {},
     "output_type": "execute_result"
    }
   ],
   "source": [
    "df[\"Class\"].value_counts()"
   ]
  },
  {
   "cell_type": "markdown",
   "id": "27bfe4f1",
   "metadata": {
    "papermill": {
     "duration": 0.005345,
     "end_time": "2025-07-16T16:36:06.325668",
     "exception": false,
     "start_time": "2025-07-16T16:36:06.320323",
     "status": "completed"
    },
    "tags": []
   },
   "source": [
    "# Data Preprocessing and Splitting "
   ]
  },
  {
   "cell_type": "markdown",
   "id": "d17ed345",
   "metadata": {
    "papermill": {
     "duration": 0.00553,
     "end_time": "2025-07-16T16:36:06.336805",
     "exception": false,
     "start_time": "2025-07-16T16:36:06.331275",
     "status": "completed"
    },
    "tags": []
   },
   "source": [
    "**LABEL ENCODING**"
   ]
  },
  {
   "cell_type": "code",
   "execution_count": 9,
   "id": "0d5d72e2",
   "metadata": {
    "execution": {
     "iopub.execute_input": "2025-07-16T16:36:06.349544Z",
     "iopub.status.busy": "2025-07-16T16:36:06.349209Z",
     "iopub.status.idle": "2025-07-16T16:36:06.368642Z",
     "shell.execute_reply": "2025-07-16T16:36:06.367407Z"
    },
    "papermill": {
     "duration": 0.027919,
     "end_time": "2025-07-16T16:36:06.370398",
     "exception": false,
     "start_time": "2025-07-16T16:36:06.342479",
     "status": "completed"
    },
    "tags": []
   },
   "outputs": [
    {
     "name": "stdout",
     "output_type": "stream",
     "text": [
      "Class mapping: {'adi': 0, 'car': 1, 'con': 2, 'fad': 3, 'gla': 4, 'mas': 5}\n",
      "    Class           I0     PA500       HFS           DA           Area  \\\n",
      "0     car   524.794072  0.187448  0.032114   228.800228    6843.598481   \n",
      "1     car   330.000000  0.226893  0.265290   121.154201    3163.239472   \n",
      "2     car   551.879287  0.232478  0.063530   264.804935   11888.391827   \n",
      "3     car   380.000000  0.240855  0.286234   137.640111    5402.171180   \n",
      "4     car   362.831266  0.200713  0.244346   124.912559    3290.462446   \n",
      "..    ...          ...       ...       ...          ...            ...   \n",
      "101   adi  2000.000000  0.106989  0.105418   520.222649   40087.920984   \n",
      "102   adi  2600.000000  0.200538  0.208043  1063.441427  174480.476218   \n",
      "103   adi  1600.000000  0.071908 -0.066323   436.943603   12655.342135   \n",
      "104   adi  2300.000000  0.045029  0.136834   185.446044    5086.292497   \n",
      "105   adi  2600.000000  0.069988  0.048869   745.474369   39845.773698   \n",
      "\n",
      "           A.DA      Max.IP          DR            P  class_encoded  \n",
      "0     29.910803   60.204880  220.737212   556.828334              1  \n",
      "1     26.109202   69.717361   99.084964   400.225776              1  \n",
      "2     44.894903   77.793297  253.785300   656.769449              1  \n",
      "3     39.248524   88.758446  105.198568   493.701814              1  \n",
      "4     26.342127   69.389389  103.866552   424.796503              1  \n",
      "..          ...         ...         ...          ...            ...  \n",
      "101   77.059161  204.090347  478.517223  2088.648870              0  \n",
      "102  164.071543  418.687286  977.552367  2664.583623              0  \n",
      "103   28.963331  103.732704  432.129749  1475.371534              0  \n",
      "104   27.427344  178.691742   49.593290  2480.592151              0  \n",
      "105   53.450226  154.122604  729.368395  2545.419744              0  \n",
      "\n",
      "[106 rows x 11 columns]\n"
     ]
    }
   ],
   "source": [
    "# Initialize label encoder\n",
    "le = LabelEncoder()\n",
    "\n",
    "# Fit and transform the 'class' column\n",
    "df['class_encoded'] = le.fit_transform(df['Class'])\n",
    "\n",
    "# Check mapping and result\n",
    "print(\"Class mapping:\", dict(zip(le.classes_, le.transform(le.classes_))))\n",
    "print(df)"
   ]
  },
  {
   "cell_type": "code",
   "execution_count": 10,
   "id": "b5eeeefd",
   "metadata": {
    "execution": {
     "iopub.execute_input": "2025-07-16T16:36:06.383888Z",
     "iopub.status.busy": "2025-07-16T16:36:06.383590Z",
     "iopub.status.idle": "2025-07-16T16:36:06.397422Z",
     "shell.execute_reply": "2025-07-16T16:36:06.396661Z"
    },
    "papermill": {
     "duration": 0.022583,
     "end_time": "2025-07-16T16:36:06.399006",
     "exception": false,
     "start_time": "2025-07-16T16:36:06.376423",
     "status": "completed"
    },
    "tags": []
   },
   "outputs": [
    {
     "data": {
      "text/html": [
       "<div>\n",
       "<style scoped>\n",
       "    .dataframe tbody tr th:only-of-type {\n",
       "        vertical-align: middle;\n",
       "    }\n",
       "\n",
       "    .dataframe tbody tr th {\n",
       "        vertical-align: top;\n",
       "    }\n",
       "\n",
       "    .dataframe thead th {\n",
       "        text-align: right;\n",
       "    }\n",
       "</style>\n",
       "<table border=\"1\" class=\"dataframe\">\n",
       "  <thead>\n",
       "    <tr style=\"text-align: right;\">\n",
       "      <th></th>\n",
       "      <th>Class</th>\n",
       "      <th>I0</th>\n",
       "      <th>PA500</th>\n",
       "      <th>HFS</th>\n",
       "      <th>DA</th>\n",
       "      <th>Area</th>\n",
       "      <th>A.DA</th>\n",
       "      <th>Max.IP</th>\n",
       "      <th>DR</th>\n",
       "      <th>P</th>\n",
       "      <th>class_encoded</th>\n",
       "    </tr>\n",
       "  </thead>\n",
       "  <tbody>\n",
       "    <tr>\n",
       "      <th>0</th>\n",
       "      <td>car</td>\n",
       "      <td>524.794072</td>\n",
       "      <td>0.187448</td>\n",
       "      <td>0.032114</td>\n",
       "      <td>228.800228</td>\n",
       "      <td>6843.598481</td>\n",
       "      <td>29.910803</td>\n",
       "      <td>60.204880</td>\n",
       "      <td>220.737212</td>\n",
       "      <td>556.828334</td>\n",
       "      <td>1</td>\n",
       "    </tr>\n",
       "    <tr>\n",
       "      <th>1</th>\n",
       "      <td>car</td>\n",
       "      <td>330.000000</td>\n",
       "      <td>0.226893</td>\n",
       "      <td>0.265290</td>\n",
       "      <td>121.154201</td>\n",
       "      <td>3163.239472</td>\n",
       "      <td>26.109202</td>\n",
       "      <td>69.717361</td>\n",
       "      <td>99.084964</td>\n",
       "      <td>400.225776</td>\n",
       "      <td>1</td>\n",
       "    </tr>\n",
       "    <tr>\n",
       "      <th>2</th>\n",
       "      <td>car</td>\n",
       "      <td>551.879287</td>\n",
       "      <td>0.232478</td>\n",
       "      <td>0.063530</td>\n",
       "      <td>264.804935</td>\n",
       "      <td>11888.391827</td>\n",
       "      <td>44.894903</td>\n",
       "      <td>77.793297</td>\n",
       "      <td>253.785300</td>\n",
       "      <td>656.769449</td>\n",
       "      <td>1</td>\n",
       "    </tr>\n",
       "    <tr>\n",
       "      <th>3</th>\n",
       "      <td>car</td>\n",
       "      <td>380.000000</td>\n",
       "      <td>0.240855</td>\n",
       "      <td>0.286234</td>\n",
       "      <td>137.640111</td>\n",
       "      <td>5402.171180</td>\n",
       "      <td>39.248524</td>\n",
       "      <td>88.758446</td>\n",
       "      <td>105.198568</td>\n",
       "      <td>493.701814</td>\n",
       "      <td>1</td>\n",
       "    </tr>\n",
       "    <tr>\n",
       "      <th>4</th>\n",
       "      <td>car</td>\n",
       "      <td>362.831266</td>\n",
       "      <td>0.200713</td>\n",
       "      <td>0.244346</td>\n",
       "      <td>124.912559</td>\n",
       "      <td>3290.462446</td>\n",
       "      <td>26.342127</td>\n",
       "      <td>69.389389</td>\n",
       "      <td>103.866552</td>\n",
       "      <td>424.796503</td>\n",
       "      <td>1</td>\n",
       "    </tr>\n",
       "  </tbody>\n",
       "</table>\n",
       "</div>"
      ],
      "text/plain": [
       "  Class          I0     PA500       HFS          DA          Area       A.DA  \\\n",
       "0   car  524.794072  0.187448  0.032114  228.800228   6843.598481  29.910803   \n",
       "1   car  330.000000  0.226893  0.265290  121.154201   3163.239472  26.109202   \n",
       "2   car  551.879287  0.232478  0.063530  264.804935  11888.391827  44.894903   \n",
       "3   car  380.000000  0.240855  0.286234  137.640111   5402.171180  39.248524   \n",
       "4   car  362.831266  0.200713  0.244346  124.912559   3290.462446  26.342127   \n",
       "\n",
       "      Max.IP          DR           P  class_encoded  \n",
       "0  60.204880  220.737212  556.828334              1  \n",
       "1  69.717361   99.084964  400.225776              1  \n",
       "2  77.793297  253.785300  656.769449              1  \n",
       "3  88.758446  105.198568  493.701814              1  \n",
       "4  69.389389  103.866552  424.796503              1  "
      ]
     },
     "execution_count": 10,
     "metadata": {},
     "output_type": "execute_result"
    }
   ],
   "source": [
    "df.head()"
   ]
  },
  {
   "cell_type": "code",
   "execution_count": 11,
   "id": "9e552d3d",
   "metadata": {
    "execution": {
     "iopub.execute_input": "2025-07-16T16:36:06.413094Z",
     "iopub.status.busy": "2025-07-16T16:36:06.412709Z",
     "iopub.status.idle": "2025-07-16T16:36:06.418594Z",
     "shell.execute_reply": "2025-07-16T16:36:06.417712Z"
    },
    "papermill": {
     "duration": 0.015077,
     "end_time": "2025-07-16T16:36:06.420365",
     "exception": false,
     "start_time": "2025-07-16T16:36:06.405288",
     "status": "completed"
    },
    "tags": []
   },
   "outputs": [],
   "source": [
    "df= df.drop(\"Class\",axis = 1)"
   ]
  },
  {
   "cell_type": "code",
   "execution_count": 12,
   "id": "2e38272f",
   "metadata": {
    "execution": {
     "iopub.execute_input": "2025-07-16T16:36:06.433739Z",
     "iopub.status.busy": "2025-07-16T16:36:06.433436Z",
     "iopub.status.idle": "2025-07-16T16:36:06.446731Z",
     "shell.execute_reply": "2025-07-16T16:36:06.445775Z"
    },
    "papermill": {
     "duration": 0.021766,
     "end_time": "2025-07-16T16:36:06.448300",
     "exception": false,
     "start_time": "2025-07-16T16:36:06.426534",
     "status": "completed"
    },
    "tags": []
   },
   "outputs": [
    {
     "data": {
      "text/html": [
       "<div>\n",
       "<style scoped>\n",
       "    .dataframe tbody tr th:only-of-type {\n",
       "        vertical-align: middle;\n",
       "    }\n",
       "\n",
       "    .dataframe tbody tr th {\n",
       "        vertical-align: top;\n",
       "    }\n",
       "\n",
       "    .dataframe thead th {\n",
       "        text-align: right;\n",
       "    }\n",
       "</style>\n",
       "<table border=\"1\" class=\"dataframe\">\n",
       "  <thead>\n",
       "    <tr style=\"text-align: right;\">\n",
       "      <th></th>\n",
       "      <th>I0</th>\n",
       "      <th>PA500</th>\n",
       "      <th>HFS</th>\n",
       "      <th>DA</th>\n",
       "      <th>Area</th>\n",
       "      <th>A.DA</th>\n",
       "      <th>Max.IP</th>\n",
       "      <th>DR</th>\n",
       "      <th>P</th>\n",
       "      <th>class_encoded</th>\n",
       "    </tr>\n",
       "  </thead>\n",
       "  <tbody>\n",
       "    <tr>\n",
       "      <th>0</th>\n",
       "      <td>524.794072</td>\n",
       "      <td>0.187448</td>\n",
       "      <td>0.032114</td>\n",
       "      <td>228.800228</td>\n",
       "      <td>6843.598481</td>\n",
       "      <td>29.910803</td>\n",
       "      <td>60.204880</td>\n",
       "      <td>220.737212</td>\n",
       "      <td>556.828334</td>\n",
       "      <td>1</td>\n",
       "    </tr>\n",
       "    <tr>\n",
       "      <th>1</th>\n",
       "      <td>330.000000</td>\n",
       "      <td>0.226893</td>\n",
       "      <td>0.265290</td>\n",
       "      <td>121.154201</td>\n",
       "      <td>3163.239472</td>\n",
       "      <td>26.109202</td>\n",
       "      <td>69.717361</td>\n",
       "      <td>99.084964</td>\n",
       "      <td>400.225776</td>\n",
       "      <td>1</td>\n",
       "    </tr>\n",
       "    <tr>\n",
       "      <th>2</th>\n",
       "      <td>551.879287</td>\n",
       "      <td>0.232478</td>\n",
       "      <td>0.063530</td>\n",
       "      <td>264.804935</td>\n",
       "      <td>11888.391827</td>\n",
       "      <td>44.894903</td>\n",
       "      <td>77.793297</td>\n",
       "      <td>253.785300</td>\n",
       "      <td>656.769449</td>\n",
       "      <td>1</td>\n",
       "    </tr>\n",
       "    <tr>\n",
       "      <th>3</th>\n",
       "      <td>380.000000</td>\n",
       "      <td>0.240855</td>\n",
       "      <td>0.286234</td>\n",
       "      <td>137.640111</td>\n",
       "      <td>5402.171180</td>\n",
       "      <td>39.248524</td>\n",
       "      <td>88.758446</td>\n",
       "      <td>105.198568</td>\n",
       "      <td>493.701814</td>\n",
       "      <td>1</td>\n",
       "    </tr>\n",
       "    <tr>\n",
       "      <th>4</th>\n",
       "      <td>362.831266</td>\n",
       "      <td>0.200713</td>\n",
       "      <td>0.244346</td>\n",
       "      <td>124.912559</td>\n",
       "      <td>3290.462446</td>\n",
       "      <td>26.342127</td>\n",
       "      <td>69.389389</td>\n",
       "      <td>103.866552</td>\n",
       "      <td>424.796503</td>\n",
       "      <td>1</td>\n",
       "    </tr>\n",
       "  </tbody>\n",
       "</table>\n",
       "</div>"
      ],
      "text/plain": [
       "           I0     PA500       HFS          DA          Area       A.DA  \\\n",
       "0  524.794072  0.187448  0.032114  228.800228   6843.598481  29.910803   \n",
       "1  330.000000  0.226893  0.265290  121.154201   3163.239472  26.109202   \n",
       "2  551.879287  0.232478  0.063530  264.804935  11888.391827  44.894903   \n",
       "3  380.000000  0.240855  0.286234  137.640111   5402.171180  39.248524   \n",
       "4  362.831266  0.200713  0.244346  124.912559   3290.462446  26.342127   \n",
       "\n",
       "      Max.IP          DR           P  class_encoded  \n",
       "0  60.204880  220.737212  556.828334              1  \n",
       "1  69.717361   99.084964  400.225776              1  \n",
       "2  77.793297  253.785300  656.769449              1  \n",
       "3  88.758446  105.198568  493.701814              1  \n",
       "4  69.389389  103.866552  424.796503              1  "
      ]
     },
     "execution_count": 12,
     "metadata": {},
     "output_type": "execute_result"
    }
   ],
   "source": [
    "df.head()"
   ]
  },
  {
   "cell_type": "code",
   "execution_count": 13,
   "id": "4eb7cff1",
   "metadata": {
    "execution": {
     "iopub.execute_input": "2025-07-16T16:36:06.463001Z",
     "iopub.status.busy": "2025-07-16T16:36:06.461815Z",
     "iopub.status.idle": "2025-07-16T16:36:06.467939Z",
     "shell.execute_reply": "2025-07-16T16:36:06.466915Z"
    },
    "papermill": {
     "duration": 0.014795,
     "end_time": "2025-07-16T16:36:06.469567",
     "exception": false,
     "start_time": "2025-07-16T16:36:06.454772",
     "status": "completed"
    },
    "tags": []
   },
   "outputs": [],
   "source": [
    "X = df.drop(\"class_encoded\",axis=1)\n",
    "y= df[\"class_encoded\"]"
   ]
  },
  {
   "cell_type": "code",
   "execution_count": 14,
   "id": "5e604007",
   "metadata": {
    "execution": {
     "iopub.execute_input": "2025-07-16T16:36:06.483502Z",
     "iopub.status.busy": "2025-07-16T16:36:06.483206Z",
     "iopub.status.idle": "2025-07-16T16:36:06.492038Z",
     "shell.execute_reply": "2025-07-16T16:36:06.491146Z"
    },
    "papermill": {
     "duration": 0.017855,
     "end_time": "2025-07-16T16:36:06.493694",
     "exception": false,
     "start_time": "2025-07-16T16:36:06.475839",
     "status": "completed"
    },
    "tags": []
   },
   "outputs": [
    {
     "name": "stdout",
     "output_type": "stream",
     "text": [
      "Training set size: (84, 9)\n",
      "Test set size: (22, 9)\n"
     ]
    }
   ],
   "source": [
    "X_train, X_test, y_train, y_test = train_test_split(\n",
    "    X, y, \n",
    "    test_size=0.2,        # 20% test data\n",
    "    random_state=42,      # For reproducibility\n",
    "    stratify=y            # Optional: ensures balanced class distribution in both sets\n",
    ")\n",
    "\n",
    "# Check sizes\n",
    "print(\"Training set size:\", X_train.shape)\n",
    "print(\"Test set size:\", X_test.shape)"
   ]
  },
  {
   "cell_type": "code",
   "execution_count": 15,
   "id": "7f42cdbf",
   "metadata": {
    "execution": {
     "iopub.execute_input": "2025-07-16T16:36:06.507806Z",
     "iopub.status.busy": "2025-07-16T16:36:06.507469Z",
     "iopub.status.idle": "2025-07-16T16:36:06.516808Z",
     "shell.execute_reply": "2025-07-16T16:36:06.515858Z"
    },
    "papermill": {
     "duration": 0.018028,
     "end_time": "2025-07-16T16:36:06.518303",
     "exception": false,
     "start_time": "2025-07-16T16:36:06.500275",
     "status": "completed"
    },
    "tags": []
   },
   "outputs": [],
   "source": [
    "from sklearn.preprocessing import StandardScaler\n",
    "\n",
    "scaler = StandardScaler()\n",
    "\n",
    "X_train_scaled = scaler.fit_transform(X_train)\n",
    "X_test_scaled = scaler.transform(X_test)"
   ]
  },
  {
   "cell_type": "code",
   "execution_count": 16,
   "id": "552d6f85",
   "metadata": {
    "execution": {
     "iopub.execute_input": "2025-07-16T16:36:06.532078Z",
     "iopub.status.busy": "2025-07-16T16:36:06.531715Z",
     "iopub.status.idle": "2025-07-16T16:36:06.993499Z",
     "shell.execute_reply": "2025-07-16T16:36:06.992296Z"
    },
    "papermill": {
     "duration": 0.470614,
     "end_time": "2025-07-16T16:36:06.995263",
     "exception": false,
     "start_time": "2025-07-16T16:36:06.524649",
     "status": "completed"
    },
    "tags": []
   },
   "outputs": [],
   "source": [
    "from sklearn.ensemble import RandomForestClassifier\n",
    "\n",
    "rf_classifier = RandomForestClassifier(\n",
    "    n_estimators=300,          # More trees = better performance (up to a point)\n",
    "    max_depth=20,              # Limit depth to avoid overfitting\n",
    "    min_samples_split=5,       # Minimum samples to split a node\n",
    "    min_samples_leaf=2,        # Minimum samples in a leaf node\n",
    "    max_features='sqrt',       # Try 'sqrt', 'log2', or None\n",
    "    bootstrap=True,            # Use bootstrapped samples\n",
    "    random_state=42,\n",
    "    class_weight='balanced'    # Helps if data is imbalanced\n",
    ")\n",
    "\n",
    "# Train the model\n",
    "rf_classifier.fit(X_train_scaled, y_train)\n",
    "\n",
    "# Predict\n",
    "y_pred = rf_classifier.predict(X_test_scaled)\n",
    "y_prob = rf_classifier.predict_proba(X_test_scaled)\n"
   ]
  },
  {
   "cell_type": "markdown",
   "id": "75efba00",
   "metadata": {
    "papermill": {
     "duration": 0.006272,
     "end_time": "2025-07-16T16:36:07.009076",
     "exception": false,
     "start_time": "2025-07-16T16:36:07.002804",
     "status": "completed"
    },
    "tags": []
   },
   "source": [
    "# Evaluation\n"
   ]
  },
  {
   "cell_type": "markdown",
   "id": "98c2fc69",
   "metadata": {
    "papermill": {
     "duration": 0.005928,
     "end_time": "2025-07-16T16:36:07.021907",
     "exception": false,
     "start_time": "2025-07-16T16:36:07.015979",
     "status": "completed"
    },
    "tags": []
   },
   "source": [
    "**BASIC METRICS**"
   ]
  },
  {
   "cell_type": "code",
   "execution_count": 17,
   "id": "cd532787",
   "metadata": {
    "execution": {
     "iopub.execute_input": "2025-07-16T16:36:07.035694Z",
     "iopub.status.busy": "2025-07-16T16:36:07.035363Z",
     "iopub.status.idle": "2025-07-16T16:36:07.056487Z",
     "shell.execute_reply": "2025-07-16T16:36:07.055466Z"
    },
    "papermill": {
     "duration": 0.030011,
     "end_time": "2025-07-16T16:36:07.058182",
     "exception": false,
     "start_time": "2025-07-16T16:36:07.028171",
     "status": "completed"
    },
    "tags": []
   },
   "outputs": [
    {
     "name": "stdout",
     "output_type": "stream",
     "text": [
      "✅ Accuracy       : 0.6818\n",
      "🎯 Precision      : 0.5861\n",
      "📈 Recall         : 0.6889\n",
      "📊 F1 Score       : 0.6307\n",
      "📉 ROC-AUC Score  : 0.9353\n"
     ]
    }
   ],
   "source": [
    "classes = np.unique(y_test)\n",
    "y_test_bin = label_binarize(y_test, classes=classes)\n",
    "\n",
    "accuracy = accuracy_score(y_test, y_pred)\n",
    "precision = precision_score(y_test, y_pred, average='macro')\n",
    "recall = recall_score(y_test, y_pred, average='macro')\n",
    "f1 = f1_score(y_test, y_pred, average='macro')\n",
    "roc_auc = roc_auc_score(y_test_bin, y_prob, average='macro', multi_class='ovr')\n",
    "\n",
    "print(\"✅ Accuracy       :\", round(accuracy, 4))\n",
    "print(\"🎯 Precision      :\", round(precision, 4))\n",
    "print(\"📈 Recall         :\", round(recall, 4))\n",
    "print(\"📊 F1 Score       :\", round(f1, 4))\n",
    "print(\"📉 ROC-AUC Score  :\", round(roc_auc, 4))"
   ]
  },
  {
   "cell_type": "markdown",
   "id": "2fab2b21",
   "metadata": {
    "papermill": {
     "duration": 0.006239,
     "end_time": "2025-07-16T16:36:07.072090",
     "exception": false,
     "start_time": "2025-07-16T16:36:07.065851",
     "status": "completed"
    },
    "tags": []
   },
   "source": [
    "**CONFUSION MATRIX**"
   ]
  },
  {
   "cell_type": "code",
   "execution_count": 18,
   "id": "20f345ee",
   "metadata": {
    "execution": {
     "iopub.execute_input": "2025-07-16T16:36:07.087488Z",
     "iopub.status.busy": "2025-07-16T16:36:07.087123Z",
     "iopub.status.idle": "2025-07-16T16:36:07.556755Z",
     "shell.execute_reply": "2025-07-16T16:36:07.555494Z"
    },
    "papermill": {
     "duration": 0.479757,
     "end_time": "2025-07-16T16:36:07.558672",
     "exception": false,
     "start_time": "2025-07-16T16:36:07.078915",
     "status": "completed"
    },
    "tags": []
   },
   "outputs": [
    {
     "name": "stderr",
     "output_type": "stream",
     "text": [
      "/tmp/ipykernel_13/1747149567.py:7: UserWarning: Glyph 129514 (\\N{TEST TUBE}) missing from current font.\n",
      "  plt.tight_layout()\n",
      "/usr/local/lib/python3.11/dist-packages/IPython/core/pylabtools.py:151: UserWarning: Glyph 129514 (\\N{TEST TUBE}) missing from current font.\n",
      "  fig.canvas.print_figure(bytes_io, **kw)\n"
     ]
    },
    {
     "data": {
      "image/png": "[encoded data removed]",
      "text/plain": [
       "<Figure size 600x500 with 2 Axes>"
      ]
     },
     "metadata": {},
     "output_type": "display_data"
    }
   ],
   "source": [
    "cm = confusion_matrix(y_test, y_pred)\n",
    "plt.figure(figsize=(6, 5))\n",
    "sns.heatmap(cm, annot=True, fmt='d', cmap='Blues', xticklabels=classes, yticklabels=classes)\n",
    "plt.xlabel(\"Predicted Label\")\n",
    "plt.ylabel(\"True Label\")\n",
    "plt.title(\"🧪 Confusion Matrix\")\n",
    "plt.tight_layout()\n",
    "plt.show()"
   ]
  },
  {
   "cell_type": "markdown",
   "id": "fe789a50",
   "metadata": {
    "papermill": {
     "duration": 0.008359,
     "end_time": "2025-07-16T16:36:07.577773",
     "exception": false,
     "start_time": "2025-07-16T16:36:07.569414",
     "status": "completed"
    },
    "tags": []
   },
   "source": [
    "**CLASSIFICATION REPORT**"
   ]
  },
  {
   "cell_type": "code",
   "execution_count": 19,
   "id": "e0c51825",
   "metadata": {
    "execution": {
     "iopub.execute_input": "2025-07-16T16:36:07.594661Z",
     "iopub.status.busy": "2025-07-16T16:36:07.594328Z",
     "iopub.status.idle": "2025-07-16T16:36:07.612063Z",
     "shell.execute_reply": "2025-07-16T16:36:07.610040Z"
    },
    "papermill": {
     "duration": 0.028955,
     "end_time": "2025-07-16T16:36:07.614466",
     "exception": false,
     "start_time": "2025-07-16T16:36:07.585511",
     "status": "completed"
    },
    "tags": []
   },
   "outputs": [
    {
     "name": "stdout",
     "output_type": "stream",
     "text": [
      "\n",
      "📋 Classification Report:\n",
      "\n",
      "              precision    recall  f1-score   support\n",
      "\n",
      "           0       0.80      0.80      0.80         5\n",
      "           1       0.80      1.00      0.89         4\n",
      "           2       0.67      0.67      0.67         3\n",
      "           3       0.50      0.67      0.57         3\n",
      "           4       0.75      1.00      0.86         3\n",
      "           5       0.00      0.00      0.00         4\n",
      "\n",
      "    accuracy                           0.68        22\n",
      "   macro avg       0.59      0.69      0.63        22\n",
      "weighted avg       0.59      0.68      0.63        22\n",
      "\n"
     ]
    }
   ],
   "source": [
    "print(\"\\n📋 Classification Report:\\n\")\n",
    "print(classification_report(y_test, y_pred, target_names=[str(c) for c in classes]))"
   ]
  },
  {
   "cell_type": "markdown",
   "id": "66cede90",
   "metadata": {
    "papermill": {
     "duration": 0.00851,
     "end_time": "2025-07-16T16:36:07.633657",
     "exception": false,
     "start_time": "2025-07-16T16:36:07.625147",
     "status": "completed"
    },
    "tags": []
   },
   "source": [
    "**ROC CURVE**"
   ]
  },
  {
   "cell_type": "code",
   "execution_count": 20,
   "id": "0b9ac4ab",
   "metadata": {
    "execution": {
     "iopub.execute_input": "2025-07-16T16:36:07.656348Z",
     "iopub.status.busy": "2025-07-16T16:36:07.656031Z",
     "iopub.status.idle": "2025-07-16T16:36:07.959731Z",
     "shell.execute_reply": "2025-07-16T16:36:07.958794Z"
    },
    "papermill": {
     "duration": 0.315395,
     "end_time": "2025-07-16T16:36:07.961415",
     "exception": false,
     "start_time": "2025-07-16T16:36:07.646020",
     "status": "completed"
    },
    "tags": []
   },
   "outputs": [
    {
     "name": "stderr",
     "output_type": "stream",
     "text": [
      "/tmp/ipykernel_13/2405499489.py:15: UserWarning: Glyph 128678 (\\N{VERTICAL TRAFFIC LIGHT}) missing from current font.\n",
      "  plt.tight_layout()\n",
      "/usr/local/lib/python3.11/dist-packages/IPython/core/pylabtools.py:151: UserWarning: Glyph 128678 (\\N{VERTICAL TRAFFIC LIGHT}) missing from current font.\n",
      "  fig.canvas.print_figure(bytes_io, **kw)\n"
     ]
    },
    {
     "data": {
      "image/png": "[encoded data removed]",
      "text/plain": [
       "<Figure size 800x600 with 1 Axes>"
      ]
     },
     "metadata": {},
     "output_type": "display_data"
    }
   ],
   "source": [
    "fpr = dict()\n",
    "tpr = dict()\n",
    "\n",
    "plt.figure(figsize=(8, 6))\n",
    "for i, class_label in enumerate(classes):\n",
    "    fpr[i], tpr[i], _ = roc_curve(y_test_bin[:, i], y_prob[:, i])\n",
    "    plt.plot(fpr[i], tpr[i], label=f\"Class {class_label} (AUC = {roc_auc_score(y_test_bin[:, i], y_prob[:, i]):.2f})\")\n",
    "\n",
    "plt.plot([0, 1], [0, 1], 'k--', label=\"Chance\")\n",
    "plt.xlabel(\"False Positive Rate\")\n",
    "plt.ylabel(\"True Positive Rate\")\n",
    "plt.title(\"🚦 ROC Curves (One-vs-Rest)\")\n",
    "plt.legend(loc=\"lower right\")\n",
    "plt.grid(True)\n",
    "plt.tight_layout()\n",
    "plt.show()"
   ]
  }
 ],
 "metadata": {
  "kaggle": {
   "accelerator": "none",
   "dataSources": [
    {
     "datasetId": 5316058,
     "sourceId": 8835594,
     "sourceType": "datasetVersion"
    }
   ],
   "dockerImageVersionId": 31089,
   "isGpuEnabled": false,
   "isInternetEnabled": true,
   "language": "python",
   "sourceType": "notebook"
  },
  "kernelspec": {
   "display_name": "Python 3",
   "language": "python",
   "name": "python3"
  },
  "language_info": {
   "codemirror_mode": {
    "name": "ipython",
    "version": 3
   },
   "file_extension": ".py",
   "mimetype": "text/x-python",
   "name": "python",
   "nbconvert_exporter": "python",
   "pygments_lexer": "ipython3",
   "version": "3.11.13"
  },
  "papermill": {
   "default_parameters": {},
   "duration": 12.87368,
   "end_time": "2025-07-16T16:36:08.793819",
   "environment_variables": {},
   "exception": null,
   "input_path": "__notebook__.ipynb",
   "output_path": "__notebook__.ipynb",
   "parameters": {},
   "start_time": "2025-07-16T16:35:55.920139",
   "version": "2.6.0"
  }
 },
 "nbformat": 4,
 "nbformat_minor": 5
}
