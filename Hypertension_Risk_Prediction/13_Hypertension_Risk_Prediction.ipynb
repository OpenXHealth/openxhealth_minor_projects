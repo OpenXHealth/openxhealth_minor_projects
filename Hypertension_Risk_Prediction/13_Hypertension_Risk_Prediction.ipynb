{
 "cells": [
  {
   "cell_type": "markdown",
   "id": "0123aa44",
   "metadata": {
    "papermill": {
     "duration": 0.003985,
     "end_time": "2025-07-21T17:48:04.710199",
     "exception": false,
     "start_time": "2025-07-21T17:48:04.706214",
     "status": "completed"
    },
    "tags": []
   },
   "source": [
    "# HYPERTENSION PREDICTION"
   ]
  },
  {
   "cell_type": "markdown",
   "id": "d1db3142",
   "metadata": {
    "papermill": {
     "duration": 0.003005,
     "end_time": "2025-07-21T17:48:04.716619",
     "exception": false,
     "start_time": "2025-07-21T17:48:04.713614",
     "status": "completed"
    },
    "tags": []
   },
   "source": [
    "# Import Libraries"
   ]
  },
  {
   "cell_type": "code",
   "execution_count": 1,
   "id": "b240f41c",
   "metadata": {
    "_cell_guid": "b1076dfc-b9ad-4769-8c92-a6c4dae69d19",
    "_uuid": "8f2839f25d086af736a60e9eeb907d3b93b6e0e5",
    "execution": {
     "iopub.execute_input": "2025-07-21T17:48:04.724396Z",
     "iopub.status.busy": "2025-07-21T17:48:04.723764Z",
     "iopub.status.idle": "2025-07-21T17:48:08.051546Z",
     "shell.execute_reply": "2025-07-21T17:48:08.050755Z"
    },
    "papermill": {
     "duration": 3.333235,
     "end_time": "2025-07-21T17:48:08.052940",
     "exception": false,
     "start_time": "2025-07-21T17:48:04.719705",
     "status": "completed"
    },
    "tags": []
   },
   "outputs": [],
   "source": [
    "import numpy as np \n",
    "import pandas as pd \n",
    "import matplotlib.pyplot as plt \n",
    "import seaborn as sns \n",
    "from sklearn.preprocessing import LabelEncoder\n",
    "from sklearn.model_selection import train_test_split\n",
    "from sklearn.ensemble import GradientBoostingClassifier\n",
    "from sklearn.metrics import (\n",
    "    accuracy_score,\n",
    "    precision_score,\n",
    "    recall_score,\n",
    "    f1_score,\n",
    "    classification_report,\n",
    "    confusion_matrix,\n",
    "    roc_auc_score,\n",
    "    roc_curve,\n",
    "    ConfusionMatrixDisplay\n",
    ")"
   ]
  },
  {
   "cell_type": "markdown",
   "id": "6e699bc2",
   "metadata": {
    "papermill": {
     "duration": 0.003022,
     "end_time": "2025-07-21T17:48:08.059519",
     "exception": false,
     "start_time": "2025-07-21T17:48:08.056497",
     "status": "completed"
    },
    "tags": []
   },
   "source": [
    "# Load Data "
   ]
  },
  {
   "cell_type": "code",
   "execution_count": 2,
   "id": "fd23e2a0",
   "metadata": {
    "execution": {
     "iopub.execute_input": "2025-07-21T17:48:08.067069Z",
     "iopub.status.busy": "2025-07-21T17:48:08.066353Z",
     "iopub.status.idle": "2025-07-21T17:48:08.105738Z",
     "shell.execute_reply": "2025-07-21T17:48:08.105104Z"
    },
    "papermill": {
     "duration": 0.044151,
     "end_time": "2025-07-21T17:48:08.106782",
     "exception": false,
     "start_time": "2025-07-21T17:48:08.062631",
     "status": "completed"
    },
    "tags": []
   },
   "outputs": [
    {
     "data": {
      "text/html": [
       "<div>\n",
       "<style scoped>\n",
       "    .dataframe tbody tr th:only-of-type {\n",
       "        vertical-align: middle;\n",
       "    }\n",
       "\n",
       "    .dataframe tbody tr th {\n",
       "        vertical-align: top;\n",
       "    }\n",
       "\n",
       "    .dataframe thead th {\n",
       "        text-align: right;\n",
       "    }\n",
       "</style>\n",
       "<table border=\"1\" class=\"dataframe\">\n",
       "  <thead>\n",
       "    <tr style=\"text-align: right;\">\n",
       "      <th></th>\n",
       "      <th>Age</th>\n",
       "      <th>Salt_Intake</th>\n",
       "      <th>Stress_Score</th>\n",
       "      <th>BP_History</th>\n",
       "      <th>Sleep_Duration</th>\n",
       "      <th>BMI</th>\n",
       "      <th>Medication</th>\n",
       "      <th>Family_History</th>\n",
       "      <th>Exercise_Level</th>\n",
       "      <th>Smoking_Status</th>\n",
       "      <th>Has_Hypertension</th>\n",
       "    </tr>\n",
       "  </thead>\n",
       "  <tbody>\n",
       "    <tr>\n",
       "      <th>0</th>\n",
       "      <td>69</td>\n",
       "      <td>8.0</td>\n",
       "      <td>9</td>\n",
       "      <td>Normal</td>\n",
       "      <td>6.4</td>\n",
       "      <td>25.8</td>\n",
       "      <td>NaN</td>\n",
       "      <td>Yes</td>\n",
       "      <td>Low</td>\n",
       "      <td>Non-Smoker</td>\n",
       "      <td>Yes</td>\n",
       "    </tr>\n",
       "    <tr>\n",
       "      <th>1</th>\n",
       "      <td>32</td>\n",
       "      <td>11.7</td>\n",
       "      <td>10</td>\n",
       "      <td>Normal</td>\n",
       "      <td>5.4</td>\n",
       "      <td>23.4</td>\n",
       "      <td>NaN</td>\n",
       "      <td>No</td>\n",
       "      <td>Low</td>\n",
       "      <td>Non-Smoker</td>\n",
       "      <td>No</td>\n",
       "    </tr>\n",
       "    <tr>\n",
       "      <th>2</th>\n",
       "      <td>78</td>\n",
       "      <td>9.5</td>\n",
       "      <td>3</td>\n",
       "      <td>Normal</td>\n",
       "      <td>7.1</td>\n",
       "      <td>18.7</td>\n",
       "      <td>NaN</td>\n",
       "      <td>No</td>\n",
       "      <td>Moderate</td>\n",
       "      <td>Non-Smoker</td>\n",
       "      <td>No</td>\n",
       "    </tr>\n",
       "    <tr>\n",
       "      <th>3</th>\n",
       "      <td>38</td>\n",
       "      <td>10.0</td>\n",
       "      <td>10</td>\n",
       "      <td>Hypertension</td>\n",
       "      <td>4.2</td>\n",
       "      <td>22.1</td>\n",
       "      <td>ACE Inhibitor</td>\n",
       "      <td>No</td>\n",
       "      <td>Low</td>\n",
       "      <td>Non-Smoker</td>\n",
       "      <td>Yes</td>\n",
       "    </tr>\n",
       "    <tr>\n",
       "      <th>4</th>\n",
       "      <td>41</td>\n",
       "      <td>9.8</td>\n",
       "      <td>1</td>\n",
       "      <td>Prehypertension</td>\n",
       "      <td>5.8</td>\n",
       "      <td>16.2</td>\n",
       "      <td>Other</td>\n",
       "      <td>No</td>\n",
       "      <td>Moderate</td>\n",
       "      <td>Non-Smoker</td>\n",
       "      <td>No</td>\n",
       "    </tr>\n",
       "  </tbody>\n",
       "</table>\n",
       "</div>"
      ],
      "text/plain": [
       "   Age  Salt_Intake  Stress_Score       BP_History  Sleep_Duration   BMI  \\\n",
       "0   69          8.0             9           Normal             6.4  25.8   \n",
       "1   32         11.7            10           Normal             5.4  23.4   \n",
       "2   78          9.5             3           Normal             7.1  18.7   \n",
       "3   38         10.0            10     Hypertension             4.2  22.1   \n",
       "4   41          9.8             1  Prehypertension             5.8  16.2   \n",
       "\n",
       "      Medication Family_History Exercise_Level Smoking_Status Has_Hypertension  \n",
       "0            NaN            Yes            Low     Non-Smoker              Yes  \n",
       "1            NaN             No            Low     Non-Smoker               No  \n",
       "2            NaN             No       Moderate     Non-Smoker               No  \n",
       "3  ACE Inhibitor             No            Low     Non-Smoker              Yes  \n",
       "4          Other             No       Moderate     Non-Smoker               No  "
      ]
     },
     "execution_count": 2,
     "metadata": {},
     "output_type": "execute_result"
    }
   ],
   "source": [
    "df = pd.read_csv(\"/kaggle/input/hypertension-risk-prediction-dataset/hypertension_dataset.csv\")\n",
    "df.head()"
   ]
  },
  {
   "cell_type": "markdown",
   "id": "e2b72de8",
   "metadata": {
    "papermill": {
     "duration": 0.003084,
     "end_time": "2025-07-21T17:48:08.113230",
     "exception": false,
     "start_time": "2025-07-21T17:48:08.110146",
     "status": "completed"
    },
    "tags": []
   },
   "source": [
    "# Data Analysis "
   ]
  },
  {
   "cell_type": "code",
   "execution_count": 3,
   "id": "a90d3c87",
   "metadata": {
    "execution": {
     "iopub.execute_input": "2025-07-21T17:48:08.120682Z",
     "iopub.status.busy": "2025-07-21T17:48:08.120291Z",
     "iopub.status.idle": "2025-07-21T17:48:08.124231Z",
     "shell.execute_reply": "2025-07-21T17:48:08.123729Z"
    },
    "papermill": {
     "duration": 0.00877,
     "end_time": "2025-07-21T17:48:08.125249",
     "exception": false,
     "start_time": "2025-07-21T17:48:08.116479",
     "status": "completed"
    },
    "tags": []
   },
   "outputs": [
    {
     "data": {
      "text/plain": [
       "21835"
      ]
     },
     "execution_count": 3,
     "metadata": {},
     "output_type": "execute_result"
    }
   ],
   "source": [
    "df.size"
   ]
  },
  {
   "cell_type": "code",
   "execution_count": 4,
   "id": "042e12af",
   "metadata": {
    "execution": {
     "iopub.execute_input": "2025-07-21T17:48:08.133249Z",
     "iopub.status.busy": "2025-07-21T17:48:08.133076Z",
     "iopub.status.idle": "2025-07-21T17:48:08.138669Z",
     "shell.execute_reply": "2025-07-21T17:48:08.138046Z"
    },
    "papermill": {
     "duration": 0.011147,
     "end_time": "2025-07-21T17:48:08.139688",
     "exception": false,
     "start_time": "2025-07-21T17:48:08.128541",
     "status": "completed"
    },
    "tags": []
   },
   "outputs": [
    {
     "data": {
      "text/plain": [
       "Age                   0\n",
       "Salt_Intake           0\n",
       "Stress_Score          0\n",
       "BP_History            0\n",
       "Sleep_Duration        0\n",
       "BMI                   0\n",
       "Medication          799\n",
       "Family_History        0\n",
       "Exercise_Level        0\n",
       "Smoking_Status        0\n",
       "Has_Hypertension      0\n",
       "dtype: int64"
      ]
     },
     "execution_count": 4,
     "metadata": {},
     "output_type": "execute_result"
    }
   ],
   "source": [
    "df.isnull().sum()"
   ]
  },
  {
   "cell_type": "code",
   "execution_count": 5,
   "id": "6c6d5e93",
   "metadata": {
    "execution": {
     "iopub.execute_input": "2025-07-21T17:48:08.147567Z",
     "iopub.status.busy": "2025-07-21T17:48:08.147152Z",
     "iopub.status.idle": "2025-07-21T17:48:08.165656Z",
     "shell.execute_reply": "2025-07-21T17:48:08.164870Z"
    },
    "papermill": {
     "duration": 0.023521,
     "end_time": "2025-07-21T17:48:08.166690",
     "exception": false,
     "start_time": "2025-07-21T17:48:08.143169",
     "status": "completed"
    },
    "tags": []
   },
   "outputs": [
    {
     "name": "stdout",
     "output_type": "stream",
     "text": [
      "<class 'pandas.core.frame.DataFrame'>\n",
      "RangeIndex: 1985 entries, 0 to 1984\n",
      "Data columns (total 11 columns):\n",
      " #   Column            Non-Null Count  Dtype  \n",
      "---  ------            --------------  -----  \n",
      " 0   Age               1985 non-null   int64  \n",
      " 1   Salt_Intake       1985 non-null   float64\n",
      " 2   Stress_Score      1985 non-null   int64  \n",
      " 3   BP_History        1985 non-null   object \n",
      " 4   Sleep_Duration    1985 non-null   float64\n",
      " 5   BMI               1985 non-null   float64\n",
      " 6   Medication        1186 non-null   object \n",
      " 7   Family_History    1985 non-null   object \n",
      " 8   Exercise_Level    1985 non-null   object \n",
      " 9   Smoking_Status    1985 non-null   object \n",
      " 10  Has_Hypertension  1985 non-null   object \n",
      "dtypes: float64(3), int64(2), object(6)\n",
      "memory usage: 170.7+ KB\n"
     ]
    }
   ],
   "source": [
    "df.info()"
   ]
  },
  {
   "cell_type": "code",
   "execution_count": 6,
   "id": "1b1ab29b",
   "metadata": {
    "execution": {
     "iopub.execute_input": "2025-07-21T17:48:08.174490Z",
     "iopub.status.busy": "2025-07-21T17:48:08.174296Z",
     "iopub.status.idle": "2025-07-21T17:48:08.191121Z",
     "shell.execute_reply": "2025-07-21T17:48:08.190530Z"
    },
    "papermill": {
     "duration": 0.021847,
     "end_time": "2025-07-21T17:48:08.192156",
     "exception": false,
     "start_time": "2025-07-21T17:48:08.170309",
     "status": "completed"
    },
    "tags": []
   },
   "outputs": [
    {
     "data": {
      "text/html": [
       "<div>\n",
       "<style scoped>\n",
       "    .dataframe tbody tr th:only-of-type {\n",
       "        vertical-align: middle;\n",
       "    }\n",
       "\n",
       "    .dataframe tbody tr th {\n",
       "        vertical-align: top;\n",
       "    }\n",
       "\n",
       "    .dataframe thead th {\n",
       "        text-align: right;\n",
       "    }\n",
       "</style>\n",
       "<table border=\"1\" class=\"dataframe\">\n",
       "  <thead>\n",
       "    <tr style=\"text-align: right;\">\n",
       "      <th></th>\n",
       "      <th>Age</th>\n",
       "      <th>Salt_Intake</th>\n",
       "      <th>Stress_Score</th>\n",
       "      <th>Sleep_Duration</th>\n",
       "      <th>BMI</th>\n",
       "    </tr>\n",
       "  </thead>\n",
       "  <tbody>\n",
       "    <tr>\n",
       "      <th>count</th>\n",
       "      <td>1985.000000</td>\n",
       "      <td>1985.000000</td>\n",
       "      <td>1985.000000</td>\n",
       "      <td>1985.000000</td>\n",
       "      <td>1985.000000</td>\n",
       "    </tr>\n",
       "    <tr>\n",
       "      <th>mean</th>\n",
       "      <td>50.341058</td>\n",
       "      <td>8.531688</td>\n",
       "      <td>4.979345</td>\n",
       "      <td>6.452242</td>\n",
       "      <td>26.015315</td>\n",
       "    </tr>\n",
       "    <tr>\n",
       "      <th>std</th>\n",
       "      <td>19.442042</td>\n",
       "      <td>1.994907</td>\n",
       "      <td>3.142303</td>\n",
       "      <td>1.542207</td>\n",
       "      <td>4.512857</td>\n",
       "    </tr>\n",
       "    <tr>\n",
       "      <th>min</th>\n",
       "      <td>18.000000</td>\n",
       "      <td>2.500000</td>\n",
       "      <td>0.000000</td>\n",
       "      <td>1.500000</td>\n",
       "      <td>11.900000</td>\n",
       "    </tr>\n",
       "    <tr>\n",
       "      <th>25%</th>\n",
       "      <td>34.000000</td>\n",
       "      <td>7.200000</td>\n",
       "      <td>2.000000</td>\n",
       "      <td>5.400000</td>\n",
       "      <td>23.000000</td>\n",
       "    </tr>\n",
       "    <tr>\n",
       "      <th>50%</th>\n",
       "      <td>50.000000</td>\n",
       "      <td>8.500000</td>\n",
       "      <td>5.000000</td>\n",
       "      <td>6.500000</td>\n",
       "      <td>25.900000</td>\n",
       "    </tr>\n",
       "    <tr>\n",
       "      <th>75%</th>\n",
       "      <td>67.000000</td>\n",
       "      <td>9.900000</td>\n",
       "      <td>8.000000</td>\n",
       "      <td>7.500000</td>\n",
       "      <td>29.100000</td>\n",
       "    </tr>\n",
       "    <tr>\n",
       "      <th>max</th>\n",
       "      <td>84.000000</td>\n",
       "      <td>16.400000</td>\n",
       "      <td>10.000000</td>\n",
       "      <td>11.400000</td>\n",
       "      <td>41.900000</td>\n",
       "    </tr>\n",
       "  </tbody>\n",
       "</table>\n",
       "</div>"
      ],
      "text/plain": [
       "               Age  Salt_Intake  Stress_Score  Sleep_Duration          BMI\n",
       "count  1985.000000  1985.000000   1985.000000     1985.000000  1985.000000\n",
       "mean     50.341058     8.531688      4.979345        6.452242    26.015315\n",
       "std      19.442042     1.994907      3.142303        1.542207     4.512857\n",
       "min      18.000000     2.500000      0.000000        1.500000    11.900000\n",
       "25%      34.000000     7.200000      2.000000        5.400000    23.000000\n",
       "50%      50.000000     8.500000      5.000000        6.500000    25.900000\n",
       "75%      67.000000     9.900000      8.000000        7.500000    29.100000\n",
       "max      84.000000    16.400000     10.000000       11.400000    41.900000"
      ]
     },
     "execution_count": 6,
     "metadata": {},
     "output_type": "execute_result"
    }
   ],
   "source": [
    "df.describe()"
   ]
  },
  {
   "cell_type": "markdown",
   "id": "9036a81e",
   "metadata": {
    "papermill": {
     "duration": 0.003582,
     "end_time": "2025-07-21T17:48:08.199470",
     "exception": false,
     "start_time": "2025-07-21T17:48:08.195888",
     "status": "completed"
    },
    "tags": []
   },
   "source": [
    "# Data Preprocessing and Splitting "
   ]
  },
  {
   "cell_type": "code",
   "execution_count": 7,
   "id": "6190e32b",
   "metadata": {
    "execution": {
     "iopub.execute_input": "2025-07-21T17:48:08.207386Z",
     "iopub.status.busy": "2025-07-21T17:48:08.207192Z",
     "iopub.status.idle": "2025-07-21T17:48:08.212325Z",
     "shell.execute_reply": "2025-07-21T17:48:08.211627Z"
    },
    "papermill": {
     "duration": 0.010241,
     "end_time": "2025-07-21T17:48:08.213349",
     "exception": false,
     "start_time": "2025-07-21T17:48:08.203108",
     "status": "completed"
    },
    "tags": []
   },
   "outputs": [
    {
     "data": {
      "text/plain": [
       "Medication\n",
       "Beta Blocker     412\n",
       "ACE Inhibitor    323\n",
       "Diuretic         245\n",
       "Other            206\n",
       "Name: count, dtype: int64"
      ]
     },
     "execution_count": 7,
     "metadata": {},
     "output_type": "execute_result"
    }
   ],
   "source": [
    "df.Medication.value_counts()"
   ]
  },
  {
   "cell_type": "code",
   "execution_count": 8,
   "id": "c45eb121",
   "metadata": {
    "execution": {
     "iopub.execute_input": "2025-07-21T17:48:08.221424Z",
     "iopub.status.busy": "2025-07-21T17:48:08.221228Z",
     "iopub.status.idle": "2025-07-21T17:48:08.225350Z",
     "shell.execute_reply": "2025-07-21T17:48:08.224813Z"
    },
    "papermill": {
     "duration": 0.009325,
     "end_time": "2025-07-21T17:48:08.226360",
     "exception": false,
     "start_time": "2025-07-21T17:48:08.217035",
     "status": "completed"
    },
    "tags": []
   },
   "outputs": [
    {
     "data": {
      "text/plain": [
       "799"
      ]
     },
     "execution_count": 8,
     "metadata": {},
     "output_type": "execute_result"
    }
   ],
   "source": [
    "df.Medication.isnull().sum()"
   ]
  },
  {
   "cell_type": "code",
   "execution_count": 9,
   "id": "72af7546",
   "metadata": {
    "execution": {
     "iopub.execute_input": "2025-07-21T17:48:08.234713Z",
     "iopub.status.busy": "2025-07-21T17:48:08.234509Z",
     "iopub.status.idle": "2025-07-21T17:48:08.242636Z",
     "shell.execute_reply": "2025-07-21T17:48:08.242174Z"
    },
    "papermill": {
     "duration": 0.013433,
     "end_time": "2025-07-21T17:48:08.243686",
     "exception": false,
     "start_time": "2025-07-21T17:48:08.230253",
     "status": "completed"
    },
    "tags": []
   },
   "outputs": [],
   "source": [
    "df = df.dropna(subset=[\"Medication\"]).reset_index(drop=True)"
   ]
  },
  {
   "cell_type": "code",
   "execution_count": 10,
   "id": "8cad5731",
   "metadata": {
    "execution": {
     "iopub.execute_input": "2025-07-21T17:48:08.251986Z",
     "iopub.status.busy": "2025-07-21T17:48:08.251781Z",
     "iopub.status.idle": "2025-07-21T17:48:08.256260Z",
     "shell.execute_reply": "2025-07-21T17:48:08.255703Z"
    },
    "papermill": {
     "duration": 0.009702,
     "end_time": "2025-07-21T17:48:08.257252",
     "exception": false,
     "start_time": "2025-07-21T17:48:08.247550",
     "status": "completed"
    },
    "tags": []
   },
   "outputs": [
    {
     "data": {
      "text/plain": [
       "0"
      ]
     },
     "execution_count": 10,
     "metadata": {},
     "output_type": "execute_result"
    }
   ],
   "source": [
    "df.Medication.isnull().sum()"
   ]
  },
  {
   "cell_type": "code",
   "execution_count": 11,
   "id": "13590f44",
   "metadata": {
    "execution": {
     "iopub.execute_input": "2025-07-21T17:48:08.265882Z",
     "iopub.status.busy": "2025-07-21T17:48:08.265681Z",
     "iopub.status.idle": "2025-07-21T17:48:08.273450Z",
     "shell.execute_reply": "2025-07-21T17:48:08.272900Z"
    },
    "papermill": {
     "duration": 0.013151,
     "end_time": "2025-07-21T17:48:08.274443",
     "exception": false,
     "start_time": "2025-07-21T17:48:08.261292",
     "status": "completed"
    },
    "tags": []
   },
   "outputs": [],
   "source": [
    "label_cols = ['BP_History', 'Medication', 'Family_History', 'Exercise_Level', 'Smoking_Status', 'Has_Hypertension']\n",
    "\n",
    "le = LabelEncoder()\n",
    "for col in label_cols:\n",
    "    df[col] = le.fit_transform(df[col].astype(str))  # Convert to string in case of NaNs or mixed types"
   ]
  },
  {
   "cell_type": "code",
   "execution_count": 12,
   "id": "0ade35cf",
   "metadata": {
    "execution": {
     "iopub.execute_input": "2025-07-21T17:48:08.283192Z",
     "iopub.status.busy": "2025-07-21T17:48:08.282946Z",
     "iopub.status.idle": "2025-07-21T17:48:08.291653Z",
     "shell.execute_reply": "2025-07-21T17:48:08.291170Z"
    },
    "papermill": {
     "duration": 0.014164,
     "end_time": "2025-07-21T17:48:08.292693",
     "exception": false,
     "start_time": "2025-07-21T17:48:08.278529",
     "status": "completed"
    },
    "tags": []
   },
   "outputs": [
    {
     "data": {
      "text/html": [
       "<div>\n",
       "<style scoped>\n",
       "    .dataframe tbody tr th:only-of-type {\n",
       "        vertical-align: middle;\n",
       "    }\n",
       "\n",
       "    .dataframe tbody tr th {\n",
       "        vertical-align: top;\n",
       "    }\n",
       "\n",
       "    .dataframe thead th {\n",
       "        text-align: right;\n",
       "    }\n",
       "</style>\n",
       "<table border=\"1\" class=\"dataframe\">\n",
       "  <thead>\n",
       "    <tr style=\"text-align: right;\">\n",
       "      <th></th>\n",
       "      <th>Age</th>\n",
       "      <th>Salt_Intake</th>\n",
       "      <th>Stress_Score</th>\n",
       "      <th>BP_History</th>\n",
       "      <th>Sleep_Duration</th>\n",
       "      <th>BMI</th>\n",
       "      <th>Medication</th>\n",
       "      <th>Family_History</th>\n",
       "      <th>Exercise_Level</th>\n",
       "      <th>Smoking_Status</th>\n",
       "      <th>Has_Hypertension</th>\n",
       "    </tr>\n",
       "  </thead>\n",
       "  <tbody>\n",
       "    <tr>\n",
       "      <th>0</th>\n",
       "      <td>38</td>\n",
       "      <td>10.0</td>\n",
       "      <td>10</td>\n",
       "      <td>0</td>\n",
       "      <td>4.2</td>\n",
       "      <td>22.1</td>\n",
       "      <td>0</td>\n",
       "      <td>0</td>\n",
       "      <td>1</td>\n",
       "      <td>0</td>\n",
       "      <td>1</td>\n",
       "    </tr>\n",
       "    <tr>\n",
       "      <th>1</th>\n",
       "      <td>41</td>\n",
       "      <td>9.8</td>\n",
       "      <td>1</td>\n",
       "      <td>2</td>\n",
       "      <td>5.8</td>\n",
       "      <td>16.2</td>\n",
       "      <td>3</td>\n",
       "      <td>0</td>\n",
       "      <td>2</td>\n",
       "      <td>0</td>\n",
       "      <td>0</td>\n",
       "    </tr>\n",
       "    <tr>\n",
       "      <th>2</th>\n",
       "      <td>20</td>\n",
       "      <td>10.8</td>\n",
       "      <td>3</td>\n",
       "      <td>0</td>\n",
       "      <td>5.2</td>\n",
       "      <td>21.9</td>\n",
       "      <td>1</td>\n",
       "      <td>1</td>\n",
       "      <td>0</td>\n",
       "      <td>0</td>\n",
       "      <td>1</td>\n",
       "    </tr>\n",
       "    <tr>\n",
       "      <th>3</th>\n",
       "      <td>39</td>\n",
       "      <td>8.9</td>\n",
       "      <td>0</td>\n",
       "      <td>1</td>\n",
       "      <td>7.8</td>\n",
       "      <td>27.6</td>\n",
       "      <td>1</td>\n",
       "      <td>1</td>\n",
       "      <td>0</td>\n",
       "      <td>0</td>\n",
       "      <td>0</td>\n",
       "    </tr>\n",
       "    <tr>\n",
       "      <th>4</th>\n",
       "      <td>19</td>\n",
       "      <td>9.3</td>\n",
       "      <td>7</td>\n",
       "      <td>1</td>\n",
       "      <td>4.7</td>\n",
       "      <td>36.5</td>\n",
       "      <td>1</td>\n",
       "      <td>1</td>\n",
       "      <td>1</td>\n",
       "      <td>1</td>\n",
       "      <td>1</td>\n",
       "    </tr>\n",
       "  </tbody>\n",
       "</table>\n",
       "</div>"
      ],
      "text/plain": [
       "   Age  Salt_Intake  Stress_Score  BP_History  Sleep_Duration   BMI  \\\n",
       "0   38         10.0            10           0             4.2  22.1   \n",
       "1   41          9.8             1           2             5.8  16.2   \n",
       "2   20         10.8             3           0             5.2  21.9   \n",
       "3   39          8.9             0           1             7.8  27.6   \n",
       "4   19          9.3             7           1             4.7  36.5   \n",
       "\n",
       "   Medication  Family_History  Exercise_Level  Smoking_Status  \\\n",
       "0           0               0               1               0   \n",
       "1           3               0               2               0   \n",
       "2           1               1               0               0   \n",
       "3           1               1               0               0   \n",
       "4           1               1               1               1   \n",
       "\n",
       "   Has_Hypertension  \n",
       "0                 1  \n",
       "1                 0  \n",
       "2                 1  \n",
       "3                 0  \n",
       "4                 1  "
      ]
     },
     "execution_count": 12,
     "metadata": {},
     "output_type": "execute_result"
    }
   ],
   "source": [
    "df.head()"
   ]
  },
  {
   "cell_type": "code",
   "execution_count": 13,
   "id": "d52fb222",
   "metadata": {
    "execution": {
     "iopub.execute_input": "2025-07-21T17:48:08.302217Z",
     "iopub.status.busy": "2025-07-21T17:48:08.301630Z",
     "iopub.status.idle": "2025-07-21T17:48:08.306108Z",
     "shell.execute_reply": "2025-07-21T17:48:08.305417Z"
    },
    "papermill": {
     "duration": 0.010245,
     "end_time": "2025-07-21T17:48:08.307121",
     "exception": false,
     "start_time": "2025-07-21T17:48:08.296876",
     "status": "completed"
    },
    "tags": []
   },
   "outputs": [],
   "source": [
    "X = df.drop(\"BP_History\",axis=1)\n",
    "y = df[\"BP_History\"]"
   ]
  },
  {
   "cell_type": "code",
   "execution_count": 14,
   "id": "2c7a7a89",
   "metadata": {
    "execution": {
     "iopub.execute_input": "2025-07-21T17:48:08.316170Z",
     "iopub.status.busy": "2025-07-21T17:48:08.315937Z",
     "iopub.status.idle": "2025-07-21T17:48:08.321221Z",
     "shell.execute_reply": "2025-07-21T17:48:08.320713Z"
    },
    "papermill": {
     "duration": 0.010946,
     "end_time": "2025-07-21T17:48:08.322301",
     "exception": false,
     "start_time": "2025-07-21T17:48:08.311355",
     "status": "completed"
    },
    "tags": []
   },
   "outputs": [],
   "source": [
    "X_train, X_test, y_train, y_test = train_test_split(X, y, test_size=0.2, random_state=42)"
   ]
  },
  {
   "cell_type": "markdown",
   "id": "36dd8603",
   "metadata": {
    "papermill": {
     "duration": 0.004142,
     "end_time": "2025-07-21T17:48:08.330694",
     "exception": false,
     "start_time": "2025-07-21T17:48:08.326552",
     "status": "completed"
    },
    "tags": []
   },
   "source": [
    "# Model Implementation "
   ]
  },
  {
   "cell_type": "code",
   "execution_count": 15,
   "id": "44cd4c82",
   "metadata": {
    "execution": {
     "iopub.execute_input": "2025-07-21T17:48:08.339803Z",
     "iopub.status.busy": "2025-07-21T17:48:08.339624Z",
     "iopub.status.idle": "2025-07-21T17:48:08.937034Z",
     "shell.execute_reply": "2025-07-21T17:48:08.936327Z"
    },
    "papermill": {
     "duration": 0.603422,
     "end_time": "2025-07-21T17:48:08.938279",
     "exception": false,
     "start_time": "2025-07-21T17:48:08.334857",
     "status": "completed"
    },
    "tags": []
   },
   "outputs": [],
   "source": [
    "gb_model = GradientBoostingClassifier(n_estimators=100, learning_rate=0.1, max_depth=3, random_state=42)\n",
    "gb_model.fit(X_train, y_train)\n",
    "y_pred = gb_model.predict(X_test)"
   ]
  },
  {
   "cell_type": "markdown",
   "id": "c1dd22f3",
   "metadata": {
    "papermill": {
     "duration": 0.004148,
     "end_time": "2025-07-21T17:48:08.947045",
     "exception": false,
     "start_time": "2025-07-21T17:48:08.942897",
     "status": "completed"
    },
    "tags": []
   },
   "source": [
    "# Evaluation "
   ]
  },
  {
   "cell_type": "markdown",
   "id": "595125c0",
   "metadata": {
    "papermill": {
     "duration": 0.004056,
     "end_time": "2025-07-21T17:48:08.955286",
     "exception": false,
     "start_time": "2025-07-21T17:48:08.951230",
     "status": "completed"
    },
    "tags": []
   },
   "source": [
    "**METRICS**"
   ]
  },
  {
   "cell_type": "code",
   "execution_count": 16,
   "id": "715eecbc",
   "metadata": {
    "execution": {
     "iopub.execute_input": "2025-07-21T17:48:08.964921Z",
     "iopub.status.busy": "2025-07-21T17:48:08.964392Z",
     "iopub.status.idle": "2025-07-21T17:48:08.975087Z",
     "shell.execute_reply": "2025-07-21T17:48:08.974327Z"
    },
    "papermill": {
     "duration": 0.016673,
     "end_time": "2025-07-21T17:48:08.976219",
     "exception": false,
     "start_time": "2025-07-21T17:48:08.959546",
     "status": "completed"
    },
    "tags": []
   },
   "outputs": [
    {
     "name": "stdout",
     "output_type": "stream",
     "text": [
      "🔹 Accuracy:  0.5168\n",
      "🔹 Precision: 0.5029\n",
      "🔹 Recall:    0.5168\n",
      "🔹 F1 Score:  0.5023\n"
     ]
    }
   ],
   "source": [
    "accuracy = accuracy_score(y_test, y_pred)\n",
    "precision = precision_score(y_test, y_pred, average='weighted', zero_division=0)\n",
    "recall = recall_score(y_test, y_pred, average='weighted', zero_division=0)\n",
    "f1 = f1_score(y_test, y_pred, average='weighted', zero_division=0)\n",
    "\n",
    "print(f\"🔹 Accuracy:  {accuracy:.4f}\")\n",
    "print(f\"🔹 Precision: {precision:.4f}\")\n",
    "print(f\"🔹 Recall:    {recall:.4f}\")\n",
    "print(f\"🔹 F1 Score:  {f1:.4f}\")"
   ]
  },
  {
   "cell_type": "markdown",
   "id": "a1f63e51",
   "metadata": {
    "papermill": {
     "duration": 0.004075,
     "end_time": "2025-07-21T17:48:08.984579",
     "exception": false,
     "start_time": "2025-07-21T17:48:08.980504",
     "status": "completed"
    },
    "tags": []
   },
   "source": [
    "**CLASSIFICATION REPORT**"
   ]
  },
  {
   "cell_type": "code",
   "execution_count": 17,
   "id": "b8186ab5",
   "metadata": {
    "execution": {
     "iopub.execute_input": "2025-07-21T17:48:08.993701Z",
     "iopub.status.busy": "2025-07-21T17:48:08.993505Z",
     "iopub.status.idle": "2025-07-21T17:48:09.003071Z",
     "shell.execute_reply": "2025-07-21T17:48:09.002437Z"
    },
    "papermill": {
     "duration": 0.015349,
     "end_time": "2025-07-21T17:48:09.004098",
     "exception": false,
     "start_time": "2025-07-21T17:48:08.988749",
     "status": "completed"
    },
    "tags": []
   },
   "outputs": [
    {
     "name": "stdout",
     "output_type": "stream",
     "text": [
      "\n",
      "📄 Classification Report:\n",
      "\n",
      "              precision    recall  f1-score   support\n",
      "\n",
      "           0       0.63      0.78      0.70        73\n",
      "           1       0.45      0.49      0.47        87\n",
      "           2       0.44      0.29      0.35        78\n",
      "\n",
      "    accuracy                           0.52       238\n",
      "   macro avg       0.51      0.52      0.51       238\n",
      "weighted avg       0.50      0.52      0.50       238\n",
      "\n"
     ]
    }
   ],
   "source": [
    "print(\"\\n📄 Classification Report:\\n\")\n",
    "print(classification_report(y_test, y_pred, zero_division=0))"
   ]
  },
  {
   "cell_type": "markdown",
   "id": "96b44af9",
   "metadata": {
    "papermill": {
     "duration": 0.004237,
     "end_time": "2025-07-21T17:48:09.012770",
     "exception": false,
     "start_time": "2025-07-21T17:48:09.008533",
     "status": "completed"
    },
    "tags": []
   },
   "source": [
    "**CONFUSION MATRIX**"
   ]
  },
  {
   "cell_type": "code",
   "execution_count": 18,
   "id": "d4a9a1e9",
   "metadata": {
    "execution": {
     "iopub.execute_input": "2025-07-21T17:48:09.022369Z",
     "iopub.status.busy": "2025-07-21T17:48:09.022179Z",
     "iopub.status.idle": "2025-07-21T17:48:09.260415Z",
     "shell.execute_reply": "2025-07-21T17:48:09.259777Z"
    },
    "papermill": {
     "duration": 0.244097,
     "end_time": "2025-07-21T17:48:09.261441",
     "exception": false,
     "start_time": "2025-07-21T17:48:09.017344",
     "status": "completed"
    },
    "tags": []
   },
   "outputs": [
    {
     "data": {
      "image/png": "[encoded data removed]",
      "text/plain": [
       "<Figure size 640x480 with 2 Axes>"
      ]
     },
     "metadata": {},
     "output_type": "display_data"
    }
   ],
   "source": [
    "cm = confusion_matrix(y_test, y_pred)\n",
    "disp = ConfusionMatrixDisplay(confusion_matrix=cm)\n",
    "disp.plot(cmap=\"Blues\")\n",
    "plt.title(\"Confusion Matrix\")\n",
    "plt.show()"
   ]
  },
  {
   "cell_type": "markdown",
   "id": "54a4914d",
   "metadata": {
    "papermill": {
     "duration": 0.004811,
     "end_time": "2025-07-21T17:48:09.271289",
     "exception": false,
     "start_time": "2025-07-21T17:48:09.266478",
     "status": "completed"
    },
    "tags": []
   },
   "source": [
    "**ROC CURVE**"
   ]
  },
  {
   "cell_type": "code",
   "execution_count": 19,
   "id": "8feb0ee0",
   "metadata": {
    "execution": {
     "iopub.execute_input": "2025-07-21T17:48:09.281381Z",
     "iopub.status.busy": "2025-07-21T17:48:09.281185Z",
     "iopub.status.idle": "2025-07-21T17:48:09.285443Z",
     "shell.execute_reply": "2025-07-21T17:48:09.284962Z"
    },
    "papermill": {
     "duration": 0.010473,
     "end_time": "2025-07-21T17:48:09.286443",
     "exception": false,
     "start_time": "2025-07-21T17:48:09.275970",
     "status": "completed"
    },
    "tags": []
   },
   "outputs": [],
   "source": [
    "if len(set(y_test)) == 2:\n",
    "    y_probs = gb_model.predict_proba(X_test)[:, 1]  # probability for class 1\n",
    "    auc = roc_auc_score(y_test, y_probs)\n",
    "    fpr, tpr, _ = roc_curve(y_test, y_probs)\n",
    "    \n",
    "    print(f\"\\n🔹 ROC AUC Score: {auc:.4f}\")\n",
    "\n",
    "    # Plot ROC Curve\n",
    "    plt.figure()\n",
    "    plt.plot(fpr, tpr, label=f\"AUC = {auc:.4f}\")\n",
    "    plt.plot([0, 1], [0, 1], linestyle='--', color='gray')\n",
    "    plt.xlabel(\"False Positive Rate\")\n",
    "    plt.ylabel(\"True Positive Rate\")\n",
    "    plt.title(\"ROC Curve\")\n",
    "    plt.legend()\n",
    "    plt.show()"
   ]
  }
 ],
 "metadata": {
  "kaggle": {
   "accelerator": "nvidiaTeslaT4",
   "dataSources": [
    {
     "datasetId": 7903130,
     "sourceId": 12520349,
     "sourceType": "datasetVersion"
    }
   ],
   "dockerImageVersionId": 31090,
   "isGpuEnabled": true,
   "isInternetEnabled": true,
   "language": "python",
   "sourceType": "notebook"
  },
  "kernelspec": {
   "display_name": "Python 3",
   "language": "python",
   "name": "python3"
  },
  "language_info": {
   "codemirror_mode": {
    "name": "ipython",
    "version": 3
   },
   "file_extension": ".py",
   "mimetype": "text/x-python",
   "name": "python",
   "nbconvert_exporter": "python",
   "pygments_lexer": "ipython3",
   "version": "3.11.13"
  },
  "papermill": {
   "default_parameters": {},
   "duration": 8.995115,
   "end_time": "2025-07-21T17:48:09.707717",
   "environment_variables": {},
   "exception": null,
   "input_path": "__notebook__.ipynb",
   "output_path": "__notebook__.ipynb",
   "parameters": {},
   "start_time": "2025-07-21T17:48:00.712602",
   "version": "2.6.0"
  }
 },
 "nbformat": 4,
 "nbformat_minor": 5
}
